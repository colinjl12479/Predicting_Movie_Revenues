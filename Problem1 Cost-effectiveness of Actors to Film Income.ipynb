{
 "cells": [
  {
   "cell_type": "code",
   "execution_count": 3,
   "id": "e160eb25",
   "metadata": {},
   "outputs": [],
   "source": [
    "import warnings\n",
    "warnings.filterwarnings('ignore')\n",
    "import pandas as pd\n",
    "import numpy as np"
   ]
  },
  {
   "cell_type": "code",
   "execution_count": 4,
   "id": "19a75e72",
   "metadata": {},
   "outputs": [],
   "source": [
    "df_credits = pd.read_csv(\"../data/credits.csv\")"
   ]
  },
  {
   "cell_type": "code",
   "execution_count": 5,
   "id": "ff53d553",
   "metadata": {},
   "outputs": [],
   "source": [
    "from ast import literal_eval\n",
    "\n",
    "df_credits['cast'] = df_credits['cast'].apply(literal_eval)"
   ]
  },
  {
   "cell_type": "code",
   "execution_count": 6,
   "id": "276feec0",
   "metadata": {},
   "outputs": [],
   "source": [
    "def get_name_castId(x):\n",
    "    if isinstance(x, list):\n",
    "        names = [i['name'] for i in x]\n",
    "        cast_ids = [i['id'] for i in x]\n",
    "        return [names, cast_ids]\n",
    "    return []"
   ]
  },
  {
   "cell_type": "code",
   "execution_count": 7,
   "id": "d0969d5c",
   "metadata": {},
   "outputs": [
    {
     "data": {
      "text/plain": [
       "[['Tom Hanks',\n",
       "  'Tim Allen',\n",
       "  'Don Rickles',\n",
       "  'Jim Varney',\n",
       "  'Wallace Shawn',\n",
       "  'John Ratzenberger',\n",
       "  'Annie Potts',\n",
       "  'John Morris',\n",
       "  'Erik von Detten',\n",
       "  'Laurie Metcalf',\n",
       "  'R. Lee Ermey',\n",
       "  'Sarah Freeman',\n",
       "  'Penn Jillette'],\n",
       " [31,\n",
       "  12898,\n",
       "  7167,\n",
       "  12899,\n",
       "  12900,\n",
       "  7907,\n",
       "  8873,\n",
       "  1116442,\n",
       "  12901,\n",
       "  12133,\n",
       "  8655,\n",
       "  12903,\n",
       "  37221],\n",
       " 862]"
      ]
     },
     "execution_count": 7,
     "metadata": {},
     "output_type": "execute_result"
    }
   ],
   "source": [
    "cast = df_credits['cast']\n",
    "cast = cast.apply(get_name_castId)\n",
    "ids = list(df_credits['id'])\n",
    "for i in range(len(cast)):\n",
    "    cast[i].append(ids[i])\n",
    "cast[0]"
   ]
  },
  {
   "cell_type": "code",
   "execution_count": 8,
   "id": "691a6de2",
   "metadata": {},
   "outputs": [
    {
     "data": {
      "text/html": [
       "<div>\n",
       "<style scoped>\n",
       "    .dataframe tbody tr th:only-of-type {\n",
       "        vertical-align: middle;\n",
       "    }\n",
       "\n",
       "    .dataframe tbody tr th {\n",
       "        vertical-align: top;\n",
       "    }\n",
       "\n",
       "    .dataframe thead th {\n",
       "        text-align: right;\n",
       "    }\n",
       "</style>\n",
       "<table border=\"1\" class=\"dataframe\">\n",
       "  <thead>\n",
       "    <tr style=\"text-align: right;\">\n",
       "      <th></th>\n",
       "      <th>cast_name</th>\n",
       "      <th>cast_id</th>\n",
       "      <th>movie_id</th>\n",
       "    </tr>\n",
       "  </thead>\n",
       "  <tbody>\n",
       "    <tr>\n",
       "      <th>0</th>\n",
       "      <td>[Tom Hanks, Tim Allen, Don Rickles, Jim Varney...</td>\n",
       "      <td>[31, 12898, 7167, 12899, 12900, 7907, 8873, 11...</td>\n",
       "      <td>862</td>\n",
       "    </tr>\n",
       "    <tr>\n",
       "      <th>1</th>\n",
       "      <td>[Robin Williams, Jonathan Hyde, Kirsten Dunst,...</td>\n",
       "      <td>[2157, 8537, 205, 145151, 5149, 10739, 58563, ...</td>\n",
       "      <td>8844</td>\n",
       "    </tr>\n",
       "    <tr>\n",
       "      <th>2</th>\n",
       "      <td>[Walter Matthau, Jack Lemmon, Ann-Margret, Sop...</td>\n",
       "      <td>[6837, 3151, 13567, 16757, 589, 16523, 7166]</td>\n",
       "      <td>15602</td>\n",
       "    </tr>\n",
       "    <tr>\n",
       "      <th>3</th>\n",
       "      <td>[Whitney Houston, Angela Bassett, Loretta Devi...</td>\n",
       "      <td>[8851, 9780, 18284, 51359, 66804, 352, 87118, ...</td>\n",
       "      <td>31357</td>\n",
       "    </tr>\n",
       "    <tr>\n",
       "      <th>4</th>\n",
       "      <td>[Steve Martin, Diane Keaton, Martin Short, Kim...</td>\n",
       "      <td>[67773, 3092, 519, 70696, 59222, 18793, 14592,...</td>\n",
       "      <td>11862</td>\n",
       "    </tr>\n",
       "  </tbody>\n",
       "</table>\n",
       "</div>"
      ],
      "text/plain": [
       "                                           cast_name  \\\n",
       "0  [Tom Hanks, Tim Allen, Don Rickles, Jim Varney...   \n",
       "1  [Robin Williams, Jonathan Hyde, Kirsten Dunst,...   \n",
       "2  [Walter Matthau, Jack Lemmon, Ann-Margret, Sop...   \n",
       "3  [Whitney Houston, Angela Bassett, Loretta Devi...   \n",
       "4  [Steve Martin, Diane Keaton, Martin Short, Kim...   \n",
       "\n",
       "                                             cast_id  movie_id  \n",
       "0  [31, 12898, 7167, 12899, 12900, 7907, 8873, 11...       862  \n",
       "1  [2157, 8537, 205, 145151, 5149, 10739, 58563, ...      8844  \n",
       "2       [6837, 3151, 13567, 16757, 589, 16523, 7166]     15602  \n",
       "3  [8851, 9780, 18284, 51359, 66804, 352, 87118, ...     31357  \n",
       "4  [67773, 3092, 519, 70696, 59222, 18793, 14592,...     11862  "
      ]
     },
     "execution_count": 8,
     "metadata": {},
     "output_type": "execute_result"
    }
   ],
   "source": [
    "df = pd.DataFrame()\n",
    "for x in cast:\n",
    "    diction = {'cast_name': x[0], 'cast_id': x[1],'movie_id': x[2]}\n",
    "    df = df.append(diction, ignore_index=True)\n",
    "df.head()"
   ]
  },
  {
   "cell_type": "code",
   "execution_count": 9,
   "id": "2fe2859a",
   "metadata": {},
   "outputs": [],
   "source": [
    "df_movie = pd.read_csv(\"../data/movies_metadata.csv\")"
   ]
  },
  {
   "cell_type": "code",
   "execution_count": 10,
   "id": "c494aea6",
   "metadata": {},
   "outputs": [
    {
     "data": {
      "text/html": [
       "<div>\n",
       "<style scoped>\n",
       "    .dataframe tbody tr th:only-of-type {\n",
       "        vertical-align: middle;\n",
       "    }\n",
       "\n",
       "    .dataframe tbody tr th {\n",
       "        vertical-align: top;\n",
       "    }\n",
       "\n",
       "    .dataframe thead th {\n",
       "        text-align: right;\n",
       "    }\n",
       "</style>\n",
       "<table border=\"1\" class=\"dataframe\">\n",
       "  <thead>\n",
       "    <tr style=\"text-align: right;\">\n",
       "      <th></th>\n",
       "      <th>budget</th>\n",
       "      <th>genres</th>\n",
       "      <th>title</th>\n",
       "      <th>revenue</th>\n",
       "      <th>id</th>\n",
       "    </tr>\n",
       "  </thead>\n",
       "  <tbody>\n",
       "    <tr>\n",
       "      <th>0</th>\n",
       "      <td>30000000</td>\n",
       "      <td>[{'id': 16, 'name': 'Animation'}, {'id': 35, '...</td>\n",
       "      <td>Toy Story</td>\n",
       "      <td>373554033.0</td>\n",
       "      <td>862</td>\n",
       "    </tr>\n",
       "    <tr>\n",
       "      <th>1</th>\n",
       "      <td>65000000</td>\n",
       "      <td>[{'id': 12, 'name': 'Adventure'}, {'id': 14, '...</td>\n",
       "      <td>Jumanji</td>\n",
       "      <td>262797249.0</td>\n",
       "      <td>8844</td>\n",
       "    </tr>\n",
       "    <tr>\n",
       "      <th>2</th>\n",
       "      <td>0</td>\n",
       "      <td>[{'id': 10749, 'name': 'Romance'}, {'id': 35, ...</td>\n",
       "      <td>Grumpier Old Men</td>\n",
       "      <td>0.0</td>\n",
       "      <td>15602</td>\n",
       "    </tr>\n",
       "    <tr>\n",
       "      <th>3</th>\n",
       "      <td>16000000</td>\n",
       "      <td>[{'id': 35, 'name': 'Comedy'}, {'id': 18, 'nam...</td>\n",
       "      <td>Waiting to Exhale</td>\n",
       "      <td>81452156.0</td>\n",
       "      <td>31357</td>\n",
       "    </tr>\n",
       "    <tr>\n",
       "      <th>4</th>\n",
       "      <td>0</td>\n",
       "      <td>[{'id': 35, 'name': 'Comedy'}]</td>\n",
       "      <td>Father of the Bride Part II</td>\n",
       "      <td>76578911.0</td>\n",
       "      <td>11862</td>\n",
       "    </tr>\n",
       "  </tbody>\n",
       "</table>\n",
       "</div>"
      ],
      "text/plain": [
       "     budget                                             genres  \\\n",
       "0  30000000  [{'id': 16, 'name': 'Animation'}, {'id': 35, '...   \n",
       "1  65000000  [{'id': 12, 'name': 'Adventure'}, {'id': 14, '...   \n",
       "2         0  [{'id': 10749, 'name': 'Romance'}, {'id': 35, ...   \n",
       "3  16000000  [{'id': 35, 'name': 'Comedy'}, {'id': 18, 'nam...   \n",
       "4         0                     [{'id': 35, 'name': 'Comedy'}]   \n",
       "\n",
       "                         title      revenue     id  \n",
       "0                    Toy Story  373554033.0    862  \n",
       "1                      Jumanji  262797249.0   8844  \n",
       "2             Grumpier Old Men          0.0  15602  \n",
       "3            Waiting to Exhale   81452156.0  31357  \n",
       "4  Father of the Bride Part II   76578911.0  11862  "
      ]
     },
     "execution_count": 10,
     "metadata": {},
     "output_type": "execute_result"
    }
   ],
   "source": [
    "df_movie = df_movie[[\"budget\",\"genres\",\"title\",\"revenue\",\"id\"]]\n",
    "df_movie.head()"
   ]
  },
  {
   "cell_type": "code",
   "execution_count": 11,
   "id": "3adcf0f0",
   "metadata": {},
   "outputs": [
    {
     "data": {
      "text/plain": [
       "[{'id': 16, 'name': 'Animation'},\n",
       " {'id': 35, 'name': 'Comedy'},\n",
       " {'id': 10751, 'name': 'Family'}]"
      ]
     },
     "execution_count": 11,
     "metadata": {},
     "output_type": "execute_result"
    }
   ],
   "source": [
    "literal_eval(df_movie.genres.values[0])"
   ]
  },
  {
   "cell_type": "code",
   "execution_count": 12,
   "id": "799dbeaa",
   "metadata": {},
   "outputs": [
    {
     "data": {
      "text/plain": [
       "{'Action',\n",
       " 'Adventure',\n",
       " 'Animation',\n",
       " 'Aniplex',\n",
       " 'BROSTA TV',\n",
       " 'Carousel Productions',\n",
       " 'Comedy',\n",
       " 'Crime',\n",
       " 'Documentary',\n",
       " 'Drama',\n",
       " 'Family',\n",
       " 'Fantasy',\n",
       " 'Foreign',\n",
       " 'GoHands',\n",
       " 'History',\n",
       " 'Horror',\n",
       " 'Mardock Scramble Production Committee',\n",
       " 'Music',\n",
       " 'Mystery',\n",
       " 'Odyssey Media',\n",
       " 'Pulser Productions',\n",
       " 'Rogue State',\n",
       " 'Romance',\n",
       " 'Science Fiction',\n",
       " 'Sentai Filmworks',\n",
       " 'TV Movie',\n",
       " 'Telescene Film Group Productions',\n",
       " 'The Cartel',\n",
       " 'Thriller',\n",
       " 'Vision View Entertainment',\n",
       " 'War',\n",
       " 'Western'}"
      ]
     },
     "execution_count": 12,
     "metadata": {},
     "output_type": "execute_result"
    }
   ],
   "source": [
    "uniqueGenres = set([])\n",
    "for i in df_movie.genres.values: # I am looping through all the rows\n",
    "    genList = literal_eval(i) # convert from string to list of dict\n",
    "    for j in genList: # loop through the list of dict\n",
    "        uniqueGenres.add(j[\"name\"]) # add the name of the genre to my uniqueGenres variabe\n",
    "uniqueGenres"
   ]
  },
  {
   "cell_type": "code",
   "execution_count": 13,
   "id": "c6d9eabf",
   "metadata": {},
   "outputs": [],
   "source": [
    "rows = [] # for all the movies\n",
    "genres = list(uniqueGenres) # all unique Genres\n",
    "\n",
    "for i in df_movie.genres: #looping through all the rows/movies\n",
    "  genList = literal_eval(i) #converting from string to list of dict for a particular movie\n",
    "  movieGenres = [x['name'] for x in genList] # list of all the genres of the movie\n",
    "  row = [] # store a list of 1s and 0s for one movie\n",
    "  for j in genres: #loop through all unique genres\n",
    "    row.append(int(j in movieGenres)) #checking if the genre is present in that movie - if the genre is present 1 else 0\n",
    "  rows.append(row)"
   ]
  },
  {
   "cell_type": "code",
   "execution_count": 14,
   "id": "97c4c1ab",
   "metadata": {},
   "outputs": [
    {
     "data": {
      "text/html": [
       "<div>\n",
       "<style scoped>\n",
       "    .dataframe tbody tr th:only-of-type {\n",
       "        vertical-align: middle;\n",
       "    }\n",
       "\n",
       "    .dataframe tbody tr th {\n",
       "        vertical-align: top;\n",
       "    }\n",
       "\n",
       "    .dataframe thead th {\n",
       "        text-align: right;\n",
       "    }\n",
       "</style>\n",
       "<table border=\"1\" class=\"dataframe\">\n",
       "  <thead>\n",
       "    <tr style=\"text-align: right;\">\n",
       "      <th></th>\n",
       "      <th>Vision View Entertainment</th>\n",
       "      <th>The Cartel</th>\n",
       "      <th>TV Movie</th>\n",
       "      <th>Romance</th>\n",
       "      <th>Pulser Productions</th>\n",
       "      <th>Mardock Scramble Production Committee</th>\n",
       "      <th>Family</th>\n",
       "      <th>History</th>\n",
       "      <th>Music</th>\n",
       "      <th>Action</th>\n",
       "      <th>...</th>\n",
       "      <th>Carousel Productions</th>\n",
       "      <th>Thriller</th>\n",
       "      <th>BROSTA TV</th>\n",
       "      <th>Aniplex</th>\n",
       "      <th>Fantasy</th>\n",
       "      <th>Adventure</th>\n",
       "      <th>Western</th>\n",
       "      <th>Science Fiction</th>\n",
       "      <th>Sentai Filmworks</th>\n",
       "      <th>Odyssey Media</th>\n",
       "    </tr>\n",
       "  </thead>\n",
       "  <tbody>\n",
       "    <tr>\n",
       "      <th>0</th>\n",
       "      <td>0</td>\n",
       "      <td>0</td>\n",
       "      <td>0</td>\n",
       "      <td>0</td>\n",
       "      <td>0</td>\n",
       "      <td>0</td>\n",
       "      <td>1</td>\n",
       "      <td>0</td>\n",
       "      <td>0</td>\n",
       "      <td>0</td>\n",
       "      <td>...</td>\n",
       "      <td>0</td>\n",
       "      <td>0</td>\n",
       "      <td>0</td>\n",
       "      <td>0</td>\n",
       "      <td>0</td>\n",
       "      <td>0</td>\n",
       "      <td>0</td>\n",
       "      <td>0</td>\n",
       "      <td>0</td>\n",
       "      <td>0</td>\n",
       "    </tr>\n",
       "    <tr>\n",
       "      <th>1</th>\n",
       "      <td>0</td>\n",
       "      <td>0</td>\n",
       "      <td>0</td>\n",
       "      <td>0</td>\n",
       "      <td>0</td>\n",
       "      <td>0</td>\n",
       "      <td>1</td>\n",
       "      <td>0</td>\n",
       "      <td>0</td>\n",
       "      <td>0</td>\n",
       "      <td>...</td>\n",
       "      <td>0</td>\n",
       "      <td>0</td>\n",
       "      <td>0</td>\n",
       "      <td>0</td>\n",
       "      <td>1</td>\n",
       "      <td>1</td>\n",
       "      <td>0</td>\n",
       "      <td>0</td>\n",
       "      <td>0</td>\n",
       "      <td>0</td>\n",
       "    </tr>\n",
       "    <tr>\n",
       "      <th>2</th>\n",
       "      <td>0</td>\n",
       "      <td>0</td>\n",
       "      <td>0</td>\n",
       "      <td>1</td>\n",
       "      <td>0</td>\n",
       "      <td>0</td>\n",
       "      <td>0</td>\n",
       "      <td>0</td>\n",
       "      <td>0</td>\n",
       "      <td>0</td>\n",
       "      <td>...</td>\n",
       "      <td>0</td>\n",
       "      <td>0</td>\n",
       "      <td>0</td>\n",
       "      <td>0</td>\n",
       "      <td>0</td>\n",
       "      <td>0</td>\n",
       "      <td>0</td>\n",
       "      <td>0</td>\n",
       "      <td>0</td>\n",
       "      <td>0</td>\n",
       "    </tr>\n",
       "    <tr>\n",
       "      <th>3</th>\n",
       "      <td>0</td>\n",
       "      <td>0</td>\n",
       "      <td>0</td>\n",
       "      <td>1</td>\n",
       "      <td>0</td>\n",
       "      <td>0</td>\n",
       "      <td>0</td>\n",
       "      <td>0</td>\n",
       "      <td>0</td>\n",
       "      <td>0</td>\n",
       "      <td>...</td>\n",
       "      <td>0</td>\n",
       "      <td>0</td>\n",
       "      <td>0</td>\n",
       "      <td>0</td>\n",
       "      <td>0</td>\n",
       "      <td>0</td>\n",
       "      <td>0</td>\n",
       "      <td>0</td>\n",
       "      <td>0</td>\n",
       "      <td>0</td>\n",
       "    </tr>\n",
       "    <tr>\n",
       "      <th>4</th>\n",
       "      <td>0</td>\n",
       "      <td>0</td>\n",
       "      <td>0</td>\n",
       "      <td>0</td>\n",
       "      <td>0</td>\n",
       "      <td>0</td>\n",
       "      <td>0</td>\n",
       "      <td>0</td>\n",
       "      <td>0</td>\n",
       "      <td>0</td>\n",
       "      <td>...</td>\n",
       "      <td>0</td>\n",
       "      <td>0</td>\n",
       "      <td>0</td>\n",
       "      <td>0</td>\n",
       "      <td>0</td>\n",
       "      <td>0</td>\n",
       "      <td>0</td>\n",
       "      <td>0</td>\n",
       "      <td>0</td>\n",
       "      <td>0</td>\n",
       "    </tr>\n",
       "    <tr>\n",
       "      <th>...</th>\n",
       "      <td>...</td>\n",
       "      <td>...</td>\n",
       "      <td>...</td>\n",
       "      <td>...</td>\n",
       "      <td>...</td>\n",
       "      <td>...</td>\n",
       "      <td>...</td>\n",
       "      <td>...</td>\n",
       "      <td>...</td>\n",
       "      <td>...</td>\n",
       "      <td>...</td>\n",
       "      <td>...</td>\n",
       "      <td>...</td>\n",
       "      <td>...</td>\n",
       "      <td>...</td>\n",
       "      <td>...</td>\n",
       "      <td>...</td>\n",
       "      <td>...</td>\n",
       "      <td>...</td>\n",
       "      <td>...</td>\n",
       "      <td>...</td>\n",
       "    </tr>\n",
       "    <tr>\n",
       "      <th>45461</th>\n",
       "      <td>0</td>\n",
       "      <td>0</td>\n",
       "      <td>0</td>\n",
       "      <td>0</td>\n",
       "      <td>0</td>\n",
       "      <td>0</td>\n",
       "      <td>1</td>\n",
       "      <td>0</td>\n",
       "      <td>0</td>\n",
       "      <td>0</td>\n",
       "      <td>...</td>\n",
       "      <td>0</td>\n",
       "      <td>0</td>\n",
       "      <td>0</td>\n",
       "      <td>0</td>\n",
       "      <td>0</td>\n",
       "      <td>0</td>\n",
       "      <td>0</td>\n",
       "      <td>0</td>\n",
       "      <td>0</td>\n",
       "      <td>0</td>\n",
       "    </tr>\n",
       "    <tr>\n",
       "      <th>45462</th>\n",
       "      <td>0</td>\n",
       "      <td>0</td>\n",
       "      <td>0</td>\n",
       "      <td>0</td>\n",
       "      <td>0</td>\n",
       "      <td>0</td>\n",
       "      <td>0</td>\n",
       "      <td>0</td>\n",
       "      <td>0</td>\n",
       "      <td>0</td>\n",
       "      <td>...</td>\n",
       "      <td>0</td>\n",
       "      <td>0</td>\n",
       "      <td>0</td>\n",
       "      <td>0</td>\n",
       "      <td>0</td>\n",
       "      <td>0</td>\n",
       "      <td>0</td>\n",
       "      <td>0</td>\n",
       "      <td>0</td>\n",
       "      <td>0</td>\n",
       "    </tr>\n",
       "    <tr>\n",
       "      <th>45463</th>\n",
       "      <td>0</td>\n",
       "      <td>0</td>\n",
       "      <td>0</td>\n",
       "      <td>0</td>\n",
       "      <td>0</td>\n",
       "      <td>0</td>\n",
       "      <td>0</td>\n",
       "      <td>0</td>\n",
       "      <td>0</td>\n",
       "      <td>1</td>\n",
       "      <td>...</td>\n",
       "      <td>0</td>\n",
       "      <td>1</td>\n",
       "      <td>0</td>\n",
       "      <td>0</td>\n",
       "      <td>0</td>\n",
       "      <td>0</td>\n",
       "      <td>0</td>\n",
       "      <td>0</td>\n",
       "      <td>0</td>\n",
       "      <td>0</td>\n",
       "    </tr>\n",
       "    <tr>\n",
       "      <th>45464</th>\n",
       "      <td>0</td>\n",
       "      <td>0</td>\n",
       "      <td>0</td>\n",
       "      <td>0</td>\n",
       "      <td>0</td>\n",
       "      <td>0</td>\n",
       "      <td>0</td>\n",
       "      <td>0</td>\n",
       "      <td>0</td>\n",
       "      <td>0</td>\n",
       "      <td>...</td>\n",
       "      <td>0</td>\n",
       "      <td>0</td>\n",
       "      <td>0</td>\n",
       "      <td>0</td>\n",
       "      <td>0</td>\n",
       "      <td>0</td>\n",
       "      <td>0</td>\n",
       "      <td>0</td>\n",
       "      <td>0</td>\n",
       "      <td>0</td>\n",
       "    </tr>\n",
       "    <tr>\n",
       "      <th>45465</th>\n",
       "      <td>0</td>\n",
       "      <td>0</td>\n",
       "      <td>0</td>\n",
       "      <td>0</td>\n",
       "      <td>0</td>\n",
       "      <td>0</td>\n",
       "      <td>0</td>\n",
       "      <td>0</td>\n",
       "      <td>0</td>\n",
       "      <td>0</td>\n",
       "      <td>...</td>\n",
       "      <td>0</td>\n",
       "      <td>0</td>\n",
       "      <td>0</td>\n",
       "      <td>0</td>\n",
       "      <td>0</td>\n",
       "      <td>0</td>\n",
       "      <td>0</td>\n",
       "      <td>0</td>\n",
       "      <td>0</td>\n",
       "      <td>0</td>\n",
       "    </tr>\n",
       "  </tbody>\n",
       "</table>\n",
       "<p>45466 rows × 32 columns</p>\n",
       "</div>"
      ],
      "text/plain": [
       "       Vision View Entertainment  The Cartel  TV Movie  Romance  \\\n",
       "0                              0           0         0        0   \n",
       "1                              0           0         0        0   \n",
       "2                              0           0         0        1   \n",
       "3                              0           0         0        1   \n",
       "4                              0           0         0        0   \n",
       "...                          ...         ...       ...      ...   \n",
       "45461                          0           0         0        0   \n",
       "45462                          0           0         0        0   \n",
       "45463                          0           0         0        0   \n",
       "45464                          0           0         0        0   \n",
       "45465                          0           0         0        0   \n",
       "\n",
       "       Pulser Productions  Mardock Scramble Production Committee  Family  \\\n",
       "0                       0                                      0       1   \n",
       "1                       0                                      0       1   \n",
       "2                       0                                      0       0   \n",
       "3                       0                                      0       0   \n",
       "4                       0                                      0       0   \n",
       "...                   ...                                    ...     ...   \n",
       "45461                   0                                      0       1   \n",
       "45462                   0                                      0       0   \n",
       "45463                   0                                      0       0   \n",
       "45464                   0                                      0       0   \n",
       "45465                   0                                      0       0   \n",
       "\n",
       "       History  Music  Action  ...  Carousel Productions  Thriller  BROSTA TV  \\\n",
       "0            0      0       0  ...                     0         0          0   \n",
       "1            0      0       0  ...                     0         0          0   \n",
       "2            0      0       0  ...                     0         0          0   \n",
       "3            0      0       0  ...                     0         0          0   \n",
       "4            0      0       0  ...                     0         0          0   \n",
       "...        ...    ...     ...  ...                   ...       ...        ...   \n",
       "45461        0      0       0  ...                     0         0          0   \n",
       "45462        0      0       0  ...                     0         0          0   \n",
       "45463        0      0       1  ...                     0         1          0   \n",
       "45464        0      0       0  ...                     0         0          0   \n",
       "45465        0      0       0  ...                     0         0          0   \n",
       "\n",
       "       Aniplex  Fantasy  Adventure  Western  Science Fiction  \\\n",
       "0            0        0          0        0                0   \n",
       "1            0        1          1        0                0   \n",
       "2            0        0          0        0                0   \n",
       "3            0        0          0        0                0   \n",
       "4            0        0          0        0                0   \n",
       "...        ...      ...        ...      ...              ...   \n",
       "45461        0        0          0        0                0   \n",
       "45462        0        0          0        0                0   \n",
       "45463        0        0          0        0                0   \n",
       "45464        0        0          0        0                0   \n",
       "45465        0        0          0        0                0   \n",
       "\n",
       "       Sentai Filmworks  Odyssey Media  \n",
       "0                     0              0  \n",
       "1                     0              0  \n",
       "2                     0              0  \n",
       "3                     0              0  \n",
       "4                     0              0  \n",
       "...                 ...            ...  \n",
       "45461                 0              0  \n",
       "45462                 0              0  \n",
       "45463                 0              0  \n",
       "45464                 0              0  \n",
       "45465                 0              0  \n",
       "\n",
       "[45466 rows x 32 columns]"
      ]
     },
     "execution_count": 14,
     "metadata": {},
     "output_type": "execute_result"
    }
   ],
   "source": [
    "genre = pd.DataFrame(rows,columns = genres)\n",
    "genre"
   ]
  },
  {
   "cell_type": "code",
   "execution_count": 15,
   "id": "76062d61",
   "metadata": {},
   "outputs": [
    {
     "data": {
      "text/plain": [
       "((45466, 37), (45466, 32))"
      ]
     },
     "execution_count": 15,
     "metadata": {},
     "output_type": "execute_result"
    }
   ],
   "source": [
    "df_movie = pd.concat([df_movie,genre], axis = 1) # joing the two dataframes\n",
    "df_movie.shape, genre.shape"
   ]
  },
  {
   "cell_type": "code",
   "execution_count": 16,
   "id": "8c2b5575",
   "metadata": {},
   "outputs": [],
   "source": [
    "df_movie = df_movie.drop(columns = ['genres'])"
   ]
  },
  {
   "cell_type": "code",
   "execution_count": 17,
   "id": "ad59874c",
   "metadata": {},
   "outputs": [
    {
     "data": {
      "text/html": [
       "<div>\n",
       "<style scoped>\n",
       "    .dataframe tbody tr th:only-of-type {\n",
       "        vertical-align: middle;\n",
       "    }\n",
       "\n",
       "    .dataframe tbody tr th {\n",
       "        vertical-align: top;\n",
       "    }\n",
       "\n",
       "    .dataframe thead th {\n",
       "        text-align: right;\n",
       "    }\n",
       "</style>\n",
       "<table border=\"1\" class=\"dataframe\">\n",
       "  <thead>\n",
       "    <tr style=\"text-align: right;\">\n",
       "      <th></th>\n",
       "      <th>budget</th>\n",
       "      <th>title</th>\n",
       "      <th>revenue</th>\n",
       "      <th>id</th>\n",
       "      <th>Vision View Entertainment</th>\n",
       "      <th>The Cartel</th>\n",
       "      <th>TV Movie</th>\n",
       "      <th>Romance</th>\n",
       "      <th>Pulser Productions</th>\n",
       "      <th>Mardock Scramble Production Committee</th>\n",
       "      <th>...</th>\n",
       "      <th>Carousel Productions</th>\n",
       "      <th>Thriller</th>\n",
       "      <th>BROSTA TV</th>\n",
       "      <th>Aniplex</th>\n",
       "      <th>Fantasy</th>\n",
       "      <th>Adventure</th>\n",
       "      <th>Western</th>\n",
       "      <th>Science Fiction</th>\n",
       "      <th>Sentai Filmworks</th>\n",
       "      <th>Odyssey Media</th>\n",
       "    </tr>\n",
       "  </thead>\n",
       "  <tbody>\n",
       "    <tr>\n",
       "      <th>0</th>\n",
       "      <td>30000000</td>\n",
       "      <td>Toy Story</td>\n",
       "      <td>373554033.0</td>\n",
       "      <td>862</td>\n",
       "      <td>0</td>\n",
       "      <td>0</td>\n",
       "      <td>0</td>\n",
       "      <td>0</td>\n",
       "      <td>0</td>\n",
       "      <td>0</td>\n",
       "      <td>...</td>\n",
       "      <td>0</td>\n",
       "      <td>0</td>\n",
       "      <td>0</td>\n",
       "      <td>0</td>\n",
       "      <td>0</td>\n",
       "      <td>0</td>\n",
       "      <td>0</td>\n",
       "      <td>0</td>\n",
       "      <td>0</td>\n",
       "      <td>0</td>\n",
       "    </tr>\n",
       "    <tr>\n",
       "      <th>1</th>\n",
       "      <td>65000000</td>\n",
       "      <td>Jumanji</td>\n",
       "      <td>262797249.0</td>\n",
       "      <td>8844</td>\n",
       "      <td>0</td>\n",
       "      <td>0</td>\n",
       "      <td>0</td>\n",
       "      <td>0</td>\n",
       "      <td>0</td>\n",
       "      <td>0</td>\n",
       "      <td>...</td>\n",
       "      <td>0</td>\n",
       "      <td>0</td>\n",
       "      <td>0</td>\n",
       "      <td>0</td>\n",
       "      <td>1</td>\n",
       "      <td>1</td>\n",
       "      <td>0</td>\n",
       "      <td>0</td>\n",
       "      <td>0</td>\n",
       "      <td>0</td>\n",
       "    </tr>\n",
       "    <tr>\n",
       "      <th>2</th>\n",
       "      <td>0</td>\n",
       "      <td>Grumpier Old Men</td>\n",
       "      <td>0.0</td>\n",
       "      <td>15602</td>\n",
       "      <td>0</td>\n",
       "      <td>0</td>\n",
       "      <td>0</td>\n",
       "      <td>1</td>\n",
       "      <td>0</td>\n",
       "      <td>0</td>\n",
       "      <td>...</td>\n",
       "      <td>0</td>\n",
       "      <td>0</td>\n",
       "      <td>0</td>\n",
       "      <td>0</td>\n",
       "      <td>0</td>\n",
       "      <td>0</td>\n",
       "      <td>0</td>\n",
       "      <td>0</td>\n",
       "      <td>0</td>\n",
       "      <td>0</td>\n",
       "    </tr>\n",
       "    <tr>\n",
       "      <th>3</th>\n",
       "      <td>16000000</td>\n",
       "      <td>Waiting to Exhale</td>\n",
       "      <td>81452156.0</td>\n",
       "      <td>31357</td>\n",
       "      <td>0</td>\n",
       "      <td>0</td>\n",
       "      <td>0</td>\n",
       "      <td>1</td>\n",
       "      <td>0</td>\n",
       "      <td>0</td>\n",
       "      <td>...</td>\n",
       "      <td>0</td>\n",
       "      <td>0</td>\n",
       "      <td>0</td>\n",
       "      <td>0</td>\n",
       "      <td>0</td>\n",
       "      <td>0</td>\n",
       "      <td>0</td>\n",
       "      <td>0</td>\n",
       "      <td>0</td>\n",
       "      <td>0</td>\n",
       "    </tr>\n",
       "    <tr>\n",
       "      <th>4</th>\n",
       "      <td>0</td>\n",
       "      <td>Father of the Bride Part II</td>\n",
       "      <td>76578911.0</td>\n",
       "      <td>11862</td>\n",
       "      <td>0</td>\n",
       "      <td>0</td>\n",
       "      <td>0</td>\n",
       "      <td>0</td>\n",
       "      <td>0</td>\n",
       "      <td>0</td>\n",
       "      <td>...</td>\n",
       "      <td>0</td>\n",
       "      <td>0</td>\n",
       "      <td>0</td>\n",
       "      <td>0</td>\n",
       "      <td>0</td>\n",
       "      <td>0</td>\n",
       "      <td>0</td>\n",
       "      <td>0</td>\n",
       "      <td>0</td>\n",
       "      <td>0</td>\n",
       "    </tr>\n",
       "  </tbody>\n",
       "</table>\n",
       "<p>5 rows × 36 columns</p>\n",
       "</div>"
      ],
      "text/plain": [
       "     budget                        title      revenue     id  \\\n",
       "0  30000000                    Toy Story  373554033.0    862   \n",
       "1  65000000                      Jumanji  262797249.0   8844   \n",
       "2         0             Grumpier Old Men          0.0  15602   \n",
       "3  16000000            Waiting to Exhale   81452156.0  31357   \n",
       "4         0  Father of the Bride Part II   76578911.0  11862   \n",
       "\n",
       "   Vision View Entertainment  The Cartel  TV Movie  Romance  \\\n",
       "0                          0           0         0        0   \n",
       "1                          0           0         0        0   \n",
       "2                          0           0         0        1   \n",
       "3                          0           0         0        1   \n",
       "4                          0           0         0        0   \n",
       "\n",
       "   Pulser Productions  Mardock Scramble Production Committee  ...  \\\n",
       "0                   0                                      0  ...   \n",
       "1                   0                                      0  ...   \n",
       "2                   0                                      0  ...   \n",
       "3                   0                                      0  ...   \n",
       "4                   0                                      0  ...   \n",
       "\n",
       "   Carousel Productions  Thriller  BROSTA TV  Aniplex  Fantasy  Adventure  \\\n",
       "0                     0         0          0        0        0          0   \n",
       "1                     0         0          0        0        1          1   \n",
       "2                     0         0          0        0        0          0   \n",
       "3                     0         0          0        0        0          0   \n",
       "4                     0         0          0        0        0          0   \n",
       "\n",
       "   Western  Science Fiction  Sentai Filmworks  Odyssey Media  \n",
       "0        0                0                 0              0  \n",
       "1        0                0                 0              0  \n",
       "2        0                0                 0              0  \n",
       "3        0                0                 0              0  \n",
       "4        0                0                 0              0  \n",
       "\n",
       "[5 rows x 36 columns]"
      ]
     },
     "execution_count": 17,
     "metadata": {},
     "output_type": "execute_result"
    }
   ],
   "source": [
    "df_movie.head()"
   ]
  },
  {
   "cell_type": "code",
   "execution_count": 18,
   "id": "29fea73a",
   "metadata": {},
   "outputs": [
    {
     "data": {
      "text/plain": [
       "6"
      ]
     },
     "execution_count": 18,
     "metadata": {},
     "output_type": "execute_result"
    }
   ],
   "source": [
    "df_movie[\"revenue\"].isnull().sum()"
   ]
  },
  {
   "cell_type": "code",
   "execution_count": 19,
   "id": "408cd1d6",
   "metadata": {},
   "outputs": [],
   "source": [
    "df_movie = df_movie[df_movie['revenue'].notna()]"
   ]
  },
  {
   "cell_type": "code",
   "execution_count": 20,
   "id": "57eaafd6",
   "metadata": {},
   "outputs": [
    {
     "data": {
      "text/plain": [
       "0"
      ]
     },
     "execution_count": 20,
     "metadata": {},
     "output_type": "execute_result"
    }
   ],
   "source": [
    "df_movie[\"revenue\"].isnull().sum()"
   ]
  },
  {
   "cell_type": "code",
   "execution_count": 21,
   "id": "cf81d521",
   "metadata": {},
   "outputs": [
    {
     "data": {
      "text/plain": [
       "373554033.0"
      ]
     },
     "execution_count": 21,
     "metadata": {},
     "output_type": "execute_result"
    }
   ],
   "source": [
    "df_movie[\"revenue\"][0]"
   ]
  },
  {
   "cell_type": "code",
   "execution_count": 22,
   "id": "f86d0c39",
   "metadata": {},
   "outputs": [
    {
     "data": {
      "text/plain": [
       "38052"
      ]
     },
     "execution_count": 22,
     "metadata": {},
     "output_type": "execute_result"
    }
   ],
   "source": [
    "sum(df_movie[\"revenue\"] == 0)"
   ]
  },
  {
   "cell_type": "code",
   "execution_count": 23,
   "id": "793e7ad8",
   "metadata": {},
   "outputs": [
    {
     "data": {
      "text/plain": [
       "83.70435547734272"
      ]
     },
     "execution_count": 23,
     "metadata": {},
     "output_type": "execute_result"
    }
   ],
   "source": [
    "(sum(df_movie[\"revenue\"] == 0)/df_movie.shape[0])*100"
   ]
  },
  {
   "cell_type": "code",
   "execution_count": 24,
   "id": "1a1b6e5d",
   "metadata": {},
   "outputs": [],
   "source": [
    "df_movie_revenue = df_movie\n",
    "df_movie_revenue[\"revenue\"] = df_movie_revenue[\"revenue\"].replace(0, pd.np.nan)"
   ]
  },
  {
   "cell_type": "code",
   "execution_count": 25,
   "id": "a2c1763d",
   "metadata": {},
   "outputs": [
    {
     "data": {
      "text/plain": [
       "38052"
      ]
     },
     "execution_count": 25,
     "metadata": {},
     "output_type": "execute_result"
    }
   ],
   "source": [
    "df_movie_revenue[\"revenue\"].isnull().sum()"
   ]
  },
  {
   "cell_type": "code",
   "execution_count": 26,
   "id": "796f0aeb",
   "metadata": {},
   "outputs": [
    {
     "data": {
      "text/plain": [
       "count    7.408000e+03\n",
       "mean     6.878739e+07\n",
       "std      1.464203e+08\n",
       "min      1.000000e+00\n",
       "25%      2.400000e+06\n",
       "50%      1.682272e+07\n",
       "75%      6.722707e+07\n",
       "max      2.787965e+09\n",
       "Name: revenue, dtype: float64"
      ]
     },
     "execution_count": 26,
     "metadata": {},
     "output_type": "execute_result"
    }
   ],
   "source": [
    "df_movie_revenue = df_movie_revenue[df_movie_revenue['revenue'].notna()]\n",
    "df_movie_revenue[\"revenue\"].isnull().sum()\n",
    "df_movie_revenue[\"revenue\"].describe()"
   ]
  },
  {
   "cell_type": "code",
   "execution_count": 27,
   "id": "6fc1ac5a",
   "metadata": {},
   "outputs": [
    {
     "data": {
      "text/plain": [
       "30000000"
      ]
     },
     "execution_count": 27,
     "metadata": {},
     "output_type": "execute_result"
    }
   ],
   "source": [
    "df_movie_revenue[\"budget\"] = df_movie_revenue[\"budget\"].astype(int)\n",
    "df_movie_revenue[\"budget\"][0]"
   ]
  },
  {
   "cell_type": "code",
   "execution_count": 28,
   "id": "72e289bb",
   "metadata": {},
   "outputs": [
    {
     "data": {
      "text/plain": [
       "2027"
      ]
     },
     "execution_count": 28,
     "metadata": {},
     "output_type": "execute_result"
    }
   ],
   "source": [
    "sum(df_movie_revenue[\"budget\"] == 0)"
   ]
  },
  {
   "cell_type": "code",
   "execution_count": 29,
   "id": "0da6dd19",
   "metadata": {},
   "outputs": [
    {
     "data": {
      "text/plain": [
       "27.36231101511879"
      ]
     },
     "execution_count": 29,
     "metadata": {},
     "output_type": "execute_result"
    }
   ],
   "source": [
    "(sum(df_movie_revenue[\"budget\"] == 0)/df_movie_revenue.shape[0])*100"
   ]
  },
  {
   "cell_type": "code",
   "execution_count": 30,
   "id": "30103247",
   "metadata": {},
   "outputs": [
    {
     "data": {
      "text/plain": [
       "count    5.381000e+03\n",
       "mean     3.109480e+07\n",
       "std      4.016263e+07\n",
       "min      1.000000e+00\n",
       "25%      5.037000e+06\n",
       "50%      1.700000e+07\n",
       "75%      4.000000e+07\n",
       "max      3.800000e+08\n",
       "Name: budget, dtype: float64"
      ]
     },
     "execution_count": 30,
     "metadata": {},
     "output_type": "execute_result"
    }
   ],
   "source": [
    "df_movie_revenue_budget = df_movie_revenue\n",
    "df_movie_revenue_budget[\"budget\"] = df_movie_revenue_budget[\"budget\"].replace(0, pd.np.nan)\n",
    "df_movie_revenue_budget = df_movie_revenue_budget[df_movie_revenue_budget['budget'].notna()]\n",
    "df_movie_revenue_budget[\"budget\"].isnull().sum()\n",
    "df_movie_revenue_budget[\"budget\"].describe()"
   ]
  },
  {
   "cell_type": "code",
   "execution_count": 31,
   "id": "d580ca11",
   "metadata": {},
   "outputs": [
    {
     "data": {
      "text/html": [
       "<div>\n",
       "<style scoped>\n",
       "    .dataframe tbody tr th:only-of-type {\n",
       "        vertical-align: middle;\n",
       "    }\n",
       "\n",
       "    .dataframe tbody tr th {\n",
       "        vertical-align: top;\n",
       "    }\n",
       "\n",
       "    .dataframe thead th {\n",
       "        text-align: right;\n",
       "    }\n",
       "</style>\n",
       "<table border=\"1\" class=\"dataframe\">\n",
       "  <thead>\n",
       "    <tr style=\"text-align: right;\">\n",
       "      <th></th>\n",
       "      <th>budget</th>\n",
       "      <th>title</th>\n",
       "      <th>revenue</th>\n",
       "      <th>id</th>\n",
       "      <th>Vision View Entertainment</th>\n",
       "      <th>The Cartel</th>\n",
       "      <th>TV Movie</th>\n",
       "      <th>Romance</th>\n",
       "      <th>Pulser Productions</th>\n",
       "      <th>Mardock Scramble Production Committee</th>\n",
       "      <th>...</th>\n",
       "      <th>Carousel Productions</th>\n",
       "      <th>Thriller</th>\n",
       "      <th>BROSTA TV</th>\n",
       "      <th>Aniplex</th>\n",
       "      <th>Fantasy</th>\n",
       "      <th>Adventure</th>\n",
       "      <th>Western</th>\n",
       "      <th>Science Fiction</th>\n",
       "      <th>Sentai Filmworks</th>\n",
       "      <th>Odyssey Media</th>\n",
       "    </tr>\n",
       "  </thead>\n",
       "  <tbody>\n",
       "    <tr>\n",
       "      <th>0</th>\n",
       "      <td>30000000.0</td>\n",
       "      <td>Toy Story</td>\n",
       "      <td>373554033.0</td>\n",
       "      <td>862</td>\n",
       "      <td>0</td>\n",
       "      <td>0</td>\n",
       "      <td>0</td>\n",
       "      <td>0</td>\n",
       "      <td>0</td>\n",
       "      <td>0</td>\n",
       "      <td>...</td>\n",
       "      <td>0</td>\n",
       "      <td>0</td>\n",
       "      <td>0</td>\n",
       "      <td>0</td>\n",
       "      <td>0</td>\n",
       "      <td>0</td>\n",
       "      <td>0</td>\n",
       "      <td>0</td>\n",
       "      <td>0</td>\n",
       "      <td>0</td>\n",
       "    </tr>\n",
       "    <tr>\n",
       "      <th>1</th>\n",
       "      <td>65000000.0</td>\n",
       "      <td>Jumanji</td>\n",
       "      <td>262797249.0</td>\n",
       "      <td>8844</td>\n",
       "      <td>0</td>\n",
       "      <td>0</td>\n",
       "      <td>0</td>\n",
       "      <td>0</td>\n",
       "      <td>0</td>\n",
       "      <td>0</td>\n",
       "      <td>...</td>\n",
       "      <td>0</td>\n",
       "      <td>0</td>\n",
       "      <td>0</td>\n",
       "      <td>0</td>\n",
       "      <td>1</td>\n",
       "      <td>1</td>\n",
       "      <td>0</td>\n",
       "      <td>0</td>\n",
       "      <td>0</td>\n",
       "      <td>0</td>\n",
       "    </tr>\n",
       "    <tr>\n",
       "      <th>3</th>\n",
       "      <td>16000000.0</td>\n",
       "      <td>Waiting to Exhale</td>\n",
       "      <td>81452156.0</td>\n",
       "      <td>31357</td>\n",
       "      <td>0</td>\n",
       "      <td>0</td>\n",
       "      <td>0</td>\n",
       "      <td>1</td>\n",
       "      <td>0</td>\n",
       "      <td>0</td>\n",
       "      <td>...</td>\n",
       "      <td>0</td>\n",
       "      <td>0</td>\n",
       "      <td>0</td>\n",
       "      <td>0</td>\n",
       "      <td>0</td>\n",
       "      <td>0</td>\n",
       "      <td>0</td>\n",
       "      <td>0</td>\n",
       "      <td>0</td>\n",
       "      <td>0</td>\n",
       "    </tr>\n",
       "    <tr>\n",
       "      <th>5</th>\n",
       "      <td>60000000.0</td>\n",
       "      <td>Heat</td>\n",
       "      <td>187436818.0</td>\n",
       "      <td>949</td>\n",
       "      <td>0</td>\n",
       "      <td>0</td>\n",
       "      <td>0</td>\n",
       "      <td>0</td>\n",
       "      <td>0</td>\n",
       "      <td>0</td>\n",
       "      <td>...</td>\n",
       "      <td>0</td>\n",
       "      <td>1</td>\n",
       "      <td>0</td>\n",
       "      <td>0</td>\n",
       "      <td>0</td>\n",
       "      <td>0</td>\n",
       "      <td>0</td>\n",
       "      <td>0</td>\n",
       "      <td>0</td>\n",
       "      <td>0</td>\n",
       "    </tr>\n",
       "    <tr>\n",
       "      <th>8</th>\n",
       "      <td>35000000.0</td>\n",
       "      <td>Sudden Death</td>\n",
       "      <td>64350171.0</td>\n",
       "      <td>9091</td>\n",
       "      <td>0</td>\n",
       "      <td>0</td>\n",
       "      <td>0</td>\n",
       "      <td>0</td>\n",
       "      <td>0</td>\n",
       "      <td>0</td>\n",
       "      <td>...</td>\n",
       "      <td>0</td>\n",
       "      <td>1</td>\n",
       "      <td>0</td>\n",
       "      <td>0</td>\n",
       "      <td>0</td>\n",
       "      <td>1</td>\n",
       "      <td>0</td>\n",
       "      <td>0</td>\n",
       "      <td>0</td>\n",
       "      <td>0</td>\n",
       "    </tr>\n",
       "  </tbody>\n",
       "</table>\n",
       "<p>5 rows × 36 columns</p>\n",
       "</div>"
      ],
      "text/plain": [
       "       budget              title      revenue     id  \\\n",
       "0  30000000.0          Toy Story  373554033.0    862   \n",
       "1  65000000.0            Jumanji  262797249.0   8844   \n",
       "3  16000000.0  Waiting to Exhale   81452156.0  31357   \n",
       "5  60000000.0               Heat  187436818.0    949   \n",
       "8  35000000.0       Sudden Death   64350171.0   9091   \n",
       "\n",
       "   Vision View Entertainment  The Cartel  TV Movie  Romance  \\\n",
       "0                          0           0         0        0   \n",
       "1                          0           0         0        0   \n",
       "3                          0           0         0        1   \n",
       "5                          0           0         0        0   \n",
       "8                          0           0         0        0   \n",
       "\n",
       "   Pulser Productions  Mardock Scramble Production Committee  ...  \\\n",
       "0                   0                                      0  ...   \n",
       "1                   0                                      0  ...   \n",
       "3                   0                                      0  ...   \n",
       "5                   0                                      0  ...   \n",
       "8                   0                                      0  ...   \n",
       "\n",
       "   Carousel Productions  Thriller  BROSTA TV  Aniplex  Fantasy  Adventure  \\\n",
       "0                     0         0          0        0        0          0   \n",
       "1                     0         0          0        0        1          1   \n",
       "3                     0         0          0        0        0          0   \n",
       "5                     0         1          0        0        0          0   \n",
       "8                     0         1          0        0        0          1   \n",
       "\n",
       "   Western  Science Fiction  Sentai Filmworks  Odyssey Media  \n",
       "0        0                0                 0              0  \n",
       "1        0                0                 0              0  \n",
       "3        0                0                 0              0  \n",
       "5        0                0                 0              0  \n",
       "8        0                0                 0              0  \n",
       "\n",
       "[5 rows x 36 columns]"
      ]
     },
     "execution_count": 31,
     "metadata": {},
     "output_type": "execute_result"
    }
   ],
   "source": [
    "df_movie_revenue_budget.head()"
   ]
  },
  {
   "cell_type": "code",
   "execution_count": 32,
   "id": "06d50fb9",
   "metadata": {},
   "outputs": [
    {
     "data": {
      "text/plain": [
       "(5381, 36)"
      ]
     },
     "execution_count": 32,
     "metadata": {},
     "output_type": "execute_result"
    }
   ],
   "source": [
    "df_movie_revenue_budget.shape"
   ]
  },
  {
   "cell_type": "code",
   "execution_count": 33,
   "id": "c9acda3b",
   "metadata": {},
   "outputs": [
    {
     "data": {
      "text/plain": [
       "dtype('int64')"
      ]
     },
     "execution_count": 33,
     "metadata": {},
     "output_type": "execute_result"
    }
   ],
   "source": [
    "df_movie_revenue_budget.rename(columns = {'id':'movie_id'}, inplace = True)\n",
    "df_movie_revenue_budget[\"movie_id\"].astype(str).astype(int).dtypes"
   ]
  },
  {
   "cell_type": "code",
   "execution_count": 34,
   "id": "ebbeb6a7",
   "metadata": {},
   "outputs": [
    {
     "data": {
      "text/plain": [
       "budget                                   float64\n",
       "title                                     object\n",
       "revenue                                  float64\n",
       "movie_id                                   int64\n",
       "Vision View Entertainment                  int64\n",
       "The Cartel                                 int64\n",
       "TV Movie                                   int64\n",
       "Romance                                    int64\n",
       "Pulser Productions                         int64\n",
       "Mardock Scramble Production Committee      int64\n",
       "Family                                     int64\n",
       "History                                    int64\n",
       "Music                                      int64\n",
       "Action                                     int64\n",
       "Crime                                      int64\n",
       "Documentary                                int64\n",
       "War                                        int64\n",
       "Mystery                                    int64\n",
       "Animation                                  int64\n",
       "GoHands                                    int64\n",
       "Horror                                     int64\n",
       "Comedy                                     int64\n",
       "Telescene Film Group Productions           int64\n",
       "Drama                                      int64\n",
       "Rogue State                                int64\n",
       "Foreign                                    int64\n",
       "Carousel Productions                       int64\n",
       "Thriller                                   int64\n",
       "BROSTA TV                                  int64\n",
       "Aniplex                                    int64\n",
       "Fantasy                                    int64\n",
       "Adventure                                  int64\n",
       "Western                                    int64\n",
       "Science Fiction                            int64\n",
       "Sentai Filmworks                           int64\n",
       "Odyssey Media                              int64\n",
       "dtype: object"
      ]
     },
     "execution_count": 34,
     "metadata": {},
     "output_type": "execute_result"
    }
   ],
   "source": [
    "df_movie_revenue_budget[\"movie_id\"] = df_movie_revenue_budget[\"movie_id\"].astype(str).astype(int)\n",
    "df_movie_revenue_budget.dtypes"
   ]
  },
  {
   "cell_type": "code",
   "execution_count": 35,
   "id": "c4b6a081",
   "metadata": {},
   "outputs": [],
   "source": [
    "df_movie_revenue_budget_cast = df_movie_revenue_budget.merge(df, on = \"movie_id\", how = 'left')"
   ]
  },
  {
   "cell_type": "code",
   "execution_count": 36,
   "id": "6dadbe5f",
   "metadata": {},
   "outputs": [
    {
     "data": {
      "text/plain": [
       "(5393, 38)"
      ]
     },
     "execution_count": 36,
     "metadata": {},
     "output_type": "execute_result"
    }
   ],
   "source": [
    "df_movie_revenue_budget_cast.shape"
   ]
  },
  {
   "cell_type": "code",
   "execution_count": 37,
   "id": "91994777",
   "metadata": {},
   "outputs": [
    {
     "data": {
      "text/html": [
       "<div>\n",
       "<style scoped>\n",
       "    .dataframe tbody tr th:only-of-type {\n",
       "        vertical-align: middle;\n",
       "    }\n",
       "\n",
       "    .dataframe tbody tr th {\n",
       "        vertical-align: top;\n",
       "    }\n",
       "\n",
       "    .dataframe thead th {\n",
       "        text-align: right;\n",
       "    }\n",
       "</style>\n",
       "<table border=\"1\" class=\"dataframe\">\n",
       "  <thead>\n",
       "    <tr style=\"text-align: right;\">\n",
       "      <th></th>\n",
       "      <th>budget</th>\n",
       "      <th>title</th>\n",
       "      <th>revenue</th>\n",
       "      <th>movie_id</th>\n",
       "      <th>Vision View Entertainment</th>\n",
       "      <th>The Cartel</th>\n",
       "      <th>TV Movie</th>\n",
       "      <th>Romance</th>\n",
       "      <th>Pulser Productions</th>\n",
       "      <th>Mardock Scramble Production Committee</th>\n",
       "      <th>...</th>\n",
       "      <th>BROSTA TV</th>\n",
       "      <th>Aniplex</th>\n",
       "      <th>Fantasy</th>\n",
       "      <th>Adventure</th>\n",
       "      <th>Western</th>\n",
       "      <th>Science Fiction</th>\n",
       "      <th>Sentai Filmworks</th>\n",
       "      <th>Odyssey Media</th>\n",
       "      <th>cast_name</th>\n",
       "      <th>cast_id</th>\n",
       "    </tr>\n",
       "  </thead>\n",
       "  <tbody>\n",
       "    <tr>\n",
       "      <th>0</th>\n",
       "      <td>30000000.0</td>\n",
       "      <td>Toy Story</td>\n",
       "      <td>373554033.0</td>\n",
       "      <td>862</td>\n",
       "      <td>0</td>\n",
       "      <td>0</td>\n",
       "      <td>0</td>\n",
       "      <td>0</td>\n",
       "      <td>0</td>\n",
       "      <td>0</td>\n",
       "      <td>...</td>\n",
       "      <td>0</td>\n",
       "      <td>0</td>\n",
       "      <td>0</td>\n",
       "      <td>0</td>\n",
       "      <td>0</td>\n",
       "      <td>0</td>\n",
       "      <td>0</td>\n",
       "      <td>0</td>\n",
       "      <td>[Tom Hanks, Tim Allen, Don Rickles, Jim Varney...</td>\n",
       "      <td>[31, 12898, 7167, 12899, 12900, 7907, 8873, 11...</td>\n",
       "    </tr>\n",
       "    <tr>\n",
       "      <th>1</th>\n",
       "      <td>65000000.0</td>\n",
       "      <td>Jumanji</td>\n",
       "      <td>262797249.0</td>\n",
       "      <td>8844</td>\n",
       "      <td>0</td>\n",
       "      <td>0</td>\n",
       "      <td>0</td>\n",
       "      <td>0</td>\n",
       "      <td>0</td>\n",
       "      <td>0</td>\n",
       "      <td>...</td>\n",
       "      <td>0</td>\n",
       "      <td>0</td>\n",
       "      <td>1</td>\n",
       "      <td>1</td>\n",
       "      <td>0</td>\n",
       "      <td>0</td>\n",
       "      <td>0</td>\n",
       "      <td>0</td>\n",
       "      <td>[Robin Williams, Jonathan Hyde, Kirsten Dunst,...</td>\n",
       "      <td>[2157, 8537, 205, 145151, 5149, 10739, 58563, ...</td>\n",
       "    </tr>\n",
       "    <tr>\n",
       "      <th>2</th>\n",
       "      <td>16000000.0</td>\n",
       "      <td>Waiting to Exhale</td>\n",
       "      <td>81452156.0</td>\n",
       "      <td>31357</td>\n",
       "      <td>0</td>\n",
       "      <td>0</td>\n",
       "      <td>0</td>\n",
       "      <td>1</td>\n",
       "      <td>0</td>\n",
       "      <td>0</td>\n",
       "      <td>...</td>\n",
       "      <td>0</td>\n",
       "      <td>0</td>\n",
       "      <td>0</td>\n",
       "      <td>0</td>\n",
       "      <td>0</td>\n",
       "      <td>0</td>\n",
       "      <td>0</td>\n",
       "      <td>0</td>\n",
       "      <td>[Whitney Houston, Angela Bassett, Loretta Devi...</td>\n",
       "      <td>[8851, 9780, 18284, 51359, 66804, 352, 87118, ...</td>\n",
       "    </tr>\n",
       "    <tr>\n",
       "      <th>3</th>\n",
       "      <td>60000000.0</td>\n",
       "      <td>Heat</td>\n",
       "      <td>187436818.0</td>\n",
       "      <td>949</td>\n",
       "      <td>0</td>\n",
       "      <td>0</td>\n",
       "      <td>0</td>\n",
       "      <td>0</td>\n",
       "      <td>0</td>\n",
       "      <td>0</td>\n",
       "      <td>...</td>\n",
       "      <td>0</td>\n",
       "      <td>0</td>\n",
       "      <td>0</td>\n",
       "      <td>0</td>\n",
       "      <td>0</td>\n",
       "      <td>0</td>\n",
       "      <td>0</td>\n",
       "      <td>0</td>\n",
       "      <td>[Al Pacino, Robert De Niro, Val Kilmer, Jon Vo...</td>\n",
       "      <td>[1158, 380, 5576, 10127, 3197, 6200, 15851, 15...</td>\n",
       "    </tr>\n",
       "    <tr>\n",
       "      <th>4</th>\n",
       "      <td>35000000.0</td>\n",
       "      <td>Sudden Death</td>\n",
       "      <td>64350171.0</td>\n",
       "      <td>9091</td>\n",
       "      <td>0</td>\n",
       "      <td>0</td>\n",
       "      <td>0</td>\n",
       "      <td>0</td>\n",
       "      <td>0</td>\n",
       "      <td>0</td>\n",
       "      <td>...</td>\n",
       "      <td>0</td>\n",
       "      <td>0</td>\n",
       "      <td>0</td>\n",
       "      <td>1</td>\n",
       "      <td>0</td>\n",
       "      <td>0</td>\n",
       "      <td>0</td>\n",
       "      <td>0</td>\n",
       "      <td>[Jean-Claude Van Damme, Powers Boothe, Dorian ...</td>\n",
       "      <td>[15111, 6280, 8656, 10361, 12928, 79088]</td>\n",
       "    </tr>\n",
       "  </tbody>\n",
       "</table>\n",
       "<p>5 rows × 38 columns</p>\n",
       "</div>"
      ],
      "text/plain": [
       "       budget              title      revenue  movie_id  \\\n",
       "0  30000000.0          Toy Story  373554033.0       862   \n",
       "1  65000000.0            Jumanji  262797249.0      8844   \n",
       "2  16000000.0  Waiting to Exhale   81452156.0     31357   \n",
       "3  60000000.0               Heat  187436818.0       949   \n",
       "4  35000000.0       Sudden Death   64350171.0      9091   \n",
       "\n",
       "   Vision View Entertainment  The Cartel  TV Movie  Romance  \\\n",
       "0                          0           0         0        0   \n",
       "1                          0           0         0        0   \n",
       "2                          0           0         0        1   \n",
       "3                          0           0         0        0   \n",
       "4                          0           0         0        0   \n",
       "\n",
       "   Pulser Productions  Mardock Scramble Production Committee  ...  BROSTA TV  \\\n",
       "0                   0                                      0  ...          0   \n",
       "1                   0                                      0  ...          0   \n",
       "2                   0                                      0  ...          0   \n",
       "3                   0                                      0  ...          0   \n",
       "4                   0                                      0  ...          0   \n",
       "\n",
       "   Aniplex  Fantasy  Adventure  Western  Science Fiction  Sentai Filmworks  \\\n",
       "0        0        0          0        0                0                 0   \n",
       "1        0        1          1        0                0                 0   \n",
       "2        0        0          0        0                0                 0   \n",
       "3        0        0          0        0                0                 0   \n",
       "4        0        0          1        0                0                 0   \n",
       "\n",
       "   Odyssey Media                                          cast_name  \\\n",
       "0              0  [Tom Hanks, Tim Allen, Don Rickles, Jim Varney...   \n",
       "1              0  [Robin Williams, Jonathan Hyde, Kirsten Dunst,...   \n",
       "2              0  [Whitney Houston, Angela Bassett, Loretta Devi...   \n",
       "3              0  [Al Pacino, Robert De Niro, Val Kilmer, Jon Vo...   \n",
       "4              0  [Jean-Claude Van Damme, Powers Boothe, Dorian ...   \n",
       "\n",
       "                                             cast_id  \n",
       "0  [31, 12898, 7167, 12899, 12900, 7907, 8873, 11...  \n",
       "1  [2157, 8537, 205, 145151, 5149, 10739, 58563, ...  \n",
       "2  [8851, 9780, 18284, 51359, 66804, 352, 87118, ...  \n",
       "3  [1158, 380, 5576, 10127, 3197, 6200, 15851, 15...  \n",
       "4           [15111, 6280, 8656, 10361, 12928, 79088]  \n",
       "\n",
       "[5 rows x 38 columns]"
      ]
     },
     "execution_count": 37,
     "metadata": {},
     "output_type": "execute_result"
    }
   ],
   "source": [
    "df_movie_revenue_budget_cast.head()"
   ]
  },
  {
   "cell_type": "code",
   "execution_count": 38,
   "id": "1e1afce9",
   "metadata": {},
   "outputs": [],
   "source": [
    "all_actors = []\n",
    "for name in df_movie_revenue_budget_cast.cast_name:\n",
    "    all_actors.extend(name)"
   ]
  },
  {
   "cell_type": "code",
   "execution_count": 39,
   "id": "4f7166e8",
   "metadata": {},
   "outputs": [
    {
     "data": {
      "image/png": "[encoded data removed]",
      "text/plain": [
       "<Figure size 432x288 with 1 Axes>"
      ]
     },
     "metadata": {
      "needs_background": "light"
     },
     "output_type": "display_data"
    }
   ],
   "source": [
    "from collections import Counter\n",
    "import matplotlib.pyplot as plt\n",
    "actors_fre = Counter(all_actors)\n",
    "all_fre = list(actors_fre.values())\n",
    "plt.hist(all_fre, bins = 80)\n",
    "plt.show()"
   ]
  },
  {
   "cell_type": "code",
   "execution_count": 40,
   "id": "01869829",
   "metadata": {},
   "outputs": [
    {
     "data": {
      "text/plain": [
       "333"
      ]
     },
     "execution_count": 40,
     "metadata": {},
     "output_type": "execute_result"
    }
   ],
   "source": [
    "all_fre.sort()\n",
    "greater5 = 0\n",
    "for i in range(len(all_fre)):\n",
    "    if all_fre[i] > 20:\n",
    "        greater5 = i\n",
    "        break\n",
    "all_fre = all_fre[greater5:]\n",
    "len(all_fre)"
   ]
  },
  {
   "cell_type": "code",
   "execution_count": 41,
   "id": "f5e51a7b",
   "metadata": {},
   "outputs": [
    {
     "data": {
      "image/png": "[encoded data removed]",
      "text/plain": [
       "<Figure size 432x288 with 1 Axes>"
      ]
     },
     "metadata": {
      "needs_background": "light"
     },
     "output_type": "display_data"
    }
   ],
   "source": [
    "plt.hist(all_fre, bins = 50)\n",
    "plt.show()"
   ]
  },
  {
   "cell_type": "code",
   "execution_count": 180,
   "id": "5240fb6d",
   "metadata": {},
   "outputs": [
    {
     "name": "stdout",
     "output_type": "stream",
     "text": [
      "From this, we can assume that the top five percent of actors in the number of movies are famous actors\n",
      "The number of top five percent actors is 100\n",
      "The top ten percent of actors have acted in at least 30 films\n"
     ]
    }
   ],
   "source": [
    "print('From this, we can assume that the top five percent of actors in the number of movies are famous actors')\n",
    "all_fre = list(actors_fre.values())\n",
    "all_fre.sort()\n",
    "all_fre = all_fre[-100:]\n",
    "print('The number of top five percent actors is', len(all_fre))\n",
    "print('The top ten percent of actors have acted in at least {} films'.format(all_fre[0]))"
   ]
  },
  {
   "cell_type": "markdown",
   "id": "9da6a87c",
   "metadata": {},
   "source": [
    "From this, we can assume that the top five percent of actors in the number of movies are famous actors\n",
    "The number of top five percent actors is 3251\n",
    "The top ten percent of actors have acted in at least 6 films"
   ]
  },
  {
   "cell_type": "code",
   "execution_count": 181,
   "id": "4c92c0bf",
   "metadata": {},
   "outputs": [],
   "source": [
    "famous_actors = set()\n",
    "for actor in actors_fre:\n",
    "    if actors_fre[actor] >= 30:\n",
    "        famous_actors.add(actor)"
   ]
  },
  {
   "cell_type": "code",
   "execution_count": 182,
   "id": "d577b1da",
   "metadata": {},
   "outputs": [],
   "source": [
    "famous_actors_df = []\n",
    "famous_actors_num_df = []\n",
    "for names in df_movie_revenue_budget_cast.cast_name:\n",
    "    temp = []\n",
    "    n = 0\n",
    "    for name in names:\n",
    "        if name in famous_actors:\n",
    "            temp.append(name)\n",
    "            n += 1\n",
    "    famous_actors_df.append(temp)\n",
    "    famous_actors_num_df.append(n)"
   ]
  },
  {
   "cell_type": "code",
   "execution_count": 183,
   "id": "977a1d24",
   "metadata": {},
   "outputs": [],
   "source": [
    "df_movie_revenue_budget_cast['famous_actors']= famous_actors_df\n",
    "df_movie_revenue_budget_cast['num_famous_actors']= famous_actors_num_df"
   ]
  },
  {
   "cell_type": "code",
   "execution_count": 184,
   "id": "5c8c0223",
   "metadata": {},
   "outputs": [
    {
     "data": {
      "text/html": [
       "<div>\n",
       "<style scoped>\n",
       "    .dataframe tbody tr th:only-of-type {\n",
       "        vertical-align: middle;\n",
       "    }\n",
       "\n",
       "    .dataframe tbody tr th {\n",
       "        vertical-align: top;\n",
       "    }\n",
       "\n",
       "    .dataframe thead th {\n",
       "        text-align: right;\n",
       "    }\n",
       "</style>\n",
       "<table border=\"1\" class=\"dataframe\">\n",
       "  <thead>\n",
       "    <tr style=\"text-align: right;\">\n",
       "      <th></th>\n",
       "      <th>budget</th>\n",
       "      <th>title</th>\n",
       "      <th>revenue</th>\n",
       "      <th>movie_id</th>\n",
       "      <th>Vision View Entertainment</th>\n",
       "      <th>The Cartel</th>\n",
       "      <th>TV Movie</th>\n",
       "      <th>Romance</th>\n",
       "      <th>Pulser Productions</th>\n",
       "      <th>Mardock Scramble Production Committee</th>\n",
       "      <th>...</th>\n",
       "      <th>Adventure</th>\n",
       "      <th>Western</th>\n",
       "      <th>Science Fiction</th>\n",
       "      <th>Sentai Filmworks</th>\n",
       "      <th>Odyssey Media</th>\n",
       "      <th>cast_name</th>\n",
       "      <th>cast_id</th>\n",
       "      <th>famous_actors</th>\n",
       "      <th>num_famous_actors</th>\n",
       "      <th>profit</th>\n",
       "    </tr>\n",
       "  </thead>\n",
       "  <tbody>\n",
       "    <tr>\n",
       "      <th>0</th>\n",
       "      <td>30000000.0</td>\n",
       "      <td>Toy Story</td>\n",
       "      <td>373554033.0</td>\n",
       "      <td>862</td>\n",
       "      <td>0</td>\n",
       "      <td>0</td>\n",
       "      <td>0</td>\n",
       "      <td>0</td>\n",
       "      <td>0</td>\n",
       "      <td>0</td>\n",
       "      <td>...</td>\n",
       "      <td>0</td>\n",
       "      <td>0</td>\n",
       "      <td>0</td>\n",
       "      <td>0</td>\n",
       "      <td>0</td>\n",
       "      <td>[Tom Hanks, Tim Allen, Don Rickles, Jim Varney...</td>\n",
       "      <td>[31, 12898, 7167, 12899, 12900, 7907, 8873, 11...</td>\n",
       "      <td>[Tom Hanks]</td>\n",
       "      <td>1</td>\n",
       "      <td>343554033.0</td>\n",
       "    </tr>\n",
       "    <tr>\n",
       "      <th>1</th>\n",
       "      <td>65000000.0</td>\n",
       "      <td>Jumanji</td>\n",
       "      <td>262797249.0</td>\n",
       "      <td>8844</td>\n",
       "      <td>0</td>\n",
       "      <td>0</td>\n",
       "      <td>0</td>\n",
       "      <td>0</td>\n",
       "      <td>0</td>\n",
       "      <td>0</td>\n",
       "      <td>...</td>\n",
       "      <td>1</td>\n",
       "      <td>0</td>\n",
       "      <td>0</td>\n",
       "      <td>0</td>\n",
       "      <td>0</td>\n",
       "      <td>[Robin Williams, Jonathan Hyde, Kirsten Dunst,...</td>\n",
       "      <td>[2157, 8537, 205, 145151, 5149, 10739, 58563, ...</td>\n",
       "      <td>[Robin Williams, Kirsten Dunst]</td>\n",
       "      <td>2</td>\n",
       "      <td>197797249.0</td>\n",
       "    </tr>\n",
       "    <tr>\n",
       "      <th>2</th>\n",
       "      <td>16000000.0</td>\n",
       "      <td>Waiting to Exhale</td>\n",
       "      <td>81452156.0</td>\n",
       "      <td>31357</td>\n",
       "      <td>0</td>\n",
       "      <td>0</td>\n",
       "      <td>0</td>\n",
       "      <td>1</td>\n",
       "      <td>0</td>\n",
       "      <td>0</td>\n",
       "      <td>...</td>\n",
       "      <td>0</td>\n",
       "      <td>0</td>\n",
       "      <td>0</td>\n",
       "      <td>0</td>\n",
       "      <td>0</td>\n",
       "      <td>[Whitney Houston, Angela Bassett, Loretta Devi...</td>\n",
       "      <td>[8851, 9780, 18284, 51359, 66804, 352, 87118, ...</td>\n",
       "      <td>[]</td>\n",
       "      <td>0</td>\n",
       "      <td>65452156.0</td>\n",
       "    </tr>\n",
       "    <tr>\n",
       "      <th>3</th>\n",
       "      <td>60000000.0</td>\n",
       "      <td>Heat</td>\n",
       "      <td>187436818.0</td>\n",
       "      <td>949</td>\n",
       "      <td>0</td>\n",
       "      <td>0</td>\n",
       "      <td>0</td>\n",
       "      <td>0</td>\n",
       "      <td>0</td>\n",
       "      <td>0</td>\n",
       "      <td>...</td>\n",
       "      <td>0</td>\n",
       "      <td>0</td>\n",
       "      <td>0</td>\n",
       "      <td>0</td>\n",
       "      <td>0</td>\n",
       "      <td>[Al Pacino, Robert De Niro, Val Kilmer, Jon Vo...</td>\n",
       "      <td>[1158, 380, 5576, 10127, 3197, 6200, 15851, 15...</td>\n",
       "      <td>[Robert De Niro, Danny Trejo, Philip Ettington]</td>\n",
       "      <td>3</td>\n",
       "      <td>127436818.0</td>\n",
       "    </tr>\n",
       "    <tr>\n",
       "      <th>4</th>\n",
       "      <td>35000000.0</td>\n",
       "      <td>Sudden Death</td>\n",
       "      <td>64350171.0</td>\n",
       "      <td>9091</td>\n",
       "      <td>0</td>\n",
       "      <td>0</td>\n",
       "      <td>0</td>\n",
       "      <td>0</td>\n",
       "      <td>0</td>\n",
       "      <td>0</td>\n",
       "      <td>...</td>\n",
       "      <td>1</td>\n",
       "      <td>0</td>\n",
       "      <td>0</td>\n",
       "      <td>0</td>\n",
       "      <td>0</td>\n",
       "      <td>[Jean-Claude Van Damme, Powers Boothe, Dorian ...</td>\n",
       "      <td>[15111, 6280, 8656, 10361, 12928, 79088]</td>\n",
       "      <td>[]</td>\n",
       "      <td>0</td>\n",
       "      <td>29350171.0</td>\n",
       "    </tr>\n",
       "  </tbody>\n",
       "</table>\n",
       "<p>5 rows × 41 columns</p>\n",
       "</div>"
      ],
      "text/plain": [
       "       budget              title      revenue  movie_id  \\\n",
       "0  30000000.0          Toy Story  373554033.0       862   \n",
       "1  65000000.0            Jumanji  262797249.0      8844   \n",
       "2  16000000.0  Waiting to Exhale   81452156.0     31357   \n",
       "3  60000000.0               Heat  187436818.0       949   \n",
       "4  35000000.0       Sudden Death   64350171.0      9091   \n",
       "\n",
       "   Vision View Entertainment  The Cartel  TV Movie  Romance  \\\n",
       "0                          0           0         0        0   \n",
       "1                          0           0         0        0   \n",
       "2                          0           0         0        1   \n",
       "3                          0           0         0        0   \n",
       "4                          0           0         0        0   \n",
       "\n",
       "   Pulser Productions  Mardock Scramble Production Committee  ...  Adventure  \\\n",
       "0                   0                                      0  ...          0   \n",
       "1                   0                                      0  ...          1   \n",
       "2                   0                                      0  ...          0   \n",
       "3                   0                                      0  ...          0   \n",
       "4                   0                                      0  ...          1   \n",
       "\n",
       "   Western  Science Fiction  Sentai Filmworks  Odyssey Media  \\\n",
       "0        0                0                 0              0   \n",
       "1        0                0                 0              0   \n",
       "2        0                0                 0              0   \n",
       "3        0                0                 0              0   \n",
       "4        0                0                 0              0   \n",
       "\n",
       "                                           cast_name  \\\n",
       "0  [Tom Hanks, Tim Allen, Don Rickles, Jim Varney...   \n",
       "1  [Robin Williams, Jonathan Hyde, Kirsten Dunst,...   \n",
       "2  [Whitney Houston, Angela Bassett, Loretta Devi...   \n",
       "3  [Al Pacino, Robert De Niro, Val Kilmer, Jon Vo...   \n",
       "4  [Jean-Claude Van Damme, Powers Boothe, Dorian ...   \n",
       "\n",
       "                                             cast_id  \\\n",
       "0  [31, 12898, 7167, 12899, 12900, 7907, 8873, 11...   \n",
       "1  [2157, 8537, 205, 145151, 5149, 10739, 58563, ...   \n",
       "2  [8851, 9780, 18284, 51359, 66804, 352, 87118, ...   \n",
       "3  [1158, 380, 5576, 10127, 3197, 6200, 15851, 15...   \n",
       "4           [15111, 6280, 8656, 10361, 12928, 79088]   \n",
       "\n",
       "                                     famous_actors  num_famous_actors  \\\n",
       "0                                      [Tom Hanks]                  1   \n",
       "1                  [Robin Williams, Kirsten Dunst]                  2   \n",
       "2                                               []                  0   \n",
       "3  [Robert De Niro, Danny Trejo, Philip Ettington]                  3   \n",
       "4                                               []                  0   \n",
       "\n",
       "        profit  \n",
       "0  343554033.0  \n",
       "1  197797249.0  \n",
       "2   65452156.0  \n",
       "3  127436818.0  \n",
       "4   29350171.0  \n",
       "\n",
       "[5 rows x 41 columns]"
      ]
     },
     "execution_count": 184,
     "metadata": {},
     "output_type": "execute_result"
    }
   ],
   "source": [
    "df_movie_revenue_budget_cast.head(5)"
   ]
  },
  {
   "cell_type": "code",
   "execution_count": 185,
   "id": "d4a9f627",
   "metadata": {},
   "outputs": [],
   "source": [
    "cond = df_movie_revenue_budget_cast.num_famous_actors > 0\n",
    "df_movie_revenue_budget_cast = df_movie_revenue_budget_cast[cond]"
   ]
  },
  {
   "cell_type": "code",
   "execution_count": 186,
   "id": "21d925d8",
   "metadata": {},
   "outputs": [
    {
     "data": {
      "text/plain": [
       "(2375, 41)"
      ]
     },
     "execution_count": 186,
     "metadata": {},
     "output_type": "execute_result"
    }
   ],
   "source": [
    "df_movie_revenue_budget_cast.shape"
   ]
  },
  {
   "cell_type": "code",
   "execution_count": 187,
   "id": "6e15180b",
   "metadata": {},
   "outputs": [],
   "source": [
    "df_movie_revenue_budget_cast['profit'] = df_movie_revenue_budget_cast.revenue - df_movie_revenue_budget_cast.budget"
   ]
  },
  {
   "cell_type": "code",
   "execution_count": 188,
   "id": "2b34cf46",
   "metadata": {},
   "outputs": [
    {
     "data": {
      "text/html": [
       "<div>\n",
       "<style scoped>\n",
       "    .dataframe tbody tr th:only-of-type {\n",
       "        vertical-align: middle;\n",
       "    }\n",
       "\n",
       "    .dataframe tbody tr th {\n",
       "        vertical-align: top;\n",
       "    }\n",
       "\n",
       "    .dataframe thead th {\n",
       "        text-align: right;\n",
       "    }\n",
       "</style>\n",
       "<table border=\"1\" class=\"dataframe\">\n",
       "  <thead>\n",
       "    <tr style=\"text-align: right;\">\n",
       "      <th></th>\n",
       "      <th>budget</th>\n",
       "      <th>title</th>\n",
       "      <th>revenue</th>\n",
       "      <th>movie_id</th>\n",
       "      <th>Vision View Entertainment</th>\n",
       "      <th>The Cartel</th>\n",
       "      <th>TV Movie</th>\n",
       "      <th>Romance</th>\n",
       "      <th>Pulser Productions</th>\n",
       "      <th>Mardock Scramble Production Committee</th>\n",
       "      <th>...</th>\n",
       "      <th>Adventure</th>\n",
       "      <th>Western</th>\n",
       "      <th>Science Fiction</th>\n",
       "      <th>Sentai Filmworks</th>\n",
       "      <th>Odyssey Media</th>\n",
       "      <th>cast_name</th>\n",
       "      <th>cast_id</th>\n",
       "      <th>famous_actors</th>\n",
       "      <th>num_famous_actors</th>\n",
       "      <th>profit</th>\n",
       "    </tr>\n",
       "  </thead>\n",
       "  <tbody>\n",
       "    <tr>\n",
       "      <th>0</th>\n",
       "      <td>30000000.0</td>\n",
       "      <td>Toy Story</td>\n",
       "      <td>373554033.0</td>\n",
       "      <td>862</td>\n",
       "      <td>0</td>\n",
       "      <td>0</td>\n",
       "      <td>0</td>\n",
       "      <td>0</td>\n",
       "      <td>0</td>\n",
       "      <td>0</td>\n",
       "      <td>...</td>\n",
       "      <td>0</td>\n",
       "      <td>0</td>\n",
       "      <td>0</td>\n",
       "      <td>0</td>\n",
       "      <td>0</td>\n",
       "      <td>[Tom Hanks, Tim Allen, Don Rickles, Jim Varney...</td>\n",
       "      <td>[31, 12898, 7167, 12899, 12900, 7907, 8873, 11...</td>\n",
       "      <td>[Tom Hanks]</td>\n",
       "      <td>1</td>\n",
       "      <td>343554033.0</td>\n",
       "    </tr>\n",
       "    <tr>\n",
       "      <th>1</th>\n",
       "      <td>65000000.0</td>\n",
       "      <td>Jumanji</td>\n",
       "      <td>262797249.0</td>\n",
       "      <td>8844</td>\n",
       "      <td>0</td>\n",
       "      <td>0</td>\n",
       "      <td>0</td>\n",
       "      <td>0</td>\n",
       "      <td>0</td>\n",
       "      <td>0</td>\n",
       "      <td>...</td>\n",
       "      <td>1</td>\n",
       "      <td>0</td>\n",
       "      <td>0</td>\n",
       "      <td>0</td>\n",
       "      <td>0</td>\n",
       "      <td>[Robin Williams, Jonathan Hyde, Kirsten Dunst,...</td>\n",
       "      <td>[2157, 8537, 205, 145151, 5149, 10739, 58563, ...</td>\n",
       "      <td>[Robin Williams, Kirsten Dunst]</td>\n",
       "      <td>2</td>\n",
       "      <td>197797249.0</td>\n",
       "    </tr>\n",
       "    <tr>\n",
       "      <th>3</th>\n",
       "      <td>60000000.0</td>\n",
       "      <td>Heat</td>\n",
       "      <td>187436818.0</td>\n",
       "      <td>949</td>\n",
       "      <td>0</td>\n",
       "      <td>0</td>\n",
       "      <td>0</td>\n",
       "      <td>0</td>\n",
       "      <td>0</td>\n",
       "      <td>0</td>\n",
       "      <td>...</td>\n",
       "      <td>0</td>\n",
       "      <td>0</td>\n",
       "      <td>0</td>\n",
       "      <td>0</td>\n",
       "      <td>0</td>\n",
       "      <td>[Al Pacino, Robert De Niro, Val Kilmer, Jon Vo...</td>\n",
       "      <td>[1158, 380, 5576, 10127, 3197, 6200, 15851, 15...</td>\n",
       "      <td>[Robert De Niro, Danny Trejo, Philip Ettington]</td>\n",
       "      <td>3</td>\n",
       "      <td>127436818.0</td>\n",
       "    </tr>\n",
       "    <tr>\n",
       "      <th>7</th>\n",
       "      <td>44000000.0</td>\n",
       "      <td>Nixon</td>\n",
       "      <td>13681765.0</td>\n",
       "      <td>10858</td>\n",
       "      <td>0</td>\n",
       "      <td>0</td>\n",
       "      <td>0</td>\n",
       "      <td>0</td>\n",
       "      <td>0</td>\n",
       "      <td>0</td>\n",
       "      <td>...</td>\n",
       "      <td>0</td>\n",
       "      <td>0</td>\n",
       "      <td>0</td>\n",
       "      <td>0</td>\n",
       "      <td>0</td>\n",
       "      <td>[Anthony Hopkins, Joan Allen, Powers Boothe, E...</td>\n",
       "      <td>[4173, 11148, 6280, 228, 382, 5249, 19839, 110...</td>\n",
       "      <td>[Ed Harris]</td>\n",
       "      <td>1</td>\n",
       "      <td>-30318235.0</td>\n",
       "    </tr>\n",
       "    <tr>\n",
       "      <th>9</th>\n",
       "      <td>52000000.0</td>\n",
       "      <td>Casino</td>\n",
       "      <td>116112375.0</td>\n",
       "      <td>524</td>\n",
       "      <td>0</td>\n",
       "      <td>0</td>\n",
       "      <td>0</td>\n",
       "      <td>0</td>\n",
       "      <td>0</td>\n",
       "      <td>0</td>\n",
       "      <td>...</td>\n",
       "      <td>0</td>\n",
       "      <td>0</td>\n",
       "      <td>0</td>\n",
       "      <td>0</td>\n",
       "      <td>0</td>\n",
       "      <td>[Robert De Niro, Sharon Stone, Joe Pesci, Jame...</td>\n",
       "      <td>[380, 4430, 4517, 4512, 7167, 7169, 7166, 7165...</td>\n",
       "      <td>[Robert De Niro]</td>\n",
       "      <td>1</td>\n",
       "      <td>64112375.0</td>\n",
       "    </tr>\n",
       "  </tbody>\n",
       "</table>\n",
       "<p>5 rows × 41 columns</p>\n",
       "</div>"
      ],
      "text/plain": [
       "       budget      title      revenue  movie_id  Vision View Entertainment  \\\n",
       "0  30000000.0  Toy Story  373554033.0       862                          0   \n",
       "1  65000000.0    Jumanji  262797249.0      8844                          0   \n",
       "3  60000000.0       Heat  187436818.0       949                          0   \n",
       "7  44000000.0      Nixon   13681765.0     10858                          0   \n",
       "9  52000000.0     Casino  116112375.0       524                          0   \n",
       "\n",
       "   The Cartel  TV Movie  Romance  Pulser Productions  \\\n",
       "0           0         0        0                   0   \n",
       "1           0         0        0                   0   \n",
       "3           0         0        0                   0   \n",
       "7           0         0        0                   0   \n",
       "9           0         0        0                   0   \n",
       "\n",
       "   Mardock Scramble Production Committee  ...  Adventure  Western  \\\n",
       "0                                      0  ...          0        0   \n",
       "1                                      0  ...          1        0   \n",
       "3                                      0  ...          0        0   \n",
       "7                                      0  ...          0        0   \n",
       "9                                      0  ...          0        0   \n",
       "\n",
       "   Science Fiction  Sentai Filmworks  Odyssey Media  \\\n",
       "0                0                 0              0   \n",
       "1                0                 0              0   \n",
       "3                0                 0              0   \n",
       "7                0                 0              0   \n",
       "9                0                 0              0   \n",
       "\n",
       "                                           cast_name  \\\n",
       "0  [Tom Hanks, Tim Allen, Don Rickles, Jim Varney...   \n",
       "1  [Robin Williams, Jonathan Hyde, Kirsten Dunst,...   \n",
       "3  [Al Pacino, Robert De Niro, Val Kilmer, Jon Vo...   \n",
       "7  [Anthony Hopkins, Joan Allen, Powers Boothe, E...   \n",
       "9  [Robert De Niro, Sharon Stone, Joe Pesci, Jame...   \n",
       "\n",
       "                                             cast_id  \\\n",
       "0  [31, 12898, 7167, 12899, 12900, 7907, 8873, 11...   \n",
       "1  [2157, 8537, 205, 145151, 5149, 10739, 58563, ...   \n",
       "3  [1158, 380, 5576, 10127, 3197, 6200, 15851, 15...   \n",
       "7  [4173, 11148, 6280, 228, 382, 5249, 19839, 110...   \n",
       "9  [380, 4430, 4517, 4512, 7167, 7169, 7166, 7165...   \n",
       "\n",
       "                                     famous_actors  num_famous_actors  \\\n",
       "0                                      [Tom Hanks]                  1   \n",
       "1                  [Robin Williams, Kirsten Dunst]                  2   \n",
       "3  [Robert De Niro, Danny Trejo, Philip Ettington]                  3   \n",
       "7                                      [Ed Harris]                  1   \n",
       "9                                 [Robert De Niro]                  1   \n",
       "\n",
       "        profit  \n",
       "0  343554033.0  \n",
       "1  197797249.0  \n",
       "3  127436818.0  \n",
       "7  -30318235.0  \n",
       "9   64112375.0  \n",
       "\n",
       "[5 rows x 41 columns]"
      ]
     },
     "execution_count": 188,
     "metadata": {},
     "output_type": "execute_result"
    }
   ],
   "source": [
    "df_movie_revenue_budget_cast.head(5)"
   ]
  },
  {
   "cell_type": "code",
   "execution_count": 189,
   "id": "c3d2dd2e",
   "metadata": {},
   "outputs": [],
   "source": [
    "from sklearn import linear_model\n",
    "import matplotlib\n",
    "import matplotlib.pyplot as plt\n",
    "%matplotlib inline\n",
    "\n",
    "# Mimic ggplot in R\n",
    "matplotlib.style.use('ggplot')"
   ]
  },
  {
   "cell_type": "code",
   "execution_count": 190,
   "id": "e6e4e76d",
   "metadata": {
    "scrolled": false
   },
   "outputs": [
    {
     "data": {
      "text/plain": [
       "<AxesSubplot:xlabel='num_famous_actors', ylabel='profit'>"
      ]
     },
     "execution_count": 190,
     "metadata": {},
     "output_type": "execute_result"
    },
    {
     "data": {
      "image/png": "[encoded data removed]",
      "text/plain": [
       "<Figure size 360x360 with 1 Axes>"
      ]
     },
     "metadata": {},
     "output_type": "display_data"
    }
   ],
   "source": [
    "df_movie_revenue_budget_cast.plot(kind=\"scatter\",  # Scatter Plot\n",
    "          x=\"num_famous_actors\",           # 'x' for x-axis\n",
    "          y=\"profit\",           # 'y' for y-axis\n",
    "          figsize=(5,5),   # 5 x 5 size\n",
    "          color=\"blue\")    # blue dot"
   ]
  },
  {
   "cell_type": "code",
   "execution_count": 191,
   "id": "ceee6f39",
   "metadata": {},
   "outputs": [
    {
     "data": {
      "text/plain": [
       "705"
      ]
     },
     "execution_count": 191,
     "metadata": {},
     "output_type": "execute_result"
    }
   ],
   "source": [
    "df_movie_revenue_budget_cast[df_movie_revenue_budget_cast[\"Action\"] == 1].count()[0]"
   ]
  },
  {
   "cell_type": "code",
   "execution_count": 192,
   "id": "3f19c0bf",
   "metadata": {},
   "outputs": [
    {
     "data": {
      "text/plain": [
       "485"
      ]
     },
     "execution_count": 192,
     "metadata": {},
     "output_type": "execute_result"
    }
   ],
   "source": [
    "df_movie_revenue_budget_cast[df_movie_revenue_budget_cast[\"Adventure\"] == 1].count()[0]"
   ]
  },
  {
   "cell_type": "code",
   "execution_count": 193,
   "id": "7de2bca1",
   "metadata": {},
   "outputs": [
    {
     "data": {
      "text/plain": [
       "391"
      ]
     },
     "execution_count": 193,
     "metadata": {},
     "output_type": "execute_result"
    }
   ],
   "source": [
    "df_movie_revenue_budget_cast[df_movie_revenue_budget_cast[\"Romance\"] == 1].count()[0]"
   ]
  },
  {
   "cell_type": "code",
   "execution_count": 194,
   "id": "7060216a",
   "metadata": {},
   "outputs": [
    {
     "data": {
      "text/plain": [
       "874"
      ]
     },
     "execution_count": 194,
     "metadata": {},
     "output_type": "execute_result"
    }
   ],
   "source": [
    "df_movie_revenue_budget_cast[df_movie_revenue_budget_cast[\"Comedy\"] == 1].count()[0]"
   ]
  },
  {
   "cell_type": "code",
   "execution_count": 195,
   "id": "af693892",
   "metadata": {},
   "outputs": [
    {
     "data": {
      "text/plain": [
       "495"
      ]
     },
     "execution_count": 195,
     "metadata": {},
     "output_type": "execute_result"
    }
   ],
   "source": [
    "df_movie_revenue_budget_cast[df_movie_revenue_budget_cast[\"Crime\"] == 1].count()[0]"
   ]
  },
  {
   "cell_type": "code",
   "execution_count": 196,
   "id": "3ba21e7e",
   "metadata": {},
   "outputs": [
    {
     "data": {
      "text/plain": [
       "138"
      ]
     },
     "execution_count": 196,
     "metadata": {},
     "output_type": "execute_result"
    }
   ],
   "source": [
    "df_movie_revenue_budget_cast[df_movie_revenue_budget_cast[\"Horror\"] == 1].count()[0]"
   ]
  },
  {
   "cell_type": "code",
   "execution_count": 197,
   "id": "71be61e7",
   "metadata": {},
   "outputs": [
    {
     "data": {
      "text/plain": [
       "1132"
      ]
     },
     "execution_count": 197,
     "metadata": {},
     "output_type": "execute_result"
    }
   ],
   "source": [
    "df_movie_revenue_budget_cast[df_movie_revenue_budget_cast[\"Drama\"] == 1].count()[0]"
   ]
  },
  {
   "cell_type": "code",
   "execution_count": 198,
   "id": "5c76a091",
   "metadata": {},
   "outputs": [
    {
     "data": {
      "text/plain": [
       "259"
      ]
     },
     "execution_count": 198,
     "metadata": {},
     "output_type": "execute_result"
    }
   ],
   "source": [
    "df_movie_revenue_budget_cast[df_movie_revenue_budget_cast[\"Family\"] == 1].count()[0]"
   ]
  },
  {
   "cell_type": "code",
   "execution_count": 199,
   "id": "94dd6955",
   "metadata": {},
   "outputs": [
    {
     "data": {
      "text/plain": [
       "262"
      ]
     },
     "execution_count": 199,
     "metadata": {},
     "output_type": "execute_result"
    }
   ],
   "source": [
    "df_movie_revenue_budget_cast[df_movie_revenue_budget_cast[\"Fantasy\"] == 1].count()[0]"
   ]
  },
  {
   "cell_type": "code",
   "execution_count": 200,
   "id": "97a0b992",
   "metadata": {},
   "outputs": [
    {
     "data": {
      "text/plain": [
       "194"
      ]
     },
     "execution_count": 200,
     "metadata": {},
     "output_type": "execute_result"
    }
   ],
   "source": [
    "df_movie_revenue_budget_cast[df_movie_revenue_budget_cast[\"Mystery\"] == 1].count()[0]"
   ]
  },
  {
   "cell_type": "code",
   "execution_count": 201,
   "id": "0531ad41",
   "metadata": {},
   "outputs": [
    {
     "data": {
      "text/plain": [
       "297"
      ]
     },
     "execution_count": 201,
     "metadata": {},
     "output_type": "execute_result"
    }
   ],
   "source": [
    "df_movie_revenue_budget_cast[df_movie_revenue_budget_cast[\"Science Fiction\"] == 1].count()[0]"
   ]
  },
  {
   "cell_type": "code",
   "execution_count": 202,
   "id": "0b545496",
   "metadata": {},
   "outputs": [
    {
     "data": {
      "text/plain": [
       "726"
      ]
     },
     "execution_count": 202,
     "metadata": {},
     "output_type": "execute_result"
    }
   ],
   "source": [
    "df_movie_revenue_budget_cast[df_movie_revenue_budget_cast[\"Thriller\"] == 1].count()[0]"
   ]
  },
  {
   "cell_type": "code",
   "execution_count": 203,
   "id": "0eb2621a",
   "metadata": {},
   "outputs": [
    {
     "data": {
      "text/plain": [
       "46"
      ]
     },
     "execution_count": 203,
     "metadata": {},
     "output_type": "execute_result"
    }
   ],
   "source": [
    "df_movie_revenue_budget_cast[df_movie_revenue_budget_cast[\"Western\"] == 1].count()[0]"
   ]
  },
  {
   "cell_type": "code",
   "execution_count": 204,
   "id": "526d00f5",
   "metadata": {},
   "outputs": [
    {
     "data": {
      "text/html": [
       "<div>\n",
       "<style scoped>\n",
       "    .dataframe tbody tr th:only-of-type {\n",
       "        vertical-align: middle;\n",
       "    }\n",
       "\n",
       "    .dataframe tbody tr th {\n",
       "        vertical-align: top;\n",
       "    }\n",
       "\n",
       "    .dataframe thead th {\n",
       "        text-align: right;\n",
       "    }\n",
       "</style>\n",
       "<table border=\"1\" class=\"dataframe\">\n",
       "  <thead>\n",
       "    <tr style=\"text-align: right;\">\n",
       "      <th></th>\n",
       "      <th>budget</th>\n",
       "      <th>title</th>\n",
       "      <th>revenue</th>\n",
       "      <th>movie_id</th>\n",
       "      <th>Vision View Entertainment</th>\n",
       "      <th>The Cartel</th>\n",
       "      <th>TV Movie</th>\n",
       "      <th>Romance</th>\n",
       "      <th>Pulser Productions</th>\n",
       "      <th>Mardock Scramble Production Committee</th>\n",
       "      <th>...</th>\n",
       "      <th>Adventure</th>\n",
       "      <th>Western</th>\n",
       "      <th>Science Fiction</th>\n",
       "      <th>Sentai Filmworks</th>\n",
       "      <th>Odyssey Media</th>\n",
       "      <th>cast_name</th>\n",
       "      <th>cast_id</th>\n",
       "      <th>famous_actors</th>\n",
       "      <th>num_famous_actors</th>\n",
       "      <th>profit</th>\n",
       "    </tr>\n",
       "  </thead>\n",
       "  <tbody>\n",
       "    <tr>\n",
       "      <th>3</th>\n",
       "      <td>60000000.0</td>\n",
       "      <td>Heat</td>\n",
       "      <td>187436818.0</td>\n",
       "      <td>949</td>\n",
       "      <td>0</td>\n",
       "      <td>0</td>\n",
       "      <td>0</td>\n",
       "      <td>0</td>\n",
       "      <td>0</td>\n",
       "      <td>0</td>\n",
       "      <td>...</td>\n",
       "      <td>0</td>\n",
       "      <td>0</td>\n",
       "      <td>0</td>\n",
       "      <td>0</td>\n",
       "      <td>0</td>\n",
       "      <td>[Al Pacino, Robert De Niro, Val Kilmer, Jon Vo...</td>\n",
       "      <td>[1158, 380, 5576, 10127, 3197, 6200, 15851, 15...</td>\n",
       "      <td>[Robert De Niro, Danny Trejo, Philip Ettington]</td>\n",
       "      <td>3</td>\n",
       "      <td>127436818.0</td>\n",
       "    </tr>\n",
       "    <tr>\n",
       "      <th>7</th>\n",
       "      <td>44000000.0</td>\n",
       "      <td>Nixon</td>\n",
       "      <td>13681765.0</td>\n",
       "      <td>10858</td>\n",
       "      <td>0</td>\n",
       "      <td>0</td>\n",
       "      <td>0</td>\n",
       "      <td>0</td>\n",
       "      <td>0</td>\n",
       "      <td>0</td>\n",
       "      <td>...</td>\n",
       "      <td>0</td>\n",
       "      <td>0</td>\n",
       "      <td>0</td>\n",
       "      <td>0</td>\n",
       "      <td>0</td>\n",
       "      <td>[Anthony Hopkins, Joan Allen, Powers Boothe, E...</td>\n",
       "      <td>[4173, 11148, 6280, 228, 382, 5249, 19839, 110...</td>\n",
       "      <td>[Ed Harris]</td>\n",
       "      <td>1</td>\n",
       "      <td>-30318235.0</td>\n",
       "    </tr>\n",
       "    <tr>\n",
       "      <th>9</th>\n",
       "      <td>52000000.0</td>\n",
       "      <td>Casino</td>\n",
       "      <td>116112375.0</td>\n",
       "      <td>524</td>\n",
       "      <td>0</td>\n",
       "      <td>0</td>\n",
       "      <td>0</td>\n",
       "      <td>0</td>\n",
       "      <td>0</td>\n",
       "      <td>0</td>\n",
       "      <td>...</td>\n",
       "      <td>0</td>\n",
       "      <td>0</td>\n",
       "      <td>0</td>\n",
       "      <td>0</td>\n",
       "      <td>0</td>\n",
       "      <td>[Robert De Niro, Sharon Stone, Joe Pesci, Jame...</td>\n",
       "      <td>[380, 4430, 4517, 4512, 7167, 7169, 7166, 7165...</td>\n",
       "      <td>[Robert De Niro]</td>\n",
       "      <td>1</td>\n",
       "      <td>64112375.0</td>\n",
       "    </tr>\n",
       "    <tr>\n",
       "      <th>10</th>\n",
       "      <td>16500000.0</td>\n",
       "      <td>Sense and Sensibility</td>\n",
       "      <td>135000000.0</td>\n",
       "      <td>4584</td>\n",
       "      <td>0</td>\n",
       "      <td>0</td>\n",
       "      <td>0</td>\n",
       "      <td>1</td>\n",
       "      <td>0</td>\n",
       "      <td>0</td>\n",
       "      <td>...</td>\n",
       "      <td>0</td>\n",
       "      <td>0</td>\n",
       "      <td>0</td>\n",
       "      <td>0</td>\n",
       "      <td>0</td>\n",
       "      <td>[Kate Winslet, Emma Thompson, Hugh Grant, Tom ...</td>\n",
       "      <td>[204, 7056, 3291, 207, 4566, 20769, 16700, 414...</td>\n",
       "      <td>[Tom Wilkinson]</td>\n",
       "      <td>1</td>\n",
       "      <td>118500000.0</td>\n",
       "    </tr>\n",
       "    <tr>\n",
       "      <th>16</th>\n",
       "      <td>3600000.0</td>\n",
       "      <td>Leaving Las Vegas</td>\n",
       "      <td>49800000.0</td>\n",
       "      <td>451</td>\n",
       "      <td>0</td>\n",
       "      <td>0</td>\n",
       "      <td>0</td>\n",
       "      <td>1</td>\n",
       "      <td>0</td>\n",
       "      <td>0</td>\n",
       "      <td>...</td>\n",
       "      <td>0</td>\n",
       "      <td>0</td>\n",
       "      <td>0</td>\n",
       "      <td>0</td>\n",
       "      <td>0</td>\n",
       "      <td>[Nicolas Cage, Elisabeth Shue, Julian Sands, R...</td>\n",
       "      <td>[2963, 1951, 6104, 6105, 6106, 6107, 6108, 610...</td>\n",
       "      <td>[Nicolas Cage]</td>\n",
       "      <td>1</td>\n",
       "      <td>46200000.0</td>\n",
       "    </tr>\n",
       "    <tr>\n",
       "      <th>...</th>\n",
       "      <td>...</td>\n",
       "      <td>...</td>\n",
       "      <td>...</td>\n",
       "      <td>...</td>\n",
       "      <td>...</td>\n",
       "      <td>...</td>\n",
       "      <td>...</td>\n",
       "      <td>...</td>\n",
       "      <td>...</td>\n",
       "      <td>...</td>\n",
       "      <td>...</td>\n",
       "      <td>...</td>\n",
       "      <td>...</td>\n",
       "      <td>...</td>\n",
       "      <td>...</td>\n",
       "      <td>...</td>\n",
       "      <td>...</td>\n",
       "      <td>...</td>\n",
       "      <td>...</td>\n",
       "      <td>...</td>\n",
       "      <td>...</td>\n",
       "    </tr>\n",
       "    <tr>\n",
       "      <th>5313</th>\n",
       "      <td>10500000.0</td>\n",
       "      <td>Aftermath</td>\n",
       "      <td>3451.0</td>\n",
       "      <td>390051</td>\n",
       "      <td>0</td>\n",
       "      <td>0</td>\n",
       "      <td>0</td>\n",
       "      <td>0</td>\n",
       "      <td>0</td>\n",
       "      <td>0</td>\n",
       "      <td>...</td>\n",
       "      <td>0</td>\n",
       "      <td>0</td>\n",
       "      <td>0</td>\n",
       "      <td>0</td>\n",
       "      <td>0</td>\n",
       "      <td>[Arnold Schwarzenegger, Scoot McNairy, Maggie ...</td>\n",
       "      <td>[1100, 59233, 11825, 1753210, 117087, 1023800,...</td>\n",
       "      <td>[Arnold Schwarzenegger]</td>\n",
       "      <td>1</td>\n",
       "      <td>-10496549.0</td>\n",
       "    </tr>\n",
       "    <tr>\n",
       "      <th>5340</th>\n",
       "      <td>10500000.0</td>\n",
       "      <td>The Beguiled</td>\n",
       "      <td>25442939.0</td>\n",
       "      <td>399019</td>\n",
       "      <td>0</td>\n",
       "      <td>0</td>\n",
       "      <td>0</td>\n",
       "      <td>0</td>\n",
       "      <td>0</td>\n",
       "      <td>0</td>\n",
       "      <td>...</td>\n",
       "      <td>0</td>\n",
       "      <td>1</td>\n",
       "      <td>0</td>\n",
       "      <td>0</td>\n",
       "      <td>0</td>\n",
       "      <td>[Colin Farrell, Nicole Kidman, Kirsten Dunst, ...</td>\n",
       "      <td>[72466, 2227, 205, 18050, 1423519, 1265629, 16...</td>\n",
       "      <td>[Colin Farrell, Nicole Kidman, Kirsten Dunst]</td>\n",
       "      <td>3</td>\n",
       "      <td>14942939.0</td>\n",
       "    </tr>\n",
       "    <tr>\n",
       "      <th>5361</th>\n",
       "      <td>5000000.0</td>\n",
       "      <td>Paris Can Wait</td>\n",
       "      <td>6700000.0</td>\n",
       "      <td>375867</td>\n",
       "      <td>0</td>\n",
       "      <td>0</td>\n",
       "      <td>0</td>\n",
       "      <td>1</td>\n",
       "      <td>0</td>\n",
       "      <td>0</td>\n",
       "      <td>...</td>\n",
       "      <td>0</td>\n",
       "      <td>0</td>\n",
       "      <td>0</td>\n",
       "      <td>0</td>\n",
       "      <td>0</td>\n",
       "      <td>[Diane Lane, Arnaud Viard, Alec Baldwin, Cédri...</td>\n",
       "      <td>[2882, 232764, 7447, 1164462, 1427230]</td>\n",
       "      <td>[Alec Baldwin]</td>\n",
       "      <td>1</td>\n",
       "      <td>1700000.0</td>\n",
       "    </tr>\n",
       "    <tr>\n",
       "      <th>5366</th>\n",
       "      <td>152000000.0</td>\n",
       "      <td>War for the Planet of the Apes</td>\n",
       "      <td>369907963.0</td>\n",
       "      <td>281338</td>\n",
       "      <td>0</td>\n",
       "      <td>0</td>\n",
       "      <td>0</td>\n",
       "      <td>0</td>\n",
       "      <td>0</td>\n",
       "      <td>0</td>\n",
       "      <td>...</td>\n",
       "      <td>0</td>\n",
       "      <td>0</td>\n",
       "      <td>1</td>\n",
       "      <td>0</td>\n",
       "      <td>0</td>\n",
       "      <td>[Andy Serkis, Woody Harrelson, Steve Zahn, Kar...</td>\n",
       "      <td>[1333, 57755, 18324, 58395, 236696, 42711, 635...</td>\n",
       "      <td>[Woody Harrelson]</td>\n",
       "      <td>1</td>\n",
       "      <td>217907963.0</td>\n",
       "    </tr>\n",
       "    <tr>\n",
       "      <th>5375</th>\n",
       "      <td>100000000.0</td>\n",
       "      <td>Dunkirk</td>\n",
       "      <td>519876949.0</td>\n",
       "      <td>374720</td>\n",
       "      <td>0</td>\n",
       "      <td>0</td>\n",
       "      <td>0</td>\n",
       "      <td>0</td>\n",
       "      <td>0</td>\n",
       "      <td>0</td>\n",
       "      <td>...</td>\n",
       "      <td>0</td>\n",
       "      <td>0</td>\n",
       "      <td>0</td>\n",
       "      <td>0</td>\n",
       "      <td>0</td>\n",
       "      <td>[Fionn Whitehead, Tom Glynn-Carney, Jack Lowde...</td>\n",
       "      <td>[1687041, 1765227, 1334638, 1052109, 145143, 1...</td>\n",
       "      <td>[Michael Caine]</td>\n",
       "      <td>1</td>\n",
       "      <td>419876949.0</td>\n",
       "    </tr>\n",
       "  </tbody>\n",
       "</table>\n",
       "<p>1132 rows × 41 columns</p>\n",
       "</div>"
      ],
      "text/plain": [
       "           budget                           title      revenue  movie_id  \\\n",
       "3      60000000.0                            Heat  187436818.0       949   \n",
       "7      44000000.0                           Nixon   13681765.0     10858   \n",
       "9      52000000.0                          Casino  116112375.0       524   \n",
       "10     16500000.0           Sense and Sensibility  135000000.0      4584   \n",
       "16      3600000.0               Leaving Las Vegas   49800000.0       451   \n",
       "...           ...                             ...          ...       ...   \n",
       "5313   10500000.0                       Aftermath       3451.0    390051   \n",
       "5340   10500000.0                    The Beguiled   25442939.0    399019   \n",
       "5361    5000000.0                  Paris Can Wait    6700000.0    375867   \n",
       "5366  152000000.0  War for the Planet of the Apes  369907963.0    281338   \n",
       "5375  100000000.0                         Dunkirk  519876949.0    374720   \n",
       "\n",
       "      Vision View Entertainment  The Cartel  TV Movie  Romance  \\\n",
       "3                             0           0         0        0   \n",
       "7                             0           0         0        0   \n",
       "9                             0           0         0        0   \n",
       "10                            0           0         0        1   \n",
       "16                            0           0         0        1   \n",
       "...                         ...         ...       ...      ...   \n",
       "5313                          0           0         0        0   \n",
       "5340                          0           0         0        0   \n",
       "5361                          0           0         0        1   \n",
       "5366                          0           0         0        0   \n",
       "5375                          0           0         0        0   \n",
       "\n",
       "      Pulser Productions  Mardock Scramble Production Committee  ...  \\\n",
       "3                      0                                      0  ...   \n",
       "7                      0                                      0  ...   \n",
       "9                      0                                      0  ...   \n",
       "10                     0                                      0  ...   \n",
       "16                     0                                      0  ...   \n",
       "...                  ...                                    ...  ...   \n",
       "5313                   0                                      0  ...   \n",
       "5340                   0                                      0  ...   \n",
       "5361                   0                                      0  ...   \n",
       "5366                   0                                      0  ...   \n",
       "5375                   0                                      0  ...   \n",
       "\n",
       "      Adventure  Western  Science Fiction  Sentai Filmworks  Odyssey Media  \\\n",
       "3             0        0                0                 0              0   \n",
       "7             0        0                0                 0              0   \n",
       "9             0        0                0                 0              0   \n",
       "10            0        0                0                 0              0   \n",
       "16            0        0                0                 0              0   \n",
       "...         ...      ...              ...               ...            ...   \n",
       "5313          0        0                0                 0              0   \n",
       "5340          0        1                0                 0              0   \n",
       "5361          0        0                0                 0              0   \n",
       "5366          0        0                1                 0              0   \n",
       "5375          0        0                0                 0              0   \n",
       "\n",
       "                                              cast_name  \\\n",
       "3     [Al Pacino, Robert De Niro, Val Kilmer, Jon Vo...   \n",
       "7     [Anthony Hopkins, Joan Allen, Powers Boothe, E...   \n",
       "9     [Robert De Niro, Sharon Stone, Joe Pesci, Jame...   \n",
       "10    [Kate Winslet, Emma Thompson, Hugh Grant, Tom ...   \n",
       "16    [Nicolas Cage, Elisabeth Shue, Julian Sands, R...   \n",
       "...                                                 ...   \n",
       "5313  [Arnold Schwarzenegger, Scoot McNairy, Maggie ...   \n",
       "5340  [Colin Farrell, Nicole Kidman, Kirsten Dunst, ...   \n",
       "5361  [Diane Lane, Arnaud Viard, Alec Baldwin, Cédri...   \n",
       "5366  [Andy Serkis, Woody Harrelson, Steve Zahn, Kar...   \n",
       "5375  [Fionn Whitehead, Tom Glynn-Carney, Jack Lowde...   \n",
       "\n",
       "                                                cast_id  \\\n",
       "3     [1158, 380, 5576, 10127, 3197, 6200, 15851, 15...   \n",
       "7     [4173, 11148, 6280, 228, 382, 5249, 19839, 110...   \n",
       "9     [380, 4430, 4517, 4512, 7167, 7169, 7166, 7165...   \n",
       "10    [204, 7056, 3291, 207, 4566, 20769, 16700, 414...   \n",
       "16    [2963, 1951, 6104, 6105, 6106, 6107, 6108, 610...   \n",
       "...                                                 ...   \n",
       "5313  [1100, 59233, 11825, 1753210, 117087, 1023800,...   \n",
       "5340  [72466, 2227, 205, 18050, 1423519, 1265629, 16...   \n",
       "5361             [2882, 232764, 7447, 1164462, 1427230]   \n",
       "5366  [1333, 57755, 18324, 58395, 236696, 42711, 635...   \n",
       "5375  [1687041, 1765227, 1334638, 1052109, 145143, 1...   \n",
       "\n",
       "                                        famous_actors  num_famous_actors  \\\n",
       "3     [Robert De Niro, Danny Trejo, Philip Ettington]                  3   \n",
       "7                                         [Ed Harris]                  1   \n",
       "9                                    [Robert De Niro]                  1   \n",
       "10                                    [Tom Wilkinson]                  1   \n",
       "16                                     [Nicolas Cage]                  1   \n",
       "...                                               ...                ...   \n",
       "5313                          [Arnold Schwarzenegger]                  1   \n",
       "5340    [Colin Farrell, Nicole Kidman, Kirsten Dunst]                  3   \n",
       "5361                                   [Alec Baldwin]                  1   \n",
       "5366                                [Woody Harrelson]                  1   \n",
       "5375                                  [Michael Caine]                  1   \n",
       "\n",
       "           profit  \n",
       "3     127436818.0  \n",
       "7     -30318235.0  \n",
       "9      64112375.0  \n",
       "10    118500000.0  \n",
       "16     46200000.0  \n",
       "...           ...  \n",
       "5313  -10496549.0  \n",
       "5340   14942939.0  \n",
       "5361    1700000.0  \n",
       "5366  217907963.0  \n",
       "5375  419876949.0  \n",
       "\n",
       "[1132 rows x 41 columns]"
      ]
     },
     "execution_count": 204,
     "metadata": {},
     "output_type": "execute_result"
    }
   ],
   "source": [
    "df_movie_revenue_budget_cast_Drama = df_movie_revenue_budget_cast[df_movie_revenue_budget_cast[\"Drama\"] == 1]\n",
    "df_movie_revenue_budget_cast_Drama"
   ]
  },
  {
   "cell_type": "code",
   "execution_count": 205,
   "id": "674bd2d6",
   "metadata": {},
   "outputs": [
    {
     "data": {
      "text/plain": [
       "<AxesSubplot:xlabel='num_famous_actors', ylabel='profit'>"
      ]
     },
     "execution_count": 205,
     "metadata": {},
     "output_type": "execute_result"
    },
    {
     "data": {
      "image/png": "[encoded data removed]",
      "text/plain": [
       "<Figure size 360x360 with 1 Axes>"
      ]
     },
     "metadata": {},
     "output_type": "display_data"
    }
   ],
   "source": [
    "df_movie_revenue_budget_cast_Drama.plot(kind=\"scatter\",  # Scatter Plot\n",
    "          x=\"num_famous_actors\",           # 'x' for x-axis\n",
    "          y=\"profit\",           # 'y' for y-axis\n",
    "          figsize=(5,5),   # 5 x 5 size\n",
    "          color=\"blue\")    # blue dot"
   ]
  },
  {
   "cell_type": "code",
   "execution_count": 206,
   "id": "139dfa9b",
   "metadata": {},
   "outputs": [],
   "source": [
    "number_factors_total_profit = {}\n",
    "number_factors_total_number = {}\n",
    "for row in df_movie_revenue_budget_cast.iterrows():\n",
    "    if row[1]['num_famous_actors'] in number_factors_total_profit:\n",
    "        number_factors_total_profit[row[1]['num_famous_actors']] += row[1]['profit']\n",
    "        number_factors_total_number[row[1]['num_famous_actors']] += 1\n",
    "    else:\n",
    "        number_factors_total_profit[row[1]['num_famous_actors']] = row[1]['profit']\n",
    "        number_factors_total_number[row[1]['num_famous_actors']] = 1"
   ]
  },
  {
   "cell_type": "code",
   "execution_count": 207,
   "id": "689459e8",
   "metadata": {},
   "outputs": [],
   "source": [
    "number_factors_mean_profit = []\n",
    "number_factors = []\n",
    "for key in number_factors_total_profit:\n",
    "    number_factors.append(key)\n",
    "    number_factors_mean_profit.append(number_factors_total_profit[key]/number_factors_total_number[key])"
   ]
  },
  {
   "cell_type": "code",
   "execution_count": 251,
   "id": "51b7a33b",
   "metadata": {},
   "outputs": [
    {
     "data": {
      "image/png": "[encoded data removed]",
      "text/plain": [
       "<Figure size 432x288 with 1 Axes>"
      ]
     },
     "metadata": {},
     "output_type": "display_data"
    }
   ],
   "source": [
    "plt.scatter(number_factors, number_factors_mean_profit)\n",
    "plt.title('Number of Famous actors VS Profit')\n",
    "plt.xlabel('Number of Famous actors')\n",
    "plt.ylabel('mean Profit')\n",
    "plt.show()"
   ]
  },
  {
   "cell_type": "code",
   "execution_count": 229,
   "id": "c7790dd2",
   "metadata": {},
   "outputs": [],
   "source": [
    "X = list(df_movie_revenue_budget_cast['num_famous_actors'])\n",
    "y = list(df_movie_revenue_budget_cast['profit'])\n",
    "d = {y[i]:X[i] for i in range(len(X))}\n",
    "sorted_d = sorted(d.items(), key = lambda x: x[1])\n",
    "X = []\n",
    "y = []\n",
    "for p in sorted_d:\n",
    "    X.append(p[1])\n",
    "    y.append(p[0])\n",
    "X = np.array(X).reshape(-1,1)"
   ]
  },
  {
   "cell_type": "code",
   "execution_count": 235,
   "id": "90ed5d41",
   "metadata": {},
   "outputs": [
    {
     "data": {
      "text/html": [
       "<style>#sk-container-id-7 {color: black;background-color: white;}#sk-container-id-7 pre{padding: 0;}#sk-container-id-7 div.sk-toggleable {background-color: white;}#sk-container-id-7 label.sk-toggleable__label {cursor: pointer;display: block;width: 100%;margin-bottom: 0;padding: 0.3em;box-sizing: border-box;text-align: center;}#sk-container-id-7 label.sk-toggleable__label-arrow:before {content: \"▸\";float: left;margin-right: 0.25em;color: #696969;}#sk-container-id-7 label.sk-toggleable__label-arrow:hover:before {color: black;}#sk-container-id-7 div.sk-estimator:hover label.sk-toggleable__label-arrow:before {color: black;}#sk-container-id-7 div.sk-toggleable__content {max-height: 0;max-width: 0;overflow: hidden;text-align: left;background-color: #f0f8ff;}#sk-container-id-7 div.sk-toggleable__content pre {margin: 0.2em;color: black;border-radius: 0.25em;background-color: #f0f8ff;}#sk-container-id-7 input.sk-toggleable__control:checked~div.sk-toggleable__content {max-height: 200px;max-width: 100%;overflow: auto;}#sk-container-id-7 input.sk-toggleable__control:checked~label.sk-toggleable__label-arrow:before {content: \"▾\";}#sk-container-id-7 div.sk-estimator input.sk-toggleable__control:checked~label.sk-toggleable__label {background-color: #d4ebff;}#sk-container-id-7 div.sk-label input.sk-toggleable__control:checked~label.sk-toggleable__label {background-color: #d4ebff;}#sk-container-id-7 input.sk-hidden--visually {border: 0;clip: rect(1px 1px 1px 1px);clip: rect(1px, 1px, 1px, 1px);height: 1px;margin: -1px;overflow: hidden;padding: 0;position: absolute;width: 1px;}#sk-container-id-7 div.sk-estimator {font-family: monospace;background-color: #f0f8ff;border: 1px dotted black;border-radius: 0.25em;box-sizing: border-box;margin-bottom: 0.5em;}#sk-container-id-7 div.sk-estimator:hover {background-color: #d4ebff;}#sk-container-id-7 div.sk-parallel-item::after {content: \"\";width: 100%;border-bottom: 1px solid gray;flex-grow: 1;}#sk-container-id-7 div.sk-label:hover label.sk-toggleable__label {background-color: #d4ebff;}#sk-container-id-7 div.sk-serial::before {content: \"\";position: absolute;border-left: 1px solid gray;box-sizing: border-box;top: 0;bottom: 0;left: 50%;z-index: 0;}#sk-container-id-7 div.sk-serial {display: flex;flex-direction: column;align-items: center;background-color: white;padding-right: 0.2em;padding-left: 0.2em;position: relative;}#sk-container-id-7 div.sk-item {position: relative;z-index: 1;}#sk-container-id-7 div.sk-parallel {display: flex;align-items: stretch;justify-content: center;background-color: white;position: relative;}#sk-container-id-7 div.sk-item::before, #sk-container-id-7 div.sk-parallel-item::before {content: \"\";position: absolute;border-left: 1px solid gray;box-sizing: border-box;top: 0;bottom: 0;left: 50%;z-index: -1;}#sk-container-id-7 div.sk-parallel-item {display: flex;flex-direction: column;z-index: 1;position: relative;background-color: white;}#sk-container-id-7 div.sk-parallel-item:first-child::after {align-self: flex-end;width: 50%;}#sk-container-id-7 div.sk-parallel-item:last-child::after {align-self: flex-start;width: 50%;}#sk-container-id-7 div.sk-parallel-item:only-child::after {width: 0;}#sk-container-id-7 div.sk-dashed-wrapped {border: 1px dashed gray;margin: 0 0.4em 0.5em 0.4em;box-sizing: border-box;padding-bottom: 0.4em;background-color: white;}#sk-container-id-7 div.sk-label label {font-family: monospace;font-weight: bold;display: inline-block;line-height: 1.2em;}#sk-container-id-7 div.sk-label-container {text-align: center;}#sk-container-id-7 div.sk-container {/* jupyter's `normalize.less` sets `[hidden] { display: none; }` but bootstrap.min.css set `[hidden] { display: none !important; }` so we also need the `!important` here to be able to override the default hidden behavior on the sphinx rendered scikit-learn.org. See: https://github.com/scikit-learn/scikit-learn/issues/21755 */display: inline-block !important;position: relative;}#sk-container-id-7 div.sk-text-repr-fallback {display: none;}</style><div id=\"sk-container-id-7\" class=\"sk-top-container\"><div class=\"sk-text-repr-fallback\"><pre>LinearRegression()</pre><b>In a Jupyter environment, please rerun this cell to show the HTML representation or trust the notebook. <br />On GitHub, the HTML representation is unable to render, please try loading this page with nbviewer.org.</b></div><div class=\"sk-container\" hidden><div class=\"sk-item\"><div class=\"sk-estimator sk-toggleable\"><input class=\"sk-toggleable__control sk-hidden--visually\" id=\"sk-estimator-id-7\" type=\"checkbox\" checked><label for=\"sk-estimator-id-7\" class=\"sk-toggleable__label sk-toggleable__label-arrow\">LinearRegression</label><div class=\"sk-toggleable__content\"><pre>LinearRegression()</pre></div></div></div></div></div>"
      ],
      "text/plain": [
       "LinearRegression()"
      ]
     },
     "execution_count": 235,
     "metadata": {},
     "output_type": "execute_result"
    }
   ],
   "source": [
    "#fitting the polynomial regression model to the dataset\n",
    "from sklearn.preprocessing import PolynomialFeatures\n",
    "poly_reg=PolynomialFeatures(degree=10)\n",
    "X_poly=poly_reg.fit_transform(X)\n",
    "poly_reg.fit(X_poly,y)\n",
    "lin_reg2=LinearRegression()\n",
    "lin_reg2.fit(X_poly,y)"
   ]
  },
  {
   "cell_type": "code",
   "execution_count": 250,
   "id": "72a1f26a",
   "metadata": {},
   "outputs": [
    {
     "data": {
      "image/png": "[encoded data removed]",
      "text/plain": [
       "<Figure size 432x288 with 1 Axes>"
      ]
     },
     "metadata": {},
     "output_type": "display_data"
    }
   ],
   "source": [
    "#Visualising the pollynomial regression model results\n",
    "X_grid=np.arange(min(X),max(X),0.1)\n",
    "X_grid=X_grid.reshape((len(X_grid),1))\n",
    "plt.scatter(X,y,color='red')\n",
    "plt.plot(X,lin_reg2.predict(poly_reg.fit_transform(X)),color='blue')\n",
    "plt.title('Number of Famous actors VS Profit')\n",
    "plt.xlabel('Number of Famous actors')\n",
    "plt.ylabel('Profit')\n",
    "plt.ylim([-0.25*10**9, 10**9])\n",
    "plt.show()"
   ]
  },
  {
   "cell_type": "code",
   "execution_count": null,
   "id": "cb175af5",
   "metadata": {},
   "outputs": [],
   "source": []
  }
 ],
 "metadata": {
  "kernelspec": {
   "display_name": "Python 3 (ipykernel)",
   "language": "python",
   "name": "python3"
  },
  "language_info": {
   "codemirror_mode": {
    "name": "ipython",
    "version": 3
   },
   "file_extension": ".py",
   "mimetype": "text/x-python",
   "name": "python",
   "nbconvert_exporter": "python",
   "pygments_lexer": "ipython3",
   "version": "3.10.6"
  }
 },
 "nbformat": 4,
 "nbformat_minor": 5
}
