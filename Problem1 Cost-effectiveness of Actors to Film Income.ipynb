{
 "cells": [
  {
   "cell_type": "code",
   "execution_count": 340,
   "id": "e160eb25",
   "metadata": {},
   "outputs": [],
   "source": [
    "import warnings\n",
    "warnings.filterwarnings('ignore')\n",
    "import pandas as pd\n",
    "import numpy as np\n",
    "from ast import literal_eval\n",
    "from collections import Counter\n",
    "from sklearn import linear_model\n",
    "from sklearn.preprocessing import PolynomialFeatures\n",
    "import matplotlib.pyplot as plt\n",
    "%matplotlib inline"
   ]
  },
  {
   "cell_type": "markdown",
   "id": "6baf89e6",
   "metadata": {},
   "source": [
    "# Predicting Movie Revenue (Part 1: Cost-effectiveness of Actors to Film Incomen)\n",
    "### DS 5110 - Group 6"
   ]
  },
  {
   "cell_type": "markdown",
   "id": "8ee3d7a7",
   "metadata": {},
   "source": [
    "**Introduction.** In today's fast-paced social life, more and more people will go to the cinema to watch movies to relax themselves. According to statistics, thousands of movies are released every year around the world, and the average production cycle of each movie takes more than two years. Therefore, whether each film can be profitable after its release is the most concerned issue of every film producer.\n",
    "\n",
    "The main purpose of our project is to use the information in the existing movie database to mine the relationship between movie gross and other variables. We believe that the most judging indicator of a film's success in the film industry is its commercial value, so our project will predict what factors will affect the commercial value of a movie and how to maximize it."
   ]
  },
  {
   "cell_type": "markdown",
   "id": "5ea7519c",
   "metadata": {},
   "source": [
    "**Problem Definition.** Famous actors in a film production will have high appearance fees but will attract the audience to\n",
    "watch and thus increase the movie gross. However, not the more famous actors hired, the higher\n",
    "revenue will be. This problem will examine the direct relationship between the number of famous\n",
    "actors and the movie revenues and will also predict how many famous actors should be hired to\n",
    "maximize movie gross."
   ]
  },
  {
   "cell_type": "markdown",
   "id": "d0893575",
   "metadata": {},
   "source": [
    "## 1. Data Preprocessing"
   ]
  },
  {
   "cell_type": "markdown",
   "id": "35d27c2f",
   "metadata": {},
   "source": [
    "The dataset is provided by MovieLens on Kaggle. It consists of movies released on or before July 2017. We need movie cast, movie budget, movie revenue, etc. to analyze and predict the problem.\n",
    "\n"
   ]
  },
  {
   "cell_type": "markdown",
   "id": "a0afc095",
   "metadata": {},
   "source": [
    "The data of movie casts are stored in a list of one column of the csv file, which contains the names of all casts, the roles played, gender, photos and the id of the movie to which they belong. We first need to extract the actor name and movie id we need"
   ]
  },
  {
   "cell_type": "code",
   "execution_count": 341,
   "id": "19a75e72",
   "metadata": {},
   "outputs": [],
   "source": [
    "df_credits = pd.read_csv(\"data/credits.csv\")"
   ]
  },
  {
   "cell_type": "code",
   "execution_count": 342,
   "id": "ff53d553",
   "metadata": {},
   "outputs": [],
   "source": [
    "df_credits['cast'] = df_credits['cast'].apply(literal_eval)"
   ]
  },
  {
   "cell_type": "markdown",
   "id": "63d53c05",
   "metadata": {},
   "source": [
    "Extract the actor name and movie id"
   ]
  },
  {
   "cell_type": "code",
   "execution_count": 343,
   "id": "276feec0",
   "metadata": {},
   "outputs": [],
   "source": [
    "def get_name_castId(x):\n",
    "    if isinstance(x, list):\n",
    "        names = [i['name'] for i in x]\n",
    "        cast_ids = [i['id'] for i in x]\n",
    "        return [names, cast_ids]\n",
    "    return []"
   ]
  },
  {
   "cell_type": "code",
   "execution_count": 344,
   "id": "d0969d5c",
   "metadata": {},
   "outputs": [
    {
     "data": {
      "text/plain": [
       "[['Tom Hanks',\n",
       "  'Tim Allen',\n",
       "  'Don Rickles',\n",
       "  'Jim Varney',\n",
       "  'Wallace Shawn',\n",
       "  'John Ratzenberger',\n",
       "  'Annie Potts',\n",
       "  'John Morris',\n",
       "  'Erik von Detten',\n",
       "  'Laurie Metcalf',\n",
       "  'R. Lee Ermey',\n",
       "  'Sarah Freeman',\n",
       "  'Penn Jillette'],\n",
       " [31,\n",
       "  12898,\n",
       "  7167,\n",
       "  12899,\n",
       "  12900,\n",
       "  7907,\n",
       "  8873,\n",
       "  1116442,\n",
       "  12901,\n",
       "  12133,\n",
       "  8655,\n",
       "  12903,\n",
       "  37221],\n",
       " 862]"
      ]
     },
     "execution_count": 344,
     "metadata": {},
     "output_type": "execute_result"
    }
   ],
   "source": [
    "cast = df_credits['cast']\n",
    "cast = cast.apply(get_name_castId)\n",
    "ids = list(df_credits['id'])\n",
    "for i in range(len(cast)):\n",
    "    cast[i].append(ids[i])\n",
    "cast[0]"
   ]
  },
  {
   "cell_type": "code",
   "execution_count": 345,
   "id": "691a6de2",
   "metadata": {},
   "outputs": [
    {
     "data": {
      "text/html": [
       "<div>\n",
       "<style scoped>\n",
       "    .dataframe tbody tr th:only-of-type {\n",
       "        vertical-align: middle;\n",
       "    }\n",
       "\n",
       "    .dataframe tbody tr th {\n",
       "        vertical-align: top;\n",
       "    }\n",
       "\n",
       "    .dataframe thead th {\n",
       "        text-align: right;\n",
       "    }\n",
       "</style>\n",
       "<table border=\"1\" class=\"dataframe\">\n",
       "  <thead>\n",
       "    <tr style=\"text-align: right;\">\n",
       "      <th></th>\n",
       "      <th>cast_name</th>\n",
       "      <th>cast_id</th>\n",
       "      <th>movie_id</th>\n",
       "    </tr>\n",
       "  </thead>\n",
       "  <tbody>\n",
       "    <tr>\n",
       "      <th>0</th>\n",
       "      <td>[Tom Hanks, Tim Allen, Don Rickles, Jim Varney...</td>\n",
       "      <td>[31, 12898, 7167, 12899, 12900, 7907, 8873, 11...</td>\n",
       "      <td>862</td>\n",
       "    </tr>\n",
       "    <tr>\n",
       "      <th>1</th>\n",
       "      <td>[Robin Williams, Jonathan Hyde, Kirsten Dunst,...</td>\n",
       "      <td>[2157, 8537, 205, 145151, 5149, 10739, 58563, ...</td>\n",
       "      <td>8844</td>\n",
       "    </tr>\n",
       "    <tr>\n",
       "      <th>2</th>\n",
       "      <td>[Walter Matthau, Jack Lemmon, Ann-Margret, Sop...</td>\n",
       "      <td>[6837, 3151, 13567, 16757, 589, 16523, 7166]</td>\n",
       "      <td>15602</td>\n",
       "    </tr>\n",
       "    <tr>\n",
       "      <th>3</th>\n",
       "      <td>[Whitney Houston, Angela Bassett, Loretta Devi...</td>\n",
       "      <td>[8851, 9780, 18284, 51359, 66804, 352, 87118, ...</td>\n",
       "      <td>31357</td>\n",
       "    </tr>\n",
       "    <tr>\n",
       "      <th>4</th>\n",
       "      <td>[Steve Martin, Diane Keaton, Martin Short, Kim...</td>\n",
       "      <td>[67773, 3092, 519, 70696, 59222, 18793, 14592,...</td>\n",
       "      <td>11862</td>\n",
       "    </tr>\n",
       "  </tbody>\n",
       "</table>\n",
       "</div>"
      ],
      "text/plain": [
       "                                           cast_name  \\\n",
       "0  [Tom Hanks, Tim Allen, Don Rickles, Jim Varney...   \n",
       "1  [Robin Williams, Jonathan Hyde, Kirsten Dunst,...   \n",
       "2  [Walter Matthau, Jack Lemmon, Ann-Margret, Sop...   \n",
       "3  [Whitney Houston, Angela Bassett, Loretta Devi...   \n",
       "4  [Steve Martin, Diane Keaton, Martin Short, Kim...   \n",
       "\n",
       "                                             cast_id  movie_id  \n",
       "0  [31, 12898, 7167, 12899, 12900, 7907, 8873, 11...       862  \n",
       "1  [2157, 8537, 205, 145151, 5149, 10739, 58563, ...      8844  \n",
       "2       [6837, 3151, 13567, 16757, 589, 16523, 7166]     15602  \n",
       "3  [8851, 9780, 18284, 51359, 66804, 352, 87118, ...     31357  \n",
       "4  [67773, 3092, 519, 70696, 59222, 18793, 14592,...     11862  "
      ]
     },
     "execution_count": 345,
     "metadata": {},
     "output_type": "execute_result"
    }
   ],
   "source": [
    "df = pd.DataFrame()\n",
    "for x in cast:\n",
    "    diction = {'cast_name': x[0], 'cast_id': x[1],'movie_id': x[2]}\n",
    "    df = df.append(diction, ignore_index=True)\n",
    "df.head()"
   ]
  },
  {
   "cell_type": "code",
   "execution_count": 346,
   "id": "2fe2859a",
   "metadata": {},
   "outputs": [],
   "source": [
    "df_movie = pd.read_csv(\"data/movies_metadata.csv\")"
   ]
  },
  {
   "cell_type": "code",
   "execution_count": 347,
   "id": "c494aea6",
   "metadata": {},
   "outputs": [
    {
     "data": {
      "text/html": [
       "<div>\n",
       "<style scoped>\n",
       "    .dataframe tbody tr th:only-of-type {\n",
       "        vertical-align: middle;\n",
       "    }\n",
       "\n",
       "    .dataframe tbody tr th {\n",
       "        vertical-align: top;\n",
       "    }\n",
       "\n",
       "    .dataframe thead th {\n",
       "        text-align: right;\n",
       "    }\n",
       "</style>\n",
       "<table border=\"1\" class=\"dataframe\">\n",
       "  <thead>\n",
       "    <tr style=\"text-align: right;\">\n",
       "      <th></th>\n",
       "      <th>budget</th>\n",
       "      <th>genres</th>\n",
       "      <th>title</th>\n",
       "      <th>revenue</th>\n",
       "      <th>id</th>\n",
       "    </tr>\n",
       "  </thead>\n",
       "  <tbody>\n",
       "    <tr>\n",
       "      <th>0</th>\n",
       "      <td>30000000</td>\n",
       "      <td>[{'id': 16, 'name': 'Animation'}, {'id': 35, '...</td>\n",
       "      <td>Toy Story</td>\n",
       "      <td>373554033.0</td>\n",
       "      <td>862</td>\n",
       "    </tr>\n",
       "    <tr>\n",
       "      <th>1</th>\n",
       "      <td>65000000</td>\n",
       "      <td>[{'id': 12, 'name': 'Adventure'}, {'id': 14, '...</td>\n",
       "      <td>Jumanji</td>\n",
       "      <td>262797249.0</td>\n",
       "      <td>8844</td>\n",
       "    </tr>\n",
       "    <tr>\n",
       "      <th>2</th>\n",
       "      <td>0</td>\n",
       "      <td>[{'id': 10749, 'name': 'Romance'}, {'id': 35, ...</td>\n",
       "      <td>Grumpier Old Men</td>\n",
       "      <td>0.0</td>\n",
       "      <td>15602</td>\n",
       "    </tr>\n",
       "    <tr>\n",
       "      <th>3</th>\n",
       "      <td>16000000</td>\n",
       "      <td>[{'id': 35, 'name': 'Comedy'}, {'id': 18, 'nam...</td>\n",
       "      <td>Waiting to Exhale</td>\n",
       "      <td>81452156.0</td>\n",
       "      <td>31357</td>\n",
       "    </tr>\n",
       "    <tr>\n",
       "      <th>4</th>\n",
       "      <td>0</td>\n",
       "      <td>[{'id': 35, 'name': 'Comedy'}]</td>\n",
       "      <td>Father of the Bride Part II</td>\n",
       "      <td>76578911.0</td>\n",
       "      <td>11862</td>\n",
       "    </tr>\n",
       "  </tbody>\n",
       "</table>\n",
       "</div>"
      ],
      "text/plain": [
       "     budget                                             genres  \\\n",
       "0  30000000  [{'id': 16, 'name': 'Animation'}, {'id': 35, '...   \n",
       "1  65000000  [{'id': 12, 'name': 'Adventure'}, {'id': 14, '...   \n",
       "2         0  [{'id': 10749, 'name': 'Romance'}, {'id': 35, ...   \n",
       "3  16000000  [{'id': 35, 'name': 'Comedy'}, {'id': 18, 'nam...   \n",
       "4         0                     [{'id': 35, 'name': 'Comedy'}]   \n",
       "\n",
       "                         title      revenue     id  \n",
       "0                    Toy Story  373554033.0    862  \n",
       "1                      Jumanji  262797249.0   8844  \n",
       "2             Grumpier Old Men          0.0  15602  \n",
       "3            Waiting to Exhale   81452156.0  31357  \n",
       "4  Father of the Bride Part II   76578911.0  11862  "
      ]
     },
     "execution_count": 347,
     "metadata": {},
     "output_type": "execute_result"
    }
   ],
   "source": [
    "df_movie = df_movie[[\"budget\",\"genres\",\"title\",\"revenue\",\"id\"]]\n",
    "df_movie.head()"
   ]
  },
  {
   "cell_type": "code",
   "execution_count": 348,
   "id": "3adcf0f0",
   "metadata": {},
   "outputs": [
    {
     "data": {
      "text/plain": [
       "[{'id': 16, 'name': 'Animation'},\n",
       " {'id': 35, 'name': 'Comedy'},\n",
       " {'id': 10751, 'name': 'Family'}]"
      ]
     },
     "execution_count": 348,
     "metadata": {},
     "output_type": "execute_result"
    }
   ],
   "source": [
    "literal_eval(df_movie.genres.values[0])"
   ]
  },
  {
   "cell_type": "code",
   "execution_count": 349,
   "id": "799dbeaa",
   "metadata": {},
   "outputs": [
    {
     "data": {
      "text/plain": [
       "{'Action',\n",
       " 'Adventure',\n",
       " 'Animation',\n",
       " 'Aniplex',\n",
       " 'BROSTA TV',\n",
       " 'Carousel Productions',\n",
       " 'Comedy',\n",
       " 'Crime',\n",
       " 'Documentary',\n",
       " 'Drama',\n",
       " 'Family',\n",
       " 'Fantasy',\n",
       " 'Foreign',\n",
       " 'GoHands',\n",
       " 'History',\n",
       " 'Horror',\n",
       " 'Mardock Scramble Production Committee',\n",
       " 'Music',\n",
       " 'Mystery',\n",
       " 'Odyssey Media',\n",
       " 'Pulser Productions',\n",
       " 'Rogue State',\n",
       " 'Romance',\n",
       " 'Science Fiction',\n",
       " 'Sentai Filmworks',\n",
       " 'TV Movie',\n",
       " 'Telescene Film Group Productions',\n",
       " 'The Cartel',\n",
       " 'Thriller',\n",
       " 'Vision View Entertainment',\n",
       " 'War',\n",
       " 'Western'}"
      ]
     },
     "execution_count": 349,
     "metadata": {},
     "output_type": "execute_result"
    }
   ],
   "source": [
    "uniqueGenres = set([])\n",
    "for i in df_movie.genres.values: # I am looping through all the rows\n",
    "    genList = literal_eval(i) # convert from string to list of dict\n",
    "    for j in genList: # loop through the list of dict\n",
    "        uniqueGenres.add(j[\"name\"]) # add the name of the genre to my uniqueGenres variabe\n",
    "uniqueGenres"
   ]
  },
  {
   "cell_type": "code",
   "execution_count": 350,
   "id": "c6d9eabf",
   "metadata": {},
   "outputs": [],
   "source": [
    "rows = [] # for all the movies\n",
    "genres = list(uniqueGenres) # all unique Genres\n",
    "\n",
    "for i in df_movie.genres: #looping through all the rows/movies\n",
    "    genList = literal_eval(i) #converting from string to list of dict for a particular movie\n",
    "    movieGenres = [x['name'] for x in genList] # list of all the genres of the movie\n",
    "    row = [] # store a list of 1s and 0s for one movie\n",
    "    for j in genres: #loop through all unique genres\n",
    "        row.append(int(j in movieGenres)) #checking if the genre is present in that movie - if the genre is present 1 else 0\n",
    "        rows.append(row)"
   ]
  },
  {
   "cell_type": "code",
   "execution_count": 351,
   "id": "97c4c1ab",
   "metadata": {},
   "outputs": [
    {
     "data": {
      "text/html": [
       "<div>\n",
       "<style scoped>\n",
       "    .dataframe tbody tr th:only-of-type {\n",
       "        vertical-align: middle;\n",
       "    }\n",
       "\n",
       "    .dataframe tbody tr th {\n",
       "        vertical-align: top;\n",
       "    }\n",
       "\n",
       "    .dataframe thead th {\n",
       "        text-align: right;\n",
       "    }\n",
       "</style>\n",
       "<table border=\"1\" class=\"dataframe\">\n",
       "  <thead>\n",
       "    <tr style=\"text-align: right;\">\n",
       "      <th></th>\n",
       "      <th>Vision View Entertainment</th>\n",
       "      <th>The Cartel</th>\n",
       "      <th>TV Movie</th>\n",
       "      <th>Romance</th>\n",
       "      <th>Pulser Productions</th>\n",
       "      <th>Mardock Scramble Production Committee</th>\n",
       "      <th>Family</th>\n",
       "      <th>History</th>\n",
       "      <th>Music</th>\n",
       "      <th>Action</th>\n",
       "      <th>...</th>\n",
       "      <th>Carousel Productions</th>\n",
       "      <th>Thriller</th>\n",
       "      <th>BROSTA TV</th>\n",
       "      <th>Aniplex</th>\n",
       "      <th>Fantasy</th>\n",
       "      <th>Adventure</th>\n",
       "      <th>Western</th>\n",
       "      <th>Science Fiction</th>\n",
       "      <th>Sentai Filmworks</th>\n",
       "      <th>Odyssey Media</th>\n",
       "    </tr>\n",
       "  </thead>\n",
       "  <tbody>\n",
       "    <tr>\n",
       "      <th>0</th>\n",
       "      <td>0</td>\n",
       "      <td>0</td>\n",
       "      <td>0</td>\n",
       "      <td>0</td>\n",
       "      <td>0</td>\n",
       "      <td>0</td>\n",
       "      <td>1</td>\n",
       "      <td>0</td>\n",
       "      <td>0</td>\n",
       "      <td>0</td>\n",
       "      <td>...</td>\n",
       "      <td>0</td>\n",
       "      <td>0</td>\n",
       "      <td>0</td>\n",
       "      <td>0</td>\n",
       "      <td>0</td>\n",
       "      <td>0</td>\n",
       "      <td>0</td>\n",
       "      <td>0</td>\n",
       "      <td>0</td>\n",
       "      <td>0</td>\n",
       "    </tr>\n",
       "    <tr>\n",
       "      <th>1</th>\n",
       "      <td>0</td>\n",
       "      <td>0</td>\n",
       "      <td>0</td>\n",
       "      <td>0</td>\n",
       "      <td>0</td>\n",
       "      <td>0</td>\n",
       "      <td>1</td>\n",
       "      <td>0</td>\n",
       "      <td>0</td>\n",
       "      <td>0</td>\n",
       "      <td>...</td>\n",
       "      <td>0</td>\n",
       "      <td>0</td>\n",
       "      <td>0</td>\n",
       "      <td>0</td>\n",
       "      <td>0</td>\n",
       "      <td>0</td>\n",
       "      <td>0</td>\n",
       "      <td>0</td>\n",
       "      <td>0</td>\n",
       "      <td>0</td>\n",
       "    </tr>\n",
       "    <tr>\n",
       "      <th>2</th>\n",
       "      <td>0</td>\n",
       "      <td>0</td>\n",
       "      <td>0</td>\n",
       "      <td>0</td>\n",
       "      <td>0</td>\n",
       "      <td>0</td>\n",
       "      <td>1</td>\n",
       "      <td>0</td>\n",
       "      <td>0</td>\n",
       "      <td>0</td>\n",
       "      <td>...</td>\n",
       "      <td>0</td>\n",
       "      <td>0</td>\n",
       "      <td>0</td>\n",
       "      <td>0</td>\n",
       "      <td>0</td>\n",
       "      <td>0</td>\n",
       "      <td>0</td>\n",
       "      <td>0</td>\n",
       "      <td>0</td>\n",
       "      <td>0</td>\n",
       "    </tr>\n",
       "    <tr>\n",
       "      <th>3</th>\n",
       "      <td>0</td>\n",
       "      <td>0</td>\n",
       "      <td>0</td>\n",
       "      <td>0</td>\n",
       "      <td>0</td>\n",
       "      <td>0</td>\n",
       "      <td>1</td>\n",
       "      <td>0</td>\n",
       "      <td>0</td>\n",
       "      <td>0</td>\n",
       "      <td>...</td>\n",
       "      <td>0</td>\n",
       "      <td>0</td>\n",
       "      <td>0</td>\n",
       "      <td>0</td>\n",
       "      <td>0</td>\n",
       "      <td>0</td>\n",
       "      <td>0</td>\n",
       "      <td>0</td>\n",
       "      <td>0</td>\n",
       "      <td>0</td>\n",
       "    </tr>\n",
       "    <tr>\n",
       "      <th>4</th>\n",
       "      <td>0</td>\n",
       "      <td>0</td>\n",
       "      <td>0</td>\n",
       "      <td>0</td>\n",
       "      <td>0</td>\n",
       "      <td>0</td>\n",
       "      <td>1</td>\n",
       "      <td>0</td>\n",
       "      <td>0</td>\n",
       "      <td>0</td>\n",
       "      <td>...</td>\n",
       "      <td>0</td>\n",
       "      <td>0</td>\n",
       "      <td>0</td>\n",
       "      <td>0</td>\n",
       "      <td>0</td>\n",
       "      <td>0</td>\n",
       "      <td>0</td>\n",
       "      <td>0</td>\n",
       "      <td>0</td>\n",
       "      <td>0</td>\n",
       "    </tr>\n",
       "    <tr>\n",
       "      <th>...</th>\n",
       "      <td>...</td>\n",
       "      <td>...</td>\n",
       "      <td>...</td>\n",
       "      <td>...</td>\n",
       "      <td>...</td>\n",
       "      <td>...</td>\n",
       "      <td>...</td>\n",
       "      <td>...</td>\n",
       "      <td>...</td>\n",
       "      <td>...</td>\n",
       "      <td>...</td>\n",
       "      <td>...</td>\n",
       "      <td>...</td>\n",
       "      <td>...</td>\n",
       "      <td>...</td>\n",
       "      <td>...</td>\n",
       "      <td>...</td>\n",
       "      <td>...</td>\n",
       "      <td>...</td>\n",
       "      <td>...</td>\n",
       "      <td>...</td>\n",
       "    </tr>\n",
       "    <tr>\n",
       "      <th>1454907</th>\n",
       "      <td>0</td>\n",
       "      <td>0</td>\n",
       "      <td>0</td>\n",
       "      <td>0</td>\n",
       "      <td>0</td>\n",
       "      <td>0</td>\n",
       "      <td>0</td>\n",
       "      <td>0</td>\n",
       "      <td>0</td>\n",
       "      <td>0</td>\n",
       "      <td>...</td>\n",
       "      <td>0</td>\n",
       "      <td>0</td>\n",
       "      <td>0</td>\n",
       "      <td>0</td>\n",
       "      <td>0</td>\n",
       "      <td>0</td>\n",
       "      <td>0</td>\n",
       "      <td>0</td>\n",
       "      <td>0</td>\n",
       "      <td>0</td>\n",
       "    </tr>\n",
       "    <tr>\n",
       "      <th>1454908</th>\n",
       "      <td>0</td>\n",
       "      <td>0</td>\n",
       "      <td>0</td>\n",
       "      <td>0</td>\n",
       "      <td>0</td>\n",
       "      <td>0</td>\n",
       "      <td>0</td>\n",
       "      <td>0</td>\n",
       "      <td>0</td>\n",
       "      <td>0</td>\n",
       "      <td>...</td>\n",
       "      <td>0</td>\n",
       "      <td>0</td>\n",
       "      <td>0</td>\n",
       "      <td>0</td>\n",
       "      <td>0</td>\n",
       "      <td>0</td>\n",
       "      <td>0</td>\n",
       "      <td>0</td>\n",
       "      <td>0</td>\n",
       "      <td>0</td>\n",
       "    </tr>\n",
       "    <tr>\n",
       "      <th>1454909</th>\n",
       "      <td>0</td>\n",
       "      <td>0</td>\n",
       "      <td>0</td>\n",
       "      <td>0</td>\n",
       "      <td>0</td>\n",
       "      <td>0</td>\n",
       "      <td>0</td>\n",
       "      <td>0</td>\n",
       "      <td>0</td>\n",
       "      <td>0</td>\n",
       "      <td>...</td>\n",
       "      <td>0</td>\n",
       "      <td>0</td>\n",
       "      <td>0</td>\n",
       "      <td>0</td>\n",
       "      <td>0</td>\n",
       "      <td>0</td>\n",
       "      <td>0</td>\n",
       "      <td>0</td>\n",
       "      <td>0</td>\n",
       "      <td>0</td>\n",
       "    </tr>\n",
       "    <tr>\n",
       "      <th>1454910</th>\n",
       "      <td>0</td>\n",
       "      <td>0</td>\n",
       "      <td>0</td>\n",
       "      <td>0</td>\n",
       "      <td>0</td>\n",
       "      <td>0</td>\n",
       "      <td>0</td>\n",
       "      <td>0</td>\n",
       "      <td>0</td>\n",
       "      <td>0</td>\n",
       "      <td>...</td>\n",
       "      <td>0</td>\n",
       "      <td>0</td>\n",
       "      <td>0</td>\n",
       "      <td>0</td>\n",
       "      <td>0</td>\n",
       "      <td>0</td>\n",
       "      <td>0</td>\n",
       "      <td>0</td>\n",
       "      <td>0</td>\n",
       "      <td>0</td>\n",
       "    </tr>\n",
       "    <tr>\n",
       "      <th>1454911</th>\n",
       "      <td>0</td>\n",
       "      <td>0</td>\n",
       "      <td>0</td>\n",
       "      <td>0</td>\n",
       "      <td>0</td>\n",
       "      <td>0</td>\n",
       "      <td>0</td>\n",
       "      <td>0</td>\n",
       "      <td>0</td>\n",
       "      <td>0</td>\n",
       "      <td>...</td>\n",
       "      <td>0</td>\n",
       "      <td>0</td>\n",
       "      <td>0</td>\n",
       "      <td>0</td>\n",
       "      <td>0</td>\n",
       "      <td>0</td>\n",
       "      <td>0</td>\n",
       "      <td>0</td>\n",
       "      <td>0</td>\n",
       "      <td>0</td>\n",
       "    </tr>\n",
       "  </tbody>\n",
       "</table>\n",
       "<p>1454912 rows × 32 columns</p>\n",
       "</div>"
      ],
      "text/plain": [
       "         Vision View Entertainment  The Cartel  TV Movie  Romance  \\\n",
       "0                                0           0         0        0   \n",
       "1                                0           0         0        0   \n",
       "2                                0           0         0        0   \n",
       "3                                0           0         0        0   \n",
       "4                                0           0         0        0   \n",
       "...                            ...         ...       ...      ...   \n",
       "1454907                          0           0         0        0   \n",
       "1454908                          0           0         0        0   \n",
       "1454909                          0           0         0        0   \n",
       "1454910                          0           0         0        0   \n",
       "1454911                          0           0         0        0   \n",
       "\n",
       "         Pulser Productions  Mardock Scramble Production Committee  Family  \\\n",
       "0                         0                                      0       1   \n",
       "1                         0                                      0       1   \n",
       "2                         0                                      0       1   \n",
       "3                         0                                      0       1   \n",
       "4                         0                                      0       1   \n",
       "...                     ...                                    ...     ...   \n",
       "1454907                   0                                      0       0   \n",
       "1454908                   0                                      0       0   \n",
       "1454909                   0                                      0       0   \n",
       "1454910                   0                                      0       0   \n",
       "1454911                   0                                      0       0   \n",
       "\n",
       "         History  Music  Action  ...  Carousel Productions  Thriller  \\\n",
       "0              0      0       0  ...                     0         0   \n",
       "1              0      0       0  ...                     0         0   \n",
       "2              0      0       0  ...                     0         0   \n",
       "3              0      0       0  ...                     0         0   \n",
       "4              0      0       0  ...                     0         0   \n",
       "...          ...    ...     ...  ...                   ...       ...   \n",
       "1454907        0      0       0  ...                     0         0   \n",
       "1454908        0      0       0  ...                     0         0   \n",
       "1454909        0      0       0  ...                     0         0   \n",
       "1454910        0      0       0  ...                     0         0   \n",
       "1454911        0      0       0  ...                     0         0   \n",
       "\n",
       "         BROSTA TV  Aniplex  Fantasy  Adventure  Western  Science Fiction  \\\n",
       "0                0        0        0          0        0                0   \n",
       "1                0        0        0          0        0                0   \n",
       "2                0        0        0          0        0                0   \n",
       "3                0        0        0          0        0                0   \n",
       "4                0        0        0          0        0                0   \n",
       "...            ...      ...      ...        ...      ...              ...   \n",
       "1454907          0        0        0          0        0                0   \n",
       "1454908          0        0        0          0        0                0   \n",
       "1454909          0        0        0          0        0                0   \n",
       "1454910          0        0        0          0        0                0   \n",
       "1454911          0        0        0          0        0                0   \n",
       "\n",
       "         Sentai Filmworks  Odyssey Media  \n",
       "0                       0              0  \n",
       "1                       0              0  \n",
       "2                       0              0  \n",
       "3                       0              0  \n",
       "4                       0              0  \n",
       "...                   ...            ...  \n",
       "1454907                 0              0  \n",
       "1454908                 0              0  \n",
       "1454909                 0              0  \n",
       "1454910                 0              0  \n",
       "1454911                 0              0  \n",
       "\n",
       "[1454912 rows x 32 columns]"
      ]
     },
     "execution_count": 351,
     "metadata": {},
     "output_type": "execute_result"
    }
   ],
   "source": [
    "genre = pd.DataFrame(rows,columns = genres)\n",
    "genre"
   ]
  },
  {
   "cell_type": "code",
   "execution_count": 352,
   "id": "76062d61",
   "metadata": {},
   "outputs": [
    {
     "data": {
      "text/plain": [
       "((1454912, 37), (1454912, 32))"
      ]
     },
     "execution_count": 352,
     "metadata": {},
     "output_type": "execute_result"
    }
   ],
   "source": [
    "df_movie = pd.concat([df_movie,genre], axis = 1) # joing the two dataframes\n",
    "df_movie.shape, genre.shape"
   ]
  },
  {
   "cell_type": "code",
   "execution_count": 353,
   "id": "8c2b5575",
   "metadata": {},
   "outputs": [],
   "source": [
    "df_movie = df_movie.drop(columns = ['genres'])"
   ]
  },
  {
   "cell_type": "code",
   "execution_count": 354,
   "id": "ad59874c",
   "metadata": {},
   "outputs": [
    {
     "data": {
      "text/html": [
       "<div>\n",
       "<style scoped>\n",
       "    .dataframe tbody tr th:only-of-type {\n",
       "        vertical-align: middle;\n",
       "    }\n",
       "\n",
       "    .dataframe tbody tr th {\n",
       "        vertical-align: top;\n",
       "    }\n",
       "\n",
       "    .dataframe thead th {\n",
       "        text-align: right;\n",
       "    }\n",
       "</style>\n",
       "<table border=\"1\" class=\"dataframe\">\n",
       "  <thead>\n",
       "    <tr style=\"text-align: right;\">\n",
       "      <th></th>\n",
       "      <th>budget</th>\n",
       "      <th>title</th>\n",
       "      <th>revenue</th>\n",
       "      <th>id</th>\n",
       "      <th>Vision View Entertainment</th>\n",
       "      <th>The Cartel</th>\n",
       "      <th>TV Movie</th>\n",
       "      <th>Romance</th>\n",
       "      <th>Pulser Productions</th>\n",
       "      <th>Mardock Scramble Production Committee</th>\n",
       "      <th>...</th>\n",
       "      <th>Carousel Productions</th>\n",
       "      <th>Thriller</th>\n",
       "      <th>BROSTA TV</th>\n",
       "      <th>Aniplex</th>\n",
       "      <th>Fantasy</th>\n",
       "      <th>Adventure</th>\n",
       "      <th>Western</th>\n",
       "      <th>Science Fiction</th>\n",
       "      <th>Sentai Filmworks</th>\n",
       "      <th>Odyssey Media</th>\n",
       "    </tr>\n",
       "  </thead>\n",
       "  <tbody>\n",
       "    <tr>\n",
       "      <th>0</th>\n",
       "      <td>30000000</td>\n",
       "      <td>Toy Story</td>\n",
       "      <td>373554033.0</td>\n",
       "      <td>862</td>\n",
       "      <td>0</td>\n",
       "      <td>0</td>\n",
       "      <td>0</td>\n",
       "      <td>0</td>\n",
       "      <td>0</td>\n",
       "      <td>0</td>\n",
       "      <td>...</td>\n",
       "      <td>0</td>\n",
       "      <td>0</td>\n",
       "      <td>0</td>\n",
       "      <td>0</td>\n",
       "      <td>0</td>\n",
       "      <td>0</td>\n",
       "      <td>0</td>\n",
       "      <td>0</td>\n",
       "      <td>0</td>\n",
       "      <td>0</td>\n",
       "    </tr>\n",
       "    <tr>\n",
       "      <th>1</th>\n",
       "      <td>65000000</td>\n",
       "      <td>Jumanji</td>\n",
       "      <td>262797249.0</td>\n",
       "      <td>8844</td>\n",
       "      <td>0</td>\n",
       "      <td>0</td>\n",
       "      <td>0</td>\n",
       "      <td>0</td>\n",
       "      <td>0</td>\n",
       "      <td>0</td>\n",
       "      <td>...</td>\n",
       "      <td>0</td>\n",
       "      <td>0</td>\n",
       "      <td>0</td>\n",
       "      <td>0</td>\n",
       "      <td>0</td>\n",
       "      <td>0</td>\n",
       "      <td>0</td>\n",
       "      <td>0</td>\n",
       "      <td>0</td>\n",
       "      <td>0</td>\n",
       "    </tr>\n",
       "    <tr>\n",
       "      <th>2</th>\n",
       "      <td>0</td>\n",
       "      <td>Grumpier Old Men</td>\n",
       "      <td>0.0</td>\n",
       "      <td>15602</td>\n",
       "      <td>0</td>\n",
       "      <td>0</td>\n",
       "      <td>0</td>\n",
       "      <td>0</td>\n",
       "      <td>0</td>\n",
       "      <td>0</td>\n",
       "      <td>...</td>\n",
       "      <td>0</td>\n",
       "      <td>0</td>\n",
       "      <td>0</td>\n",
       "      <td>0</td>\n",
       "      <td>0</td>\n",
       "      <td>0</td>\n",
       "      <td>0</td>\n",
       "      <td>0</td>\n",
       "      <td>0</td>\n",
       "      <td>0</td>\n",
       "    </tr>\n",
       "    <tr>\n",
       "      <th>3</th>\n",
       "      <td>16000000</td>\n",
       "      <td>Waiting to Exhale</td>\n",
       "      <td>81452156.0</td>\n",
       "      <td>31357</td>\n",
       "      <td>0</td>\n",
       "      <td>0</td>\n",
       "      <td>0</td>\n",
       "      <td>0</td>\n",
       "      <td>0</td>\n",
       "      <td>0</td>\n",
       "      <td>...</td>\n",
       "      <td>0</td>\n",
       "      <td>0</td>\n",
       "      <td>0</td>\n",
       "      <td>0</td>\n",
       "      <td>0</td>\n",
       "      <td>0</td>\n",
       "      <td>0</td>\n",
       "      <td>0</td>\n",
       "      <td>0</td>\n",
       "      <td>0</td>\n",
       "    </tr>\n",
       "    <tr>\n",
       "      <th>4</th>\n",
       "      <td>0</td>\n",
       "      <td>Father of the Bride Part II</td>\n",
       "      <td>76578911.0</td>\n",
       "      <td>11862</td>\n",
       "      <td>0</td>\n",
       "      <td>0</td>\n",
       "      <td>0</td>\n",
       "      <td>0</td>\n",
       "      <td>0</td>\n",
       "      <td>0</td>\n",
       "      <td>...</td>\n",
       "      <td>0</td>\n",
       "      <td>0</td>\n",
       "      <td>0</td>\n",
       "      <td>0</td>\n",
       "      <td>0</td>\n",
       "      <td>0</td>\n",
       "      <td>0</td>\n",
       "      <td>0</td>\n",
       "      <td>0</td>\n",
       "      <td>0</td>\n",
       "    </tr>\n",
       "  </tbody>\n",
       "</table>\n",
       "<p>5 rows × 36 columns</p>\n",
       "</div>"
      ],
      "text/plain": [
       "     budget                        title      revenue     id  \\\n",
       "0  30000000                    Toy Story  373554033.0    862   \n",
       "1  65000000                      Jumanji  262797249.0   8844   \n",
       "2         0             Grumpier Old Men          0.0  15602   \n",
       "3  16000000            Waiting to Exhale   81452156.0  31357   \n",
       "4         0  Father of the Bride Part II   76578911.0  11862   \n",
       "\n",
       "   Vision View Entertainment  The Cartel  TV Movie  Romance  \\\n",
       "0                          0           0         0        0   \n",
       "1                          0           0         0        0   \n",
       "2                          0           0         0        0   \n",
       "3                          0           0         0        0   \n",
       "4                          0           0         0        0   \n",
       "\n",
       "   Pulser Productions  Mardock Scramble Production Committee  ...  \\\n",
       "0                   0                                      0  ...   \n",
       "1                   0                                      0  ...   \n",
       "2                   0                                      0  ...   \n",
       "3                   0                                      0  ...   \n",
       "4                   0                                      0  ...   \n",
       "\n",
       "   Carousel Productions  Thriller  BROSTA TV  Aniplex  Fantasy  Adventure  \\\n",
       "0                     0         0          0        0        0          0   \n",
       "1                     0         0          0        0        0          0   \n",
       "2                     0         0          0        0        0          0   \n",
       "3                     0         0          0        0        0          0   \n",
       "4                     0         0          0        0        0          0   \n",
       "\n",
       "   Western  Science Fiction  Sentai Filmworks  Odyssey Media  \n",
       "0        0                0                 0              0  \n",
       "1        0                0                 0              0  \n",
       "2        0                0                 0              0  \n",
       "3        0                0                 0              0  \n",
       "4        0                0                 0              0  \n",
       "\n",
       "[5 rows x 36 columns]"
      ]
     },
     "execution_count": 354,
     "metadata": {},
     "output_type": "execute_result"
    }
   ],
   "source": [
    "df_movie.head()"
   ]
  },
  {
   "cell_type": "code",
   "execution_count": 355,
   "id": "29fea73a",
   "metadata": {},
   "outputs": [
    {
     "data": {
      "text/plain": [
       "1409452"
      ]
     },
     "execution_count": 355,
     "metadata": {},
     "output_type": "execute_result"
    }
   ],
   "source": [
    "df_movie[\"revenue\"].isnull().sum()"
   ]
  },
  {
   "cell_type": "code",
   "execution_count": 356,
   "id": "408cd1d6",
   "metadata": {},
   "outputs": [
    {
     "data": {
      "text/plain": [
       "0"
      ]
     },
     "execution_count": 356,
     "metadata": {},
     "output_type": "execute_result"
    }
   ],
   "source": [
    "df_movie = df_movie[df_movie['revenue'].notna()]\n",
    "df_movie[\"revenue\"].isnull().sum()"
   ]
  },
  {
   "cell_type": "code",
   "execution_count": 357,
   "id": "cf81d521",
   "metadata": {},
   "outputs": [
    {
     "data": {
      "text/plain": [
       "373554033.0"
      ]
     },
     "execution_count": 357,
     "metadata": {},
     "output_type": "execute_result"
    }
   ],
   "source": [
    "df_movie[\"revenue\"][0]"
   ]
  },
  {
   "cell_type": "code",
   "execution_count": 358,
   "id": "f86d0c39",
   "metadata": {},
   "outputs": [
    {
     "data": {
      "text/plain": [
       "38052"
      ]
     },
     "execution_count": 358,
     "metadata": {},
     "output_type": "execute_result"
    }
   ],
   "source": [
    "sum(df_movie[\"revenue\"] == 0)"
   ]
  },
  {
   "cell_type": "code",
   "execution_count": 359,
   "id": "793e7ad8",
   "metadata": {},
   "outputs": [
    {
     "data": {
      "text/plain": [
       "83.70435547734272"
      ]
     },
     "execution_count": 359,
     "metadata": {},
     "output_type": "execute_result"
    }
   ],
   "source": [
    "(sum(df_movie[\"revenue\"] == 0)/df_movie.shape[0])*100"
   ]
  },
  {
   "cell_type": "code",
   "execution_count": 360,
   "id": "1a1b6e5d",
   "metadata": {},
   "outputs": [
    {
     "data": {
      "text/plain": [
       "38052"
      ]
     },
     "execution_count": 360,
     "metadata": {},
     "output_type": "execute_result"
    }
   ],
   "source": [
    "df_movie_revenue = df_movie\n",
    "df_movie_revenue[\"revenue\"] = df_movie_revenue[\"revenue\"].replace(0, pd.np.nan)\n",
    "df_movie_revenue[\"revenue\"].isnull().sum()"
   ]
  },
  {
   "cell_type": "code",
   "execution_count": 361,
   "id": "796f0aeb",
   "metadata": {},
   "outputs": [
    {
     "data": {
      "text/plain": [
       "count    7.408000e+03\n",
       "mean     6.878739e+07\n",
       "std      1.464203e+08\n",
       "min      1.000000e+00\n",
       "25%      2.400000e+06\n",
       "50%      1.682272e+07\n",
       "75%      6.722707e+07\n",
       "max      2.787965e+09\n",
       "Name: revenue, dtype: float64"
      ]
     },
     "execution_count": 361,
     "metadata": {},
     "output_type": "execute_result"
    }
   ],
   "source": [
    "df_movie_revenue = df_movie_revenue[df_movie_revenue['revenue'].notna()]\n",
    "df_movie_revenue[\"revenue\"].isnull().sum()\n",
    "df_movie_revenue[\"revenue\"].describe()"
   ]
  },
  {
   "cell_type": "code",
   "execution_count": 362,
   "id": "6fc1ac5a",
   "metadata": {},
   "outputs": [
    {
     "data": {
      "text/plain": [
       "30000000"
      ]
     },
     "execution_count": 362,
     "metadata": {},
     "output_type": "execute_result"
    }
   ],
   "source": [
    "df_movie_revenue[\"budget\"] = df_movie_revenue[\"budget\"].astype(int)\n",
    "df_movie_revenue[\"budget\"][0]"
   ]
  },
  {
   "cell_type": "code",
   "execution_count": 363,
   "id": "72e289bb",
   "metadata": {},
   "outputs": [
    {
     "data": {
      "text/plain": [
       "2027"
      ]
     },
     "execution_count": 363,
     "metadata": {},
     "output_type": "execute_result"
    }
   ],
   "source": [
    "sum(df_movie_revenue[\"budget\"] == 0)"
   ]
  },
  {
   "cell_type": "code",
   "execution_count": 364,
   "id": "0da6dd19",
   "metadata": {},
   "outputs": [
    {
     "data": {
      "text/plain": [
       "27.36231101511879"
      ]
     },
     "execution_count": 364,
     "metadata": {},
     "output_type": "execute_result"
    }
   ],
   "source": [
    "(sum(df_movie_revenue[\"budget\"] == 0)/df_movie_revenue.shape[0])*100"
   ]
  },
  {
   "cell_type": "code",
   "execution_count": 365,
   "id": "30103247",
   "metadata": {},
   "outputs": [
    {
     "data": {
      "text/plain": [
       "count    5.381000e+03\n",
       "mean     3.109480e+07\n",
       "std      4.016263e+07\n",
       "min      1.000000e+00\n",
       "25%      5.037000e+06\n",
       "50%      1.700000e+07\n",
       "75%      4.000000e+07\n",
       "max      3.800000e+08\n",
       "Name: budget, dtype: float64"
      ]
     },
     "execution_count": 365,
     "metadata": {},
     "output_type": "execute_result"
    }
   ],
   "source": [
    "df_movie_revenue_budget = df_movie_revenue\n",
    "df_movie_revenue_budget[\"budget\"] = df_movie_revenue_budget[\"budget\"].replace(0, pd.np.nan)\n",
    "df_movie_revenue_budget = df_movie_revenue_budget[df_movie_revenue_budget['budget'].notna()]\n",
    "df_movie_revenue_budget[\"budget\"].isnull().sum()\n",
    "df_movie_revenue_budget[\"budget\"].describe()"
   ]
  },
  {
   "cell_type": "code",
   "execution_count": 366,
   "id": "d580ca11",
   "metadata": {},
   "outputs": [
    {
     "data": {
      "text/html": [
       "<div>\n",
       "<style scoped>\n",
       "    .dataframe tbody tr th:only-of-type {\n",
       "        vertical-align: middle;\n",
       "    }\n",
       "\n",
       "    .dataframe tbody tr th {\n",
       "        vertical-align: top;\n",
       "    }\n",
       "\n",
       "    .dataframe thead th {\n",
       "        text-align: right;\n",
       "    }\n",
       "</style>\n",
       "<table border=\"1\" class=\"dataframe\">\n",
       "  <thead>\n",
       "    <tr style=\"text-align: right;\">\n",
       "      <th></th>\n",
       "      <th>budget</th>\n",
       "      <th>title</th>\n",
       "      <th>revenue</th>\n",
       "      <th>id</th>\n",
       "      <th>Vision View Entertainment</th>\n",
       "      <th>The Cartel</th>\n",
       "      <th>TV Movie</th>\n",
       "      <th>Romance</th>\n",
       "      <th>Pulser Productions</th>\n",
       "      <th>Mardock Scramble Production Committee</th>\n",
       "      <th>...</th>\n",
       "      <th>Carousel Productions</th>\n",
       "      <th>Thriller</th>\n",
       "      <th>BROSTA TV</th>\n",
       "      <th>Aniplex</th>\n",
       "      <th>Fantasy</th>\n",
       "      <th>Adventure</th>\n",
       "      <th>Western</th>\n",
       "      <th>Science Fiction</th>\n",
       "      <th>Sentai Filmworks</th>\n",
       "      <th>Odyssey Media</th>\n",
       "    </tr>\n",
       "  </thead>\n",
       "  <tbody>\n",
       "    <tr>\n",
       "      <th>0</th>\n",
       "      <td>30000000.0</td>\n",
       "      <td>Toy Story</td>\n",
       "      <td>373554033.0</td>\n",
       "      <td>862</td>\n",
       "      <td>0</td>\n",
       "      <td>0</td>\n",
       "      <td>0</td>\n",
       "      <td>0</td>\n",
       "      <td>0</td>\n",
       "      <td>0</td>\n",
       "      <td>...</td>\n",
       "      <td>0</td>\n",
       "      <td>0</td>\n",
       "      <td>0</td>\n",
       "      <td>0</td>\n",
       "      <td>0</td>\n",
       "      <td>0</td>\n",
       "      <td>0</td>\n",
       "      <td>0</td>\n",
       "      <td>0</td>\n",
       "      <td>0</td>\n",
       "    </tr>\n",
       "    <tr>\n",
       "      <th>1</th>\n",
       "      <td>65000000.0</td>\n",
       "      <td>Jumanji</td>\n",
       "      <td>262797249.0</td>\n",
       "      <td>8844</td>\n",
       "      <td>0</td>\n",
       "      <td>0</td>\n",
       "      <td>0</td>\n",
       "      <td>0</td>\n",
       "      <td>0</td>\n",
       "      <td>0</td>\n",
       "      <td>...</td>\n",
       "      <td>0</td>\n",
       "      <td>0</td>\n",
       "      <td>0</td>\n",
       "      <td>0</td>\n",
       "      <td>0</td>\n",
       "      <td>0</td>\n",
       "      <td>0</td>\n",
       "      <td>0</td>\n",
       "      <td>0</td>\n",
       "      <td>0</td>\n",
       "    </tr>\n",
       "    <tr>\n",
       "      <th>3</th>\n",
       "      <td>16000000.0</td>\n",
       "      <td>Waiting to Exhale</td>\n",
       "      <td>81452156.0</td>\n",
       "      <td>31357</td>\n",
       "      <td>0</td>\n",
       "      <td>0</td>\n",
       "      <td>0</td>\n",
       "      <td>0</td>\n",
       "      <td>0</td>\n",
       "      <td>0</td>\n",
       "      <td>...</td>\n",
       "      <td>0</td>\n",
       "      <td>0</td>\n",
       "      <td>0</td>\n",
       "      <td>0</td>\n",
       "      <td>0</td>\n",
       "      <td>0</td>\n",
       "      <td>0</td>\n",
       "      <td>0</td>\n",
       "      <td>0</td>\n",
       "      <td>0</td>\n",
       "    </tr>\n",
       "    <tr>\n",
       "      <th>5</th>\n",
       "      <td>60000000.0</td>\n",
       "      <td>Heat</td>\n",
       "      <td>187436818.0</td>\n",
       "      <td>949</td>\n",
       "      <td>0</td>\n",
       "      <td>0</td>\n",
       "      <td>0</td>\n",
       "      <td>0</td>\n",
       "      <td>0</td>\n",
       "      <td>0</td>\n",
       "      <td>...</td>\n",
       "      <td>0</td>\n",
       "      <td>0</td>\n",
       "      <td>0</td>\n",
       "      <td>0</td>\n",
       "      <td>0</td>\n",
       "      <td>0</td>\n",
       "      <td>0</td>\n",
       "      <td>0</td>\n",
       "      <td>0</td>\n",
       "      <td>0</td>\n",
       "    </tr>\n",
       "    <tr>\n",
       "      <th>8</th>\n",
       "      <td>35000000.0</td>\n",
       "      <td>Sudden Death</td>\n",
       "      <td>64350171.0</td>\n",
       "      <td>9091</td>\n",
       "      <td>0</td>\n",
       "      <td>0</td>\n",
       "      <td>0</td>\n",
       "      <td>0</td>\n",
       "      <td>0</td>\n",
       "      <td>0</td>\n",
       "      <td>...</td>\n",
       "      <td>0</td>\n",
       "      <td>0</td>\n",
       "      <td>0</td>\n",
       "      <td>0</td>\n",
       "      <td>0</td>\n",
       "      <td>0</td>\n",
       "      <td>0</td>\n",
       "      <td>0</td>\n",
       "      <td>0</td>\n",
       "      <td>0</td>\n",
       "    </tr>\n",
       "  </tbody>\n",
       "</table>\n",
       "<p>5 rows × 36 columns</p>\n",
       "</div>"
      ],
      "text/plain": [
       "       budget              title      revenue     id  \\\n",
       "0  30000000.0          Toy Story  373554033.0    862   \n",
       "1  65000000.0            Jumanji  262797249.0   8844   \n",
       "3  16000000.0  Waiting to Exhale   81452156.0  31357   \n",
       "5  60000000.0               Heat  187436818.0    949   \n",
       "8  35000000.0       Sudden Death   64350171.0   9091   \n",
       "\n",
       "   Vision View Entertainment  The Cartel  TV Movie  Romance  \\\n",
       "0                          0           0         0        0   \n",
       "1                          0           0         0        0   \n",
       "3                          0           0         0        0   \n",
       "5                          0           0         0        0   \n",
       "8                          0           0         0        0   \n",
       "\n",
       "   Pulser Productions  Mardock Scramble Production Committee  ...  \\\n",
       "0                   0                                      0  ...   \n",
       "1                   0                                      0  ...   \n",
       "3                   0                                      0  ...   \n",
       "5                   0                                      0  ...   \n",
       "8                   0                                      0  ...   \n",
       "\n",
       "   Carousel Productions  Thriller  BROSTA TV  Aniplex  Fantasy  Adventure  \\\n",
       "0                     0         0          0        0        0          0   \n",
       "1                     0         0          0        0        0          0   \n",
       "3                     0         0          0        0        0          0   \n",
       "5                     0         0          0        0        0          0   \n",
       "8                     0         0          0        0        0          0   \n",
       "\n",
       "   Western  Science Fiction  Sentai Filmworks  Odyssey Media  \n",
       "0        0                0                 0              0  \n",
       "1        0                0                 0              0  \n",
       "3        0                0                 0              0  \n",
       "5        0                0                 0              0  \n",
       "8        0                0                 0              0  \n",
       "\n",
       "[5 rows x 36 columns]"
      ]
     },
     "execution_count": 366,
     "metadata": {},
     "output_type": "execute_result"
    }
   ],
   "source": [
    "df_movie_revenue_budget.head()"
   ]
  },
  {
   "cell_type": "code",
   "execution_count": 367,
   "id": "06d50fb9",
   "metadata": {},
   "outputs": [
    {
     "data": {
      "text/plain": [
       "(5381, 36)"
      ]
     },
     "execution_count": 367,
     "metadata": {},
     "output_type": "execute_result"
    }
   ],
   "source": [
    "df_movie_revenue_budget.shape"
   ]
  },
  {
   "cell_type": "code",
   "execution_count": 368,
   "id": "c9acda3b",
   "metadata": {},
   "outputs": [
    {
     "data": {
      "text/plain": [
       "dtype('int64')"
      ]
     },
     "execution_count": 368,
     "metadata": {},
     "output_type": "execute_result"
    }
   ],
   "source": [
    "df_movie_revenue_budget.rename(columns = {'id':'movie_id'}, inplace = True)\n",
    "df_movie_revenue_budget[\"movie_id\"].astype(str).astype(int).dtypes"
   ]
  },
  {
   "cell_type": "code",
   "execution_count": 369,
   "id": "ebbeb6a7",
   "metadata": {},
   "outputs": [
    {
     "data": {
      "text/plain": [
       "budget                                   float64\n",
       "title                                     object\n",
       "revenue                                  float64\n",
       "movie_id                                   int64\n",
       "Vision View Entertainment                  int64\n",
       "The Cartel                                 int64\n",
       "TV Movie                                   int64\n",
       "Romance                                    int64\n",
       "Pulser Productions                         int64\n",
       "Mardock Scramble Production Committee      int64\n",
       "Family                                     int64\n",
       "History                                    int64\n",
       "Music                                      int64\n",
       "Action                                     int64\n",
       "Crime                                      int64\n",
       "Documentary                                int64\n",
       "War                                        int64\n",
       "Mystery                                    int64\n",
       "Animation                                  int64\n",
       "GoHands                                    int64\n",
       "Horror                                     int64\n",
       "Comedy                                     int64\n",
       "Telescene Film Group Productions           int64\n",
       "Drama                                      int64\n",
       "Rogue State                                int64\n",
       "Foreign                                    int64\n",
       "Carousel Productions                       int64\n",
       "Thriller                                   int64\n",
       "BROSTA TV                                  int64\n",
       "Aniplex                                    int64\n",
       "Fantasy                                    int64\n",
       "Adventure                                  int64\n",
       "Western                                    int64\n",
       "Science Fiction                            int64\n",
       "Sentai Filmworks                           int64\n",
       "Odyssey Media                              int64\n",
       "dtype: object"
      ]
     },
     "execution_count": 369,
     "metadata": {},
     "output_type": "execute_result"
    }
   ],
   "source": [
    "df_movie_revenue_budget[\"movie_id\"] = df_movie_revenue_budget[\"movie_id\"].astype(str).astype(int)\n",
    "df_movie_revenue_budget.dtypes"
   ]
  },
  {
   "cell_type": "code",
   "execution_count": 370,
   "id": "c4b6a081",
   "metadata": {},
   "outputs": [
    {
     "data": {
      "text/plain": [
       "(5393, 38)"
      ]
     },
     "execution_count": 370,
     "metadata": {},
     "output_type": "execute_result"
    }
   ],
   "source": [
    "df_movie_revenue_budget_cast = df_movie_revenue_budget.merge(df, on = \"movie_id\", how = 'left')\n",
    "df_movie_revenue_budget_cast.shape"
   ]
  },
  {
   "cell_type": "code",
   "execution_count": 371,
   "id": "91994777",
   "metadata": {},
   "outputs": [
    {
     "data": {
      "text/html": [
       "<div>\n",
       "<style scoped>\n",
       "    .dataframe tbody tr th:only-of-type {\n",
       "        vertical-align: middle;\n",
       "    }\n",
       "\n",
       "    .dataframe tbody tr th {\n",
       "        vertical-align: top;\n",
       "    }\n",
       "\n",
       "    .dataframe thead th {\n",
       "        text-align: right;\n",
       "    }\n",
       "</style>\n",
       "<table border=\"1\" class=\"dataframe\">\n",
       "  <thead>\n",
       "    <tr style=\"text-align: right;\">\n",
       "      <th></th>\n",
       "      <th>budget</th>\n",
       "      <th>title</th>\n",
       "      <th>revenue</th>\n",
       "      <th>movie_id</th>\n",
       "      <th>Vision View Entertainment</th>\n",
       "      <th>The Cartel</th>\n",
       "      <th>TV Movie</th>\n",
       "      <th>Romance</th>\n",
       "      <th>Pulser Productions</th>\n",
       "      <th>Mardock Scramble Production Committee</th>\n",
       "      <th>...</th>\n",
       "      <th>BROSTA TV</th>\n",
       "      <th>Aniplex</th>\n",
       "      <th>Fantasy</th>\n",
       "      <th>Adventure</th>\n",
       "      <th>Western</th>\n",
       "      <th>Science Fiction</th>\n",
       "      <th>Sentai Filmworks</th>\n",
       "      <th>Odyssey Media</th>\n",
       "      <th>cast_name</th>\n",
       "      <th>cast_id</th>\n",
       "    </tr>\n",
       "  </thead>\n",
       "  <tbody>\n",
       "    <tr>\n",
       "      <th>0</th>\n",
       "      <td>30000000.0</td>\n",
       "      <td>Toy Story</td>\n",
       "      <td>373554033.0</td>\n",
       "      <td>862</td>\n",
       "      <td>0</td>\n",
       "      <td>0</td>\n",
       "      <td>0</td>\n",
       "      <td>0</td>\n",
       "      <td>0</td>\n",
       "      <td>0</td>\n",
       "      <td>...</td>\n",
       "      <td>0</td>\n",
       "      <td>0</td>\n",
       "      <td>0</td>\n",
       "      <td>0</td>\n",
       "      <td>0</td>\n",
       "      <td>0</td>\n",
       "      <td>0</td>\n",
       "      <td>0</td>\n",
       "      <td>[Tom Hanks, Tim Allen, Don Rickles, Jim Varney...</td>\n",
       "      <td>[31, 12898, 7167, 12899, 12900, 7907, 8873, 11...</td>\n",
       "    </tr>\n",
       "    <tr>\n",
       "      <th>1</th>\n",
       "      <td>65000000.0</td>\n",
       "      <td>Jumanji</td>\n",
       "      <td>262797249.0</td>\n",
       "      <td>8844</td>\n",
       "      <td>0</td>\n",
       "      <td>0</td>\n",
       "      <td>0</td>\n",
       "      <td>0</td>\n",
       "      <td>0</td>\n",
       "      <td>0</td>\n",
       "      <td>...</td>\n",
       "      <td>0</td>\n",
       "      <td>0</td>\n",
       "      <td>0</td>\n",
       "      <td>0</td>\n",
       "      <td>0</td>\n",
       "      <td>0</td>\n",
       "      <td>0</td>\n",
       "      <td>0</td>\n",
       "      <td>[Robin Williams, Jonathan Hyde, Kirsten Dunst,...</td>\n",
       "      <td>[2157, 8537, 205, 145151, 5149, 10739, 58563, ...</td>\n",
       "    </tr>\n",
       "    <tr>\n",
       "      <th>2</th>\n",
       "      <td>16000000.0</td>\n",
       "      <td>Waiting to Exhale</td>\n",
       "      <td>81452156.0</td>\n",
       "      <td>31357</td>\n",
       "      <td>0</td>\n",
       "      <td>0</td>\n",
       "      <td>0</td>\n",
       "      <td>0</td>\n",
       "      <td>0</td>\n",
       "      <td>0</td>\n",
       "      <td>...</td>\n",
       "      <td>0</td>\n",
       "      <td>0</td>\n",
       "      <td>0</td>\n",
       "      <td>0</td>\n",
       "      <td>0</td>\n",
       "      <td>0</td>\n",
       "      <td>0</td>\n",
       "      <td>0</td>\n",
       "      <td>[Whitney Houston, Angela Bassett, Loretta Devi...</td>\n",
       "      <td>[8851, 9780, 18284, 51359, 66804, 352, 87118, ...</td>\n",
       "    </tr>\n",
       "    <tr>\n",
       "      <th>3</th>\n",
       "      <td>60000000.0</td>\n",
       "      <td>Heat</td>\n",
       "      <td>187436818.0</td>\n",
       "      <td>949</td>\n",
       "      <td>0</td>\n",
       "      <td>0</td>\n",
       "      <td>0</td>\n",
       "      <td>0</td>\n",
       "      <td>0</td>\n",
       "      <td>0</td>\n",
       "      <td>...</td>\n",
       "      <td>0</td>\n",
       "      <td>0</td>\n",
       "      <td>0</td>\n",
       "      <td>0</td>\n",
       "      <td>0</td>\n",
       "      <td>0</td>\n",
       "      <td>0</td>\n",
       "      <td>0</td>\n",
       "      <td>[Al Pacino, Robert De Niro, Val Kilmer, Jon Vo...</td>\n",
       "      <td>[1158, 380, 5576, 10127, 3197, 6200, 15851, 15...</td>\n",
       "    </tr>\n",
       "    <tr>\n",
       "      <th>4</th>\n",
       "      <td>35000000.0</td>\n",
       "      <td>Sudden Death</td>\n",
       "      <td>64350171.0</td>\n",
       "      <td>9091</td>\n",
       "      <td>0</td>\n",
       "      <td>0</td>\n",
       "      <td>0</td>\n",
       "      <td>0</td>\n",
       "      <td>0</td>\n",
       "      <td>0</td>\n",
       "      <td>...</td>\n",
       "      <td>0</td>\n",
       "      <td>0</td>\n",
       "      <td>0</td>\n",
       "      <td>0</td>\n",
       "      <td>0</td>\n",
       "      <td>0</td>\n",
       "      <td>0</td>\n",
       "      <td>0</td>\n",
       "      <td>[Jean-Claude Van Damme, Powers Boothe, Dorian ...</td>\n",
       "      <td>[15111, 6280, 8656, 10361, 12928, 79088]</td>\n",
       "    </tr>\n",
       "  </tbody>\n",
       "</table>\n",
       "<p>5 rows × 38 columns</p>\n",
       "</div>"
      ],
      "text/plain": [
       "       budget              title      revenue  movie_id  \\\n",
       "0  30000000.0          Toy Story  373554033.0       862   \n",
       "1  65000000.0            Jumanji  262797249.0      8844   \n",
       "2  16000000.0  Waiting to Exhale   81452156.0     31357   \n",
       "3  60000000.0               Heat  187436818.0       949   \n",
       "4  35000000.0       Sudden Death   64350171.0      9091   \n",
       "\n",
       "   Vision View Entertainment  The Cartel  TV Movie  Romance  \\\n",
       "0                          0           0         0        0   \n",
       "1                          0           0         0        0   \n",
       "2                          0           0         0        0   \n",
       "3                          0           0         0        0   \n",
       "4                          0           0         0        0   \n",
       "\n",
       "   Pulser Productions  Mardock Scramble Production Committee  ...  BROSTA TV  \\\n",
       "0                   0                                      0  ...          0   \n",
       "1                   0                                      0  ...          0   \n",
       "2                   0                                      0  ...          0   \n",
       "3                   0                                      0  ...          0   \n",
       "4                   0                                      0  ...          0   \n",
       "\n",
       "   Aniplex  Fantasy  Adventure  Western  Science Fiction  Sentai Filmworks  \\\n",
       "0        0        0          0        0                0                 0   \n",
       "1        0        0          0        0                0                 0   \n",
       "2        0        0          0        0                0                 0   \n",
       "3        0        0          0        0                0                 0   \n",
       "4        0        0          0        0                0                 0   \n",
       "\n",
       "   Odyssey Media                                          cast_name  \\\n",
       "0              0  [Tom Hanks, Tim Allen, Don Rickles, Jim Varney...   \n",
       "1              0  [Robin Williams, Jonathan Hyde, Kirsten Dunst,...   \n",
       "2              0  [Whitney Houston, Angela Bassett, Loretta Devi...   \n",
       "3              0  [Al Pacino, Robert De Niro, Val Kilmer, Jon Vo...   \n",
       "4              0  [Jean-Claude Van Damme, Powers Boothe, Dorian ...   \n",
       "\n",
       "                                             cast_id  \n",
       "0  [31, 12898, 7167, 12899, 12900, 7907, 8873, 11...  \n",
       "1  [2157, 8537, 205, 145151, 5149, 10739, 58563, ...  \n",
       "2  [8851, 9780, 18284, 51359, 66804, 352, 87118, ...  \n",
       "3  [1158, 380, 5576, 10127, 3197, 6200, 15851, 15...  \n",
       "4           [15111, 6280, 8656, 10361, 12928, 79088]  \n",
       "\n",
       "[5 rows x 38 columns]"
      ]
     },
     "execution_count": 371,
     "metadata": {},
     "output_type": "execute_result"
    }
   ],
   "source": [
    "df_movie_revenue_budget_cast.head()"
   ]
  },
  {
   "cell_type": "markdown",
   "id": "f18468f7",
   "metadata": {},
   "source": [
    "## 2. Data Analysis"
   ]
  },
  {
   "cell_type": "code",
   "execution_count": 372,
   "id": "1e1afce9",
   "metadata": {},
   "outputs": [],
   "source": [
    "all_actors = []\n",
    "for name in df_movie_revenue_budget_cast.cast_name:\n",
    "    all_actors.extend(name)"
   ]
  },
  {
   "cell_type": "code",
   "execution_count": 373,
   "id": "4f7166e8",
   "metadata": {},
   "outputs": [
    {
     "data": {
      "image/png": "[encoded data removed]",
      "text/plain": [
       "<Figure size 432x288 with 1 Axes>"
      ]
     },
     "metadata": {
      "needs_background": "light"
     },
     "output_type": "display_data"
    }
   ],
   "source": [
    "actors_fre = Counter(all_actors)\n",
    "all_fre = list(actors_fre.values())\n",
    "plt.hist(all_fre, bins = 80)\n",
    "plt.title('Number of times all actors acted in a movie VS Number of actors')\n",
    "plt.xlabel('Number of times all actors acted')\n",
    "plt.ylabel('Number of actors')\n",
    "plt.show()"
   ]
  },
  {
   "cell_type": "code",
   "execution_count": 374,
   "id": "01869829",
   "metadata": {},
   "outputs": [
    {
     "data": {
      "text/plain": [
       "333"
      ]
     },
     "execution_count": 374,
     "metadata": {},
     "output_type": "execute_result"
    }
   ],
   "source": [
    "all_fre.sort()\n",
    "greater20 = 0\n",
    "for i in range(len(all_fre)):\n",
    "    if all_fre[i] > 20:\n",
    "        greater20 = i\n",
    "        break\n",
    "all_fre = all_fre[greater5:]\n",
    "len(all_fre)"
   ]
  },
  {
   "cell_type": "code",
   "execution_count": 375,
   "id": "f5e51a7b",
   "metadata": {},
   "outputs": [
    {
     "data": {
      "image/png": "[encoded data removed]",
      "text/plain": [
       "<Figure size 432x288 with 1 Axes>"
      ]
     },
     "metadata": {
      "needs_background": "light"
     },
     "output_type": "display_data"
    }
   ],
   "source": [
    "plt.hist(all_fre, bins = 50)\n",
    "plt.title('Number of times all actors acted in a movie VS Number of actors')\n",
    "plt.xlabel('Number of times all actors acted')\n",
    "plt.ylabel('Number of actors')\n",
    "plt.show()"
   ]
  },
  {
   "cell_type": "code",
   "execution_count": 376,
   "id": "5240fb6d",
   "metadata": {},
   "outputs": [
    {
     "name": "stdout",
     "output_type": "stream",
     "text": [
      "From this, we can assume that the top 100 of actors in the number of movies are famous actors\n",
      "The number of top five percent actors is 100\n",
      "The top 100 of actors have acted in at least 30 films\n"
     ]
    }
   ],
   "source": [
    "print('From this, we can assume that the top 100 of actors in the number of movies are famous actors')\n",
    "all_fre = list(actors_fre.values())\n",
    "all_fre.sort()\n",
    "all_fre = all_fre[-100:]\n",
    "print('The number of top five percent actors is', len(all_fre))\n",
    "print('The top 100 of actors have acted in at least {} films'.format(all_fre[0]))"
   ]
  },
  {
   "cell_type": "code",
   "execution_count": 377,
   "id": "4c92c0bf",
   "metadata": {},
   "outputs": [],
   "source": [
    "famous_actors = set()\n",
    "for actor in actors_fre:\n",
    "    if actors_fre[actor] >= 30:\n",
    "        famous_actors.add(actor)"
   ]
  },
  {
   "cell_type": "code",
   "execution_count": 378,
   "id": "d577b1da",
   "metadata": {},
   "outputs": [],
   "source": [
    "famous_actors_df = []\n",
    "famous_actors_num_df = []\n",
    "for names in df_movie_revenue_budget_cast.cast_name:\n",
    "    temp = []\n",
    "    n = 0\n",
    "    for name in names:\n",
    "        if name in famous_actors:\n",
    "            temp.append(name)\n",
    "            n += 1\n",
    "    famous_actors_df.append(temp)\n",
    "    famous_actors_num_df.append(n)"
   ]
  },
  {
   "cell_type": "code",
   "execution_count": 379,
   "id": "977a1d24",
   "metadata": {},
   "outputs": [],
   "source": [
    "df_movie_revenue_budget_cast['famous_actors']= famous_actors_df\n",
    "df_movie_revenue_budget_cast['num_famous_actors']= famous_actors_num_df"
   ]
  },
  {
   "cell_type": "code",
   "execution_count": 380,
   "id": "5c8c0223",
   "metadata": {},
   "outputs": [
    {
     "data": {
      "text/html": [
       "<div>\n",
       "<style scoped>\n",
       "    .dataframe tbody tr th:only-of-type {\n",
       "        vertical-align: middle;\n",
       "    }\n",
       "\n",
       "    .dataframe tbody tr th {\n",
       "        vertical-align: top;\n",
       "    }\n",
       "\n",
       "    .dataframe thead th {\n",
       "        text-align: right;\n",
       "    }\n",
       "</style>\n",
       "<table border=\"1\" class=\"dataframe\">\n",
       "  <thead>\n",
       "    <tr style=\"text-align: right;\">\n",
       "      <th></th>\n",
       "      <th>budget</th>\n",
       "      <th>title</th>\n",
       "      <th>revenue</th>\n",
       "      <th>movie_id</th>\n",
       "      <th>Vision View Entertainment</th>\n",
       "      <th>The Cartel</th>\n",
       "      <th>TV Movie</th>\n",
       "      <th>Romance</th>\n",
       "      <th>Pulser Productions</th>\n",
       "      <th>Mardock Scramble Production Committee</th>\n",
       "      <th>...</th>\n",
       "      <th>Fantasy</th>\n",
       "      <th>Adventure</th>\n",
       "      <th>Western</th>\n",
       "      <th>Science Fiction</th>\n",
       "      <th>Sentai Filmworks</th>\n",
       "      <th>Odyssey Media</th>\n",
       "      <th>cast_name</th>\n",
       "      <th>cast_id</th>\n",
       "      <th>famous_actors</th>\n",
       "      <th>num_famous_actors</th>\n",
       "    </tr>\n",
       "  </thead>\n",
       "  <tbody>\n",
       "    <tr>\n",
       "      <th>0</th>\n",
       "      <td>30000000.0</td>\n",
       "      <td>Toy Story</td>\n",
       "      <td>373554033.0</td>\n",
       "      <td>862</td>\n",
       "      <td>0</td>\n",
       "      <td>0</td>\n",
       "      <td>0</td>\n",
       "      <td>0</td>\n",
       "      <td>0</td>\n",
       "      <td>0</td>\n",
       "      <td>...</td>\n",
       "      <td>0</td>\n",
       "      <td>0</td>\n",
       "      <td>0</td>\n",
       "      <td>0</td>\n",
       "      <td>0</td>\n",
       "      <td>0</td>\n",
       "      <td>[Tom Hanks, Tim Allen, Don Rickles, Jim Varney...</td>\n",
       "      <td>[31, 12898, 7167, 12899, 12900, 7907, 8873, 11...</td>\n",
       "      <td>[Tom Hanks]</td>\n",
       "      <td>1</td>\n",
       "    </tr>\n",
       "    <tr>\n",
       "      <th>1</th>\n",
       "      <td>65000000.0</td>\n",
       "      <td>Jumanji</td>\n",
       "      <td>262797249.0</td>\n",
       "      <td>8844</td>\n",
       "      <td>0</td>\n",
       "      <td>0</td>\n",
       "      <td>0</td>\n",
       "      <td>0</td>\n",
       "      <td>0</td>\n",
       "      <td>0</td>\n",
       "      <td>...</td>\n",
       "      <td>0</td>\n",
       "      <td>0</td>\n",
       "      <td>0</td>\n",
       "      <td>0</td>\n",
       "      <td>0</td>\n",
       "      <td>0</td>\n",
       "      <td>[Robin Williams, Jonathan Hyde, Kirsten Dunst,...</td>\n",
       "      <td>[2157, 8537, 205, 145151, 5149, 10739, 58563, ...</td>\n",
       "      <td>[Robin Williams, Kirsten Dunst]</td>\n",
       "      <td>2</td>\n",
       "    </tr>\n",
       "    <tr>\n",
       "      <th>2</th>\n",
       "      <td>16000000.0</td>\n",
       "      <td>Waiting to Exhale</td>\n",
       "      <td>81452156.0</td>\n",
       "      <td>31357</td>\n",
       "      <td>0</td>\n",
       "      <td>0</td>\n",
       "      <td>0</td>\n",
       "      <td>0</td>\n",
       "      <td>0</td>\n",
       "      <td>0</td>\n",
       "      <td>...</td>\n",
       "      <td>0</td>\n",
       "      <td>0</td>\n",
       "      <td>0</td>\n",
       "      <td>0</td>\n",
       "      <td>0</td>\n",
       "      <td>0</td>\n",
       "      <td>[Whitney Houston, Angela Bassett, Loretta Devi...</td>\n",
       "      <td>[8851, 9780, 18284, 51359, 66804, 352, 87118, ...</td>\n",
       "      <td>[]</td>\n",
       "      <td>0</td>\n",
       "    </tr>\n",
       "    <tr>\n",
       "      <th>3</th>\n",
       "      <td>60000000.0</td>\n",
       "      <td>Heat</td>\n",
       "      <td>187436818.0</td>\n",
       "      <td>949</td>\n",
       "      <td>0</td>\n",
       "      <td>0</td>\n",
       "      <td>0</td>\n",
       "      <td>0</td>\n",
       "      <td>0</td>\n",
       "      <td>0</td>\n",
       "      <td>...</td>\n",
       "      <td>0</td>\n",
       "      <td>0</td>\n",
       "      <td>0</td>\n",
       "      <td>0</td>\n",
       "      <td>0</td>\n",
       "      <td>0</td>\n",
       "      <td>[Al Pacino, Robert De Niro, Val Kilmer, Jon Vo...</td>\n",
       "      <td>[1158, 380, 5576, 10127, 3197, 6200, 15851, 15...</td>\n",
       "      <td>[Robert De Niro, Danny Trejo, Philip Ettington]</td>\n",
       "      <td>3</td>\n",
       "    </tr>\n",
       "    <tr>\n",
       "      <th>4</th>\n",
       "      <td>35000000.0</td>\n",
       "      <td>Sudden Death</td>\n",
       "      <td>64350171.0</td>\n",
       "      <td>9091</td>\n",
       "      <td>0</td>\n",
       "      <td>0</td>\n",
       "      <td>0</td>\n",
       "      <td>0</td>\n",
       "      <td>0</td>\n",
       "      <td>0</td>\n",
       "      <td>...</td>\n",
       "      <td>0</td>\n",
       "      <td>0</td>\n",
       "      <td>0</td>\n",
       "      <td>0</td>\n",
       "      <td>0</td>\n",
       "      <td>0</td>\n",
       "      <td>[Jean-Claude Van Damme, Powers Boothe, Dorian ...</td>\n",
       "      <td>[15111, 6280, 8656, 10361, 12928, 79088]</td>\n",
       "      <td>[]</td>\n",
       "      <td>0</td>\n",
       "    </tr>\n",
       "  </tbody>\n",
       "</table>\n",
       "<p>5 rows × 40 columns</p>\n",
       "</div>"
      ],
      "text/plain": [
       "       budget              title      revenue  movie_id  \\\n",
       "0  30000000.0          Toy Story  373554033.0       862   \n",
       "1  65000000.0            Jumanji  262797249.0      8844   \n",
       "2  16000000.0  Waiting to Exhale   81452156.0     31357   \n",
       "3  60000000.0               Heat  187436818.0       949   \n",
       "4  35000000.0       Sudden Death   64350171.0      9091   \n",
       "\n",
       "   Vision View Entertainment  The Cartel  TV Movie  Romance  \\\n",
       "0                          0           0         0        0   \n",
       "1                          0           0         0        0   \n",
       "2                          0           0         0        0   \n",
       "3                          0           0         0        0   \n",
       "4                          0           0         0        0   \n",
       "\n",
       "   Pulser Productions  Mardock Scramble Production Committee  ...  Fantasy  \\\n",
       "0                   0                                      0  ...        0   \n",
       "1                   0                                      0  ...        0   \n",
       "2                   0                                      0  ...        0   \n",
       "3                   0                                      0  ...        0   \n",
       "4                   0                                      0  ...        0   \n",
       "\n",
       "   Adventure  Western  Science Fiction  Sentai Filmworks  Odyssey Media  \\\n",
       "0          0        0                0                 0              0   \n",
       "1          0        0                0                 0              0   \n",
       "2          0        0                0                 0              0   \n",
       "3          0        0                0                 0              0   \n",
       "4          0        0                0                 0              0   \n",
       "\n",
       "                                           cast_name  \\\n",
       "0  [Tom Hanks, Tim Allen, Don Rickles, Jim Varney...   \n",
       "1  [Robin Williams, Jonathan Hyde, Kirsten Dunst,...   \n",
       "2  [Whitney Houston, Angela Bassett, Loretta Devi...   \n",
       "3  [Al Pacino, Robert De Niro, Val Kilmer, Jon Vo...   \n",
       "4  [Jean-Claude Van Damme, Powers Boothe, Dorian ...   \n",
       "\n",
       "                                             cast_id  \\\n",
       "0  [31, 12898, 7167, 12899, 12900, 7907, 8873, 11...   \n",
       "1  [2157, 8537, 205, 145151, 5149, 10739, 58563, ...   \n",
       "2  [8851, 9780, 18284, 51359, 66804, 352, 87118, ...   \n",
       "3  [1158, 380, 5576, 10127, 3197, 6200, 15851, 15...   \n",
       "4           [15111, 6280, 8656, 10361, 12928, 79088]   \n",
       "\n",
       "                                     famous_actors  num_famous_actors  \n",
       "0                                      [Tom Hanks]                  1  \n",
       "1                  [Robin Williams, Kirsten Dunst]                  2  \n",
       "2                                               []                  0  \n",
       "3  [Robert De Niro, Danny Trejo, Philip Ettington]                  3  \n",
       "4                                               []                  0  \n",
       "\n",
       "[5 rows x 40 columns]"
      ]
     },
     "execution_count": 380,
     "metadata": {},
     "output_type": "execute_result"
    }
   ],
   "source": [
    "df_movie_revenue_budget_cast.head(5)"
   ]
  },
  {
   "cell_type": "code",
   "execution_count": 381,
   "id": "d4a9f627",
   "metadata": {},
   "outputs": [],
   "source": [
    "cond = df_movie_revenue_budget_cast.num_famous_actors > 0\n",
    "df_movie_revenue_budget_cast = df_movie_revenue_budget_cast[cond]"
   ]
  },
  {
   "cell_type": "code",
   "execution_count": 382,
   "id": "21d925d8",
   "metadata": {},
   "outputs": [
    {
     "data": {
      "text/plain": [
       "(2375, 40)"
      ]
     },
     "execution_count": 382,
     "metadata": {},
     "output_type": "execute_result"
    }
   ],
   "source": [
    "df_movie_revenue_budget_cast.shape"
   ]
  },
  {
   "cell_type": "code",
   "execution_count": 383,
   "id": "6e15180b",
   "metadata": {},
   "outputs": [],
   "source": [
    "df_movie_revenue_budget_cast['profit'] = df_movie_revenue_budget_cast.revenue - df_movie_revenue_budget_cast.budget"
   ]
  },
  {
   "cell_type": "code",
   "execution_count": 384,
   "id": "2b34cf46",
   "metadata": {},
   "outputs": [
    {
     "data": {
      "text/html": [
       "<div>\n",
       "<style scoped>\n",
       "    .dataframe tbody tr th:only-of-type {\n",
       "        vertical-align: middle;\n",
       "    }\n",
       "\n",
       "    .dataframe tbody tr th {\n",
       "        vertical-align: top;\n",
       "    }\n",
       "\n",
       "    .dataframe thead th {\n",
       "        text-align: right;\n",
       "    }\n",
       "</style>\n",
       "<table border=\"1\" class=\"dataframe\">\n",
       "  <thead>\n",
       "    <tr style=\"text-align: right;\">\n",
       "      <th></th>\n",
       "      <th>budget</th>\n",
       "      <th>title</th>\n",
       "      <th>revenue</th>\n",
       "      <th>movie_id</th>\n",
       "      <th>Vision View Entertainment</th>\n",
       "      <th>The Cartel</th>\n",
       "      <th>TV Movie</th>\n",
       "      <th>Romance</th>\n",
       "      <th>Pulser Productions</th>\n",
       "      <th>Mardock Scramble Production Committee</th>\n",
       "      <th>...</th>\n",
       "      <th>Adventure</th>\n",
       "      <th>Western</th>\n",
       "      <th>Science Fiction</th>\n",
       "      <th>Sentai Filmworks</th>\n",
       "      <th>Odyssey Media</th>\n",
       "      <th>cast_name</th>\n",
       "      <th>cast_id</th>\n",
       "      <th>famous_actors</th>\n",
       "      <th>num_famous_actors</th>\n",
       "      <th>profit</th>\n",
       "    </tr>\n",
       "  </thead>\n",
       "  <tbody>\n",
       "    <tr>\n",
       "      <th>0</th>\n",
       "      <td>30000000.0</td>\n",
       "      <td>Toy Story</td>\n",
       "      <td>373554033.0</td>\n",
       "      <td>862</td>\n",
       "      <td>0</td>\n",
       "      <td>0</td>\n",
       "      <td>0</td>\n",
       "      <td>0</td>\n",
       "      <td>0</td>\n",
       "      <td>0</td>\n",
       "      <td>...</td>\n",
       "      <td>0</td>\n",
       "      <td>0</td>\n",
       "      <td>0</td>\n",
       "      <td>0</td>\n",
       "      <td>0</td>\n",
       "      <td>[Tom Hanks, Tim Allen, Don Rickles, Jim Varney...</td>\n",
       "      <td>[31, 12898, 7167, 12899, 12900, 7907, 8873, 11...</td>\n",
       "      <td>[Tom Hanks]</td>\n",
       "      <td>1</td>\n",
       "      <td>343554033.0</td>\n",
       "    </tr>\n",
       "    <tr>\n",
       "      <th>1</th>\n",
       "      <td>65000000.0</td>\n",
       "      <td>Jumanji</td>\n",
       "      <td>262797249.0</td>\n",
       "      <td>8844</td>\n",
       "      <td>0</td>\n",
       "      <td>0</td>\n",
       "      <td>0</td>\n",
       "      <td>0</td>\n",
       "      <td>0</td>\n",
       "      <td>0</td>\n",
       "      <td>...</td>\n",
       "      <td>0</td>\n",
       "      <td>0</td>\n",
       "      <td>0</td>\n",
       "      <td>0</td>\n",
       "      <td>0</td>\n",
       "      <td>[Robin Williams, Jonathan Hyde, Kirsten Dunst,...</td>\n",
       "      <td>[2157, 8537, 205, 145151, 5149, 10739, 58563, ...</td>\n",
       "      <td>[Robin Williams, Kirsten Dunst]</td>\n",
       "      <td>2</td>\n",
       "      <td>197797249.0</td>\n",
       "    </tr>\n",
       "    <tr>\n",
       "      <th>3</th>\n",
       "      <td>60000000.0</td>\n",
       "      <td>Heat</td>\n",
       "      <td>187436818.0</td>\n",
       "      <td>949</td>\n",
       "      <td>0</td>\n",
       "      <td>0</td>\n",
       "      <td>0</td>\n",
       "      <td>0</td>\n",
       "      <td>0</td>\n",
       "      <td>0</td>\n",
       "      <td>...</td>\n",
       "      <td>0</td>\n",
       "      <td>0</td>\n",
       "      <td>0</td>\n",
       "      <td>0</td>\n",
       "      <td>0</td>\n",
       "      <td>[Al Pacino, Robert De Niro, Val Kilmer, Jon Vo...</td>\n",
       "      <td>[1158, 380, 5576, 10127, 3197, 6200, 15851, 15...</td>\n",
       "      <td>[Robert De Niro, Danny Trejo, Philip Ettington]</td>\n",
       "      <td>3</td>\n",
       "      <td>127436818.0</td>\n",
       "    </tr>\n",
       "    <tr>\n",
       "      <th>7</th>\n",
       "      <td>44000000.0</td>\n",
       "      <td>Nixon</td>\n",
       "      <td>13681765.0</td>\n",
       "      <td>10858</td>\n",
       "      <td>0</td>\n",
       "      <td>0</td>\n",
       "      <td>0</td>\n",
       "      <td>0</td>\n",
       "      <td>0</td>\n",
       "      <td>0</td>\n",
       "      <td>...</td>\n",
       "      <td>0</td>\n",
       "      <td>0</td>\n",
       "      <td>0</td>\n",
       "      <td>0</td>\n",
       "      <td>0</td>\n",
       "      <td>[Anthony Hopkins, Joan Allen, Powers Boothe, E...</td>\n",
       "      <td>[4173, 11148, 6280, 228, 382, 5249, 19839, 110...</td>\n",
       "      <td>[Ed Harris]</td>\n",
       "      <td>1</td>\n",
       "      <td>-30318235.0</td>\n",
       "    </tr>\n",
       "    <tr>\n",
       "      <th>9</th>\n",
       "      <td>52000000.0</td>\n",
       "      <td>Casino</td>\n",
       "      <td>116112375.0</td>\n",
       "      <td>524</td>\n",
       "      <td>0</td>\n",
       "      <td>0</td>\n",
       "      <td>0</td>\n",
       "      <td>0</td>\n",
       "      <td>0</td>\n",
       "      <td>0</td>\n",
       "      <td>...</td>\n",
       "      <td>0</td>\n",
       "      <td>0</td>\n",
       "      <td>0</td>\n",
       "      <td>0</td>\n",
       "      <td>0</td>\n",
       "      <td>[Robert De Niro, Sharon Stone, Joe Pesci, Jame...</td>\n",
       "      <td>[380, 4430, 4517, 4512, 7167, 7169, 7166, 7165...</td>\n",
       "      <td>[Robert De Niro]</td>\n",
       "      <td>1</td>\n",
       "      <td>64112375.0</td>\n",
       "    </tr>\n",
       "  </tbody>\n",
       "</table>\n",
       "<p>5 rows × 41 columns</p>\n",
       "</div>"
      ],
      "text/plain": [
       "       budget      title      revenue  movie_id  Vision View Entertainment  \\\n",
       "0  30000000.0  Toy Story  373554033.0       862                          0   \n",
       "1  65000000.0    Jumanji  262797249.0      8844                          0   \n",
       "3  60000000.0       Heat  187436818.0       949                          0   \n",
       "7  44000000.0      Nixon   13681765.0     10858                          0   \n",
       "9  52000000.0     Casino  116112375.0       524                          0   \n",
       "\n",
       "   The Cartel  TV Movie  Romance  Pulser Productions  \\\n",
       "0           0         0        0                   0   \n",
       "1           0         0        0                   0   \n",
       "3           0         0        0                   0   \n",
       "7           0         0        0                   0   \n",
       "9           0         0        0                   0   \n",
       "\n",
       "   Mardock Scramble Production Committee  ...  Adventure  Western  \\\n",
       "0                                      0  ...          0        0   \n",
       "1                                      0  ...          0        0   \n",
       "3                                      0  ...          0        0   \n",
       "7                                      0  ...          0        0   \n",
       "9                                      0  ...          0        0   \n",
       "\n",
       "   Science Fiction  Sentai Filmworks  Odyssey Media  \\\n",
       "0                0                 0              0   \n",
       "1                0                 0              0   \n",
       "3                0                 0              0   \n",
       "7                0                 0              0   \n",
       "9                0                 0              0   \n",
       "\n",
       "                                           cast_name  \\\n",
       "0  [Tom Hanks, Tim Allen, Don Rickles, Jim Varney...   \n",
       "1  [Robin Williams, Jonathan Hyde, Kirsten Dunst,...   \n",
       "3  [Al Pacino, Robert De Niro, Val Kilmer, Jon Vo...   \n",
       "7  [Anthony Hopkins, Joan Allen, Powers Boothe, E...   \n",
       "9  [Robert De Niro, Sharon Stone, Joe Pesci, Jame...   \n",
       "\n",
       "                                             cast_id  \\\n",
       "0  [31, 12898, 7167, 12899, 12900, 7907, 8873, 11...   \n",
       "1  [2157, 8537, 205, 145151, 5149, 10739, 58563, ...   \n",
       "3  [1158, 380, 5576, 10127, 3197, 6200, 15851, 15...   \n",
       "7  [4173, 11148, 6280, 228, 382, 5249, 19839, 110...   \n",
       "9  [380, 4430, 4517, 4512, 7167, 7169, 7166, 7165...   \n",
       "\n",
       "                                     famous_actors  num_famous_actors  \\\n",
       "0                                      [Tom Hanks]                  1   \n",
       "1                  [Robin Williams, Kirsten Dunst]                  2   \n",
       "3  [Robert De Niro, Danny Trejo, Philip Ettington]                  3   \n",
       "7                                      [Ed Harris]                  1   \n",
       "9                                 [Robert De Niro]                  1   \n",
       "\n",
       "        profit  \n",
       "0  343554033.0  \n",
       "1  197797249.0  \n",
       "3  127436818.0  \n",
       "7  -30318235.0  \n",
       "9   64112375.0  \n",
       "\n",
       "[5 rows x 41 columns]"
      ]
     },
     "execution_count": 384,
     "metadata": {},
     "output_type": "execute_result"
    }
   ],
   "source": [
    "df_movie_revenue_budget_cast.head(5)"
   ]
  },
  {
   "cell_type": "code",
   "execution_count": 385,
   "id": "c3d2dd2e",
   "metadata": {},
   "outputs": [],
   "source": [
    "# Mimic ggplot in R\n",
    "matplotlib.style.use('ggplot')"
   ]
  },
  {
   "cell_type": "code",
   "execution_count": 386,
   "id": "e6e4e76d",
   "metadata": {
    "scrolled": false
   },
   "outputs": [
    {
     "data": {
      "text/plain": [
       "<AxesSubplot:xlabel='num_famous_actors', ylabel='profit'>"
      ]
     },
     "execution_count": 386,
     "metadata": {},
     "output_type": "execute_result"
    },
    {
     "data": {
      "image/png": "[encoded data removed]",
      "text/plain": [
       "<Figure size 360x360 with 1 Axes>"
      ]
     },
     "metadata": {},
     "output_type": "display_data"
    }
   ],
   "source": [
    "df_movie_revenue_budget_cast.plot(kind=\"scatter\",  # Scatter Plot\n",
    "          x=\"num_famous_actors\",           # 'x' for x-axis\n",
    "          y=\"profit\",           # 'y' for y-axis\n",
    "          figsize=(5,5),   # 5 x 5 size\n",
    "          color=\"blue\")    # blue dot"
   ]
  },
  {
   "cell_type": "code",
   "execution_count": 387,
   "id": "ceee6f39",
   "metadata": {},
   "outputs": [
    {
     "data": {
      "text/plain": [
       "432"
      ]
     },
     "execution_count": 387,
     "metadata": {},
     "output_type": "execute_result"
    }
   ],
   "source": [
    "df_movie_revenue_budget_cast[df_movie_revenue_budget_cast[\"Action\"] == 1].count()[0]"
   ]
  },
  {
   "cell_type": "code",
   "execution_count": 388,
   "id": "3f19c0bf",
   "metadata": {},
   "outputs": [
    {
     "data": {
      "text/plain": [
       "294"
      ]
     },
     "execution_count": 388,
     "metadata": {},
     "output_type": "execute_result"
    }
   ],
   "source": [
    "df_movie_revenue_budget_cast[df_movie_revenue_budget_cast[\"Adventure\"] == 1].count()[0]"
   ]
  },
  {
   "cell_type": "code",
   "execution_count": 389,
   "id": "7de2bca1",
   "metadata": {},
   "outputs": [
    {
     "data": {
      "text/plain": [
       "628"
      ]
     },
     "execution_count": 389,
     "metadata": {},
     "output_type": "execute_result"
    }
   ],
   "source": [
    "df_movie_revenue_budget_cast[df_movie_revenue_budget_cast[\"Romance\"] == 1].count()[0]"
   ]
  },
  {
   "cell_type": "code",
   "execution_count": 390,
   "id": "7060216a",
   "metadata": {},
   "outputs": [
    {
     "data": {
      "text/plain": [
       "930"
      ]
     },
     "execution_count": 390,
     "metadata": {},
     "output_type": "execute_result"
    }
   ],
   "source": [
    "df_movie_revenue_budget_cast[df_movie_revenue_budget_cast[\"Comedy\"] == 1].count()[0]"
   ]
  },
  {
   "cell_type": "code",
   "execution_count": 391,
   "id": "af693892",
   "metadata": {},
   "outputs": [
    {
     "data": {
      "text/plain": [
       "328"
      ]
     },
     "execution_count": 391,
     "metadata": {},
     "output_type": "execute_result"
    }
   ],
   "source": [
    "df_movie_revenue_budget_cast[df_movie_revenue_budget_cast[\"Crime\"] == 1].count()[0]"
   ]
  },
  {
   "cell_type": "code",
   "execution_count": 392,
   "id": "3ba21e7e",
   "metadata": {},
   "outputs": [
    {
     "data": {
      "text/plain": [
       "118"
      ]
     },
     "execution_count": 392,
     "metadata": {},
     "output_type": "execute_result"
    }
   ],
   "source": [
    "df_movie_revenue_budget_cast[df_movie_revenue_budget_cast[\"Horror\"] == 1].count()[0]"
   ]
  },
  {
   "cell_type": "code",
   "execution_count": 393,
   "id": "71be61e7",
   "metadata": {},
   "outputs": [
    {
     "data": {
      "text/plain": [
       "1353"
      ]
     },
     "execution_count": 393,
     "metadata": {},
     "output_type": "execute_result"
    }
   ],
   "source": [
    "df_movie_revenue_budget_cast[df_movie_revenue_budget_cast[\"Drama\"] == 1].count()[0]"
   ]
  },
  {
   "cell_type": "code",
   "execution_count": 394,
   "id": "5c76a091",
   "metadata": {},
   "outputs": [
    {
     "data": {
      "text/plain": [
       "286"
      ]
     },
     "execution_count": 394,
     "metadata": {},
     "output_type": "execute_result"
    }
   ],
   "source": [
    "df_movie_revenue_budget_cast[df_movie_revenue_budget_cast[\"Family\"] == 1].count()[0]"
   ]
  },
  {
   "cell_type": "code",
   "execution_count": 395,
   "id": "94dd6955",
   "metadata": {},
   "outputs": [
    {
     "data": {
      "text/plain": [
       "167"
      ]
     },
     "execution_count": 395,
     "metadata": {},
     "output_type": "execute_result"
    }
   ],
   "source": [
    "df_movie_revenue_budget_cast[df_movie_revenue_budget_cast[\"Fantasy\"] == 1].count()[0]"
   ]
  },
  {
   "cell_type": "code",
   "execution_count": 396,
   "id": "97a0b992",
   "metadata": {},
   "outputs": [
    {
     "data": {
      "text/plain": [
       "148"
      ]
     },
     "execution_count": 396,
     "metadata": {},
     "output_type": "execute_result"
    }
   ],
   "source": [
    "df_movie_revenue_budget_cast[df_movie_revenue_budget_cast[\"Mystery\"] == 1].count()[0]"
   ]
  },
  {
   "cell_type": "code",
   "execution_count": 397,
   "id": "0531ad41",
   "metadata": {},
   "outputs": [
    {
     "data": {
      "text/plain": [
       "125"
      ]
     },
     "execution_count": 397,
     "metadata": {},
     "output_type": "execute_result"
    }
   ],
   "source": [
    "df_movie_revenue_budget_cast[df_movie_revenue_budget_cast[\"Science Fiction\"] == 1].count()[0]"
   ]
  },
  {
   "cell_type": "code",
   "execution_count": 398,
   "id": "0b545496",
   "metadata": {},
   "outputs": [
    {
     "data": {
      "text/plain": [
       "508"
      ]
     },
     "execution_count": 398,
     "metadata": {},
     "output_type": "execute_result"
    }
   ],
   "source": [
    "df_movie_revenue_budget_cast[df_movie_revenue_budget_cast[\"Thriller\"] == 1].count()[0]"
   ]
  },
  {
   "cell_type": "code",
   "execution_count": 399,
   "id": "0eb2621a",
   "metadata": {},
   "outputs": [
    {
     "data": {
      "text/plain": [
       "32"
      ]
     },
     "execution_count": 399,
     "metadata": {},
     "output_type": "execute_result"
    }
   ],
   "source": [
    "df_movie_revenue_budget_cast[df_movie_revenue_budget_cast[\"Western\"] == 1].count()[0]"
   ]
  },
  {
   "cell_type": "code",
   "execution_count": 400,
   "id": "526d00f5",
   "metadata": {},
   "outputs": [
    {
     "data": {
      "text/html": [
       "<div>\n",
       "<style scoped>\n",
       "    .dataframe tbody tr th:only-of-type {\n",
       "        vertical-align: middle;\n",
       "    }\n",
       "\n",
       "    .dataframe tbody tr th {\n",
       "        vertical-align: top;\n",
       "    }\n",
       "\n",
       "    .dataframe thead th {\n",
       "        text-align: right;\n",
       "    }\n",
       "</style>\n",
       "<table border=\"1\" class=\"dataframe\">\n",
       "  <thead>\n",
       "    <tr style=\"text-align: right;\">\n",
       "      <th></th>\n",
       "      <th>budget</th>\n",
       "      <th>title</th>\n",
       "      <th>revenue</th>\n",
       "      <th>movie_id</th>\n",
       "      <th>Vision View Entertainment</th>\n",
       "      <th>The Cartel</th>\n",
       "      <th>TV Movie</th>\n",
       "      <th>Romance</th>\n",
       "      <th>Pulser Productions</th>\n",
       "      <th>Mardock Scramble Production Committee</th>\n",
       "      <th>...</th>\n",
       "      <th>Adventure</th>\n",
       "      <th>Western</th>\n",
       "      <th>Science Fiction</th>\n",
       "      <th>Sentai Filmworks</th>\n",
       "      <th>Odyssey Media</th>\n",
       "      <th>cast_name</th>\n",
       "      <th>cast_id</th>\n",
       "      <th>famous_actors</th>\n",
       "      <th>num_famous_actors</th>\n",
       "      <th>profit</th>\n",
       "    </tr>\n",
       "  </thead>\n",
       "  <tbody>\n",
       "    <tr>\n",
       "      <th>40</th>\n",
       "      <td>7000000.0</td>\n",
       "      <td>Bottle Rocket</td>\n",
       "      <td>5.600690e+05</td>\n",
       "      <td>13685</td>\n",
       "      <td>0</td>\n",
       "      <td>0</td>\n",
       "      <td>0</td>\n",
       "      <td>1</td>\n",
       "      <td>0</td>\n",
       "      <td>0</td>\n",
       "      <td>...</td>\n",
       "      <td>0</td>\n",
       "      <td>0</td>\n",
       "      <td>0</td>\n",
       "      <td>0</td>\n",
       "      <td>0</td>\n",
       "      <td>[Luke Wilson, Owen Wilson, Lumi Cavazos, Andre...</td>\n",
       "      <td>[36422, 887, 74940, 71555, 52797, 148593, 3085...</td>\n",
       "      <td>[Owen Wilson]</td>\n",
       "      <td>1</td>\n",
       "      <td>-6439931.0</td>\n",
       "    </tr>\n",
       "    <tr>\n",
       "      <th>41</th>\n",
       "      <td>12000000.0</td>\n",
       "      <td>Happy Gilmore</td>\n",
       "      <td>4.120510e+07</td>\n",
       "      <td>9614</td>\n",
       "      <td>0</td>\n",
       "      <td>0</td>\n",
       "      <td>0</td>\n",
       "      <td>1</td>\n",
       "      <td>0</td>\n",
       "      <td>0</td>\n",
       "      <td>...</td>\n",
       "      <td>0</td>\n",
       "      <td>0</td>\n",
       "      <td>0</td>\n",
       "      <td>0</td>\n",
       "      <td>0</td>\n",
       "      <td>[Adam Sandler, Ben Stiller, Christopher McDona...</td>\n",
       "      <td>[19292, 7399, 4443, 31171, 11794, 1101, 10460,...</td>\n",
       "      <td>[Ben Stiller]</td>\n",
       "      <td>1</td>\n",
       "      <td>29205099.0</td>\n",
       "    </tr>\n",
       "    <tr>\n",
       "      <th>42</th>\n",
       "      <td>24000000.0</td>\n",
       "      <td>The Bridges of Madison County</td>\n",
       "      <td>1.820166e+08</td>\n",
       "      <td>688</td>\n",
       "      <td>0</td>\n",
       "      <td>0</td>\n",
       "      <td>0</td>\n",
       "      <td>1</td>\n",
       "      <td>0</td>\n",
       "      <td>0</td>\n",
       "      <td>...</td>\n",
       "      <td>0</td>\n",
       "      <td>0</td>\n",
       "      <td>0</td>\n",
       "      <td>0</td>\n",
       "      <td>0</td>\n",
       "      <td>[Meryl Streep, Clint Eastwood, Annie Corley, V...</td>\n",
       "      <td>[5064, 190, 6907, 10379, 10380, 10381, 10382, ...</td>\n",
       "      <td>[Meryl Streep, Clint Eastwood]</td>\n",
       "      <td>2</td>\n",
       "      <td>158016617.0</td>\n",
       "    </tr>\n",
       "    <tr>\n",
       "      <th>43</th>\n",
       "      <td>72000000.0</td>\n",
       "      <td>Braveheart</td>\n",
       "      <td>2.100000e+08</td>\n",
       "      <td>197</td>\n",
       "      <td>0</td>\n",
       "      <td>0</td>\n",
       "      <td>0</td>\n",
       "      <td>1</td>\n",
       "      <td>0</td>\n",
       "      <td>0</td>\n",
       "      <td>...</td>\n",
       "      <td>0</td>\n",
       "      <td>0</td>\n",
       "      <td>0</td>\n",
       "      <td>0</td>\n",
       "      <td>0</td>\n",
       "      <td>[Mel Gibson, Catherine McCormack, Sophie Marce...</td>\n",
       "      <td>[2461, 2462, 1957, 2463, 2464, 2039, 2465, 246...</td>\n",
       "      <td>[Brendan Gleeson, Brian Cox]</td>\n",
       "      <td>2</td>\n",
       "      <td>138000000.0</td>\n",
       "    </tr>\n",
       "    <tr>\n",
       "      <th>44</th>\n",
       "      <td>1300000.0</td>\n",
       "      <td>Taxi Driver</td>\n",
       "      <td>2.826257e+07</td>\n",
       "      <td>103</td>\n",
       "      <td>0</td>\n",
       "      <td>0</td>\n",
       "      <td>0</td>\n",
       "      <td>1</td>\n",
       "      <td>0</td>\n",
       "      <td>0</td>\n",
       "      <td>...</td>\n",
       "      <td>0</td>\n",
       "      <td>0</td>\n",
       "      <td>0</td>\n",
       "      <td>0</td>\n",
       "      <td>0</td>\n",
       "      <td>[Robert De Niro, Cybill Shepherd, Harvey Keite...</td>\n",
       "      <td>[380, 1036, 1037, 1038, 1039, 1040, 13, 1041, ...</td>\n",
       "      <td>[Robert De Niro]</td>\n",
       "      <td>1</td>\n",
       "      <td>26962574.0</td>\n",
       "    </tr>\n",
       "    <tr>\n",
       "      <th>...</th>\n",
       "      <td>...</td>\n",
       "      <td>...</td>\n",
       "      <td>...</td>\n",
       "      <td>...</td>\n",
       "      <td>...</td>\n",
       "      <td>...</td>\n",
       "      <td>...</td>\n",
       "      <td>...</td>\n",
       "      <td>...</td>\n",
       "      <td>...</td>\n",
       "      <td>...</td>\n",
       "      <td>...</td>\n",
       "      <td>...</td>\n",
       "      <td>...</td>\n",
       "      <td>...</td>\n",
       "      <td>...</td>\n",
       "      <td>...</td>\n",
       "      <td>...</td>\n",
       "      <td>...</td>\n",
       "      <td>...</td>\n",
       "      <td>...</td>\n",
       "    </tr>\n",
       "    <tr>\n",
       "      <th>5320</th>\n",
       "      <td>250000000.0</td>\n",
       "      <td>The Fate of the Furious</td>\n",
       "      <td>1.238765e+09</td>\n",
       "      <td>337339</td>\n",
       "      <td>0</td>\n",
       "      <td>0</td>\n",
       "      <td>0</td>\n",
       "      <td>0</td>\n",
       "      <td>0</td>\n",
       "      <td>0</td>\n",
       "      <td>...</td>\n",
       "      <td>0</td>\n",
       "      <td>0</td>\n",
       "      <td>0</td>\n",
       "      <td>0</td>\n",
       "      <td>0</td>\n",
       "      <td>[Vin Diesel, Jason Statham, Dwayne Johnson, Mi...</td>\n",
       "      <td>[12835, 976, 18918, 17647, 8169, 8171, 6885, 6...</td>\n",
       "      <td>[Jason Statham, Dwayne Johnson]</td>\n",
       "      <td>2</td>\n",
       "      <td>988764765.0</td>\n",
       "    </tr>\n",
       "    <tr>\n",
       "      <th>5322</th>\n",
       "      <td>175000000.0</td>\n",
       "      <td>Cars 3</td>\n",
       "      <td>3.501701e+08</td>\n",
       "      <td>260514</td>\n",
       "      <td>0</td>\n",
       "      <td>0</td>\n",
       "      <td>0</td>\n",
       "      <td>0</td>\n",
       "      <td>0</td>\n",
       "      <td>0</td>\n",
       "      <td>...</td>\n",
       "      <td>0</td>\n",
       "      <td>0</td>\n",
       "      <td>0</td>\n",
       "      <td>0</td>\n",
       "      <td>0</td>\n",
       "      <td>[Owen Wilson, Cristela Alonzo, Chris Cooper, A...</td>\n",
       "      <td>[887, 1374727, 2955, 53807, 5149, 15897, 51797...</td>\n",
       "      <td>[Owen Wilson]</td>\n",
       "      <td>1</td>\n",
       "      <td>175170057.0</td>\n",
       "    </tr>\n",
       "    <tr>\n",
       "      <th>5357</th>\n",
       "      <td>60000000.0</td>\n",
       "      <td>Rock Dog</td>\n",
       "      <td>9.420546e+06</td>\n",
       "      <td>333667</td>\n",
       "      <td>0</td>\n",
       "      <td>0</td>\n",
       "      <td>0</td>\n",
       "      <td>0</td>\n",
       "      <td>0</td>\n",
       "      <td>0</td>\n",
       "      <td>...</td>\n",
       "      <td>0</td>\n",
       "      <td>0</td>\n",
       "      <td>0</td>\n",
       "      <td>0</td>\n",
       "      <td>0</td>\n",
       "      <td>[Luke Wilson, J.K. Simmons, Eddie Izzard, Lewi...</td>\n",
       "      <td>[36422, 18999, 1926, 59258, 16431, 2876, 52404...</td>\n",
       "      <td>[J.K. Simmons]</td>\n",
       "      <td>1</td>\n",
       "      <td>-50579454.0</td>\n",
       "    </tr>\n",
       "    <tr>\n",
       "      <th>5380</th>\n",
       "      <td>260000000.0</td>\n",
       "      <td>Transformers: The Last Knight</td>\n",
       "      <td>6.049421e+08</td>\n",
       "      <td>335988</td>\n",
       "      <td>0</td>\n",
       "      <td>0</td>\n",
       "      <td>0</td>\n",
       "      <td>1</td>\n",
       "      <td>0</td>\n",
       "      <td>0</td>\n",
       "      <td>...</td>\n",
       "      <td>0</td>\n",
       "      <td>0</td>\n",
       "      <td>0</td>\n",
       "      <td>0</td>\n",
       "      <td>0</td>\n",
       "      <td>[Mark Wahlberg, Josh Duhamel, Laura Haddock, A...</td>\n",
       "      <td>[13240, 19536, 209578, 4173, 2283, 1428070, 12...</td>\n",
       "      <td>[Mark Wahlberg, Stanley Tucci, John Turturro, ...</td>\n",
       "      <td>6</td>\n",
       "      <td>344942143.0</td>\n",
       "    </tr>\n",
       "    <tr>\n",
       "      <th>5385</th>\n",
       "      <td>60000000.0</td>\n",
       "      <td>The Dark Tower</td>\n",
       "      <td>7.100000e+07</td>\n",
       "      <td>353491</td>\n",
       "      <td>0</td>\n",
       "      <td>0</td>\n",
       "      <td>0</td>\n",
       "      <td>1</td>\n",
       "      <td>0</td>\n",
       "      <td>0</td>\n",
       "      <td>...</td>\n",
       "      <td>0</td>\n",
       "      <td>0</td>\n",
       "      <td>0</td>\n",
       "      <td>0</td>\n",
       "      <td>0</td>\n",
       "      <td>[Idris Elba, Matthew McConaughey, Tom Taylor, ...</td>\n",
       "      <td>[17605, 10297, 1696753, 1401531, 51533, 103628...</td>\n",
       "      <td>[Matthew McConaughey]</td>\n",
       "      <td>1</td>\n",
       "      <td>11000000.0</td>\n",
       "    </tr>\n",
       "  </tbody>\n",
       "</table>\n",
       "<p>1353 rows × 41 columns</p>\n",
       "</div>"
      ],
      "text/plain": [
       "           budget                          title       revenue  movie_id  \\\n",
       "40      7000000.0                  Bottle Rocket  5.600690e+05     13685   \n",
       "41     12000000.0                  Happy Gilmore  4.120510e+07      9614   \n",
       "42     24000000.0  The Bridges of Madison County  1.820166e+08       688   \n",
       "43     72000000.0                     Braveheart  2.100000e+08       197   \n",
       "44      1300000.0                    Taxi Driver  2.826257e+07       103   \n",
       "...           ...                            ...           ...       ...   \n",
       "5320  250000000.0        The Fate of the Furious  1.238765e+09    337339   \n",
       "5322  175000000.0                         Cars 3  3.501701e+08    260514   \n",
       "5357   60000000.0                       Rock Dog  9.420546e+06    333667   \n",
       "5380  260000000.0  Transformers: The Last Knight  6.049421e+08    335988   \n",
       "5385   60000000.0                 The Dark Tower  7.100000e+07    353491   \n",
       "\n",
       "      Vision View Entertainment  The Cartel  TV Movie  Romance  \\\n",
       "40                            0           0         0        1   \n",
       "41                            0           0         0        1   \n",
       "42                            0           0         0        1   \n",
       "43                            0           0         0        1   \n",
       "44                            0           0         0        1   \n",
       "...                         ...         ...       ...      ...   \n",
       "5320                          0           0         0        0   \n",
       "5322                          0           0         0        0   \n",
       "5357                          0           0         0        0   \n",
       "5380                          0           0         0        1   \n",
       "5385                          0           0         0        1   \n",
       "\n",
       "      Pulser Productions  Mardock Scramble Production Committee  ...  \\\n",
       "40                     0                                      0  ...   \n",
       "41                     0                                      0  ...   \n",
       "42                     0                                      0  ...   \n",
       "43                     0                                      0  ...   \n",
       "44                     0                                      0  ...   \n",
       "...                  ...                                    ...  ...   \n",
       "5320                   0                                      0  ...   \n",
       "5322                   0                                      0  ...   \n",
       "5357                   0                                      0  ...   \n",
       "5380                   0                                      0  ...   \n",
       "5385                   0                                      0  ...   \n",
       "\n",
       "      Adventure  Western  Science Fiction  Sentai Filmworks  Odyssey Media  \\\n",
       "40            0        0                0                 0              0   \n",
       "41            0        0                0                 0              0   \n",
       "42            0        0                0                 0              0   \n",
       "43            0        0                0                 0              0   \n",
       "44            0        0                0                 0              0   \n",
       "...         ...      ...              ...               ...            ...   \n",
       "5320          0        0                0                 0              0   \n",
       "5322          0        0                0                 0              0   \n",
       "5357          0        0                0                 0              0   \n",
       "5380          0        0                0                 0              0   \n",
       "5385          0        0                0                 0              0   \n",
       "\n",
       "                                              cast_name  \\\n",
       "40    [Luke Wilson, Owen Wilson, Lumi Cavazos, Andre...   \n",
       "41    [Adam Sandler, Ben Stiller, Christopher McDona...   \n",
       "42    [Meryl Streep, Clint Eastwood, Annie Corley, V...   \n",
       "43    [Mel Gibson, Catherine McCormack, Sophie Marce...   \n",
       "44    [Robert De Niro, Cybill Shepherd, Harvey Keite...   \n",
       "...                                                 ...   \n",
       "5320  [Vin Diesel, Jason Statham, Dwayne Johnson, Mi...   \n",
       "5322  [Owen Wilson, Cristela Alonzo, Chris Cooper, A...   \n",
       "5357  [Luke Wilson, J.K. Simmons, Eddie Izzard, Lewi...   \n",
       "5380  [Mark Wahlberg, Josh Duhamel, Laura Haddock, A...   \n",
       "5385  [Idris Elba, Matthew McConaughey, Tom Taylor, ...   \n",
       "\n",
       "                                                cast_id  \\\n",
       "40    [36422, 887, 74940, 71555, 52797, 148593, 3085...   \n",
       "41    [19292, 7399, 4443, 31171, 11794, 1101, 10460,...   \n",
       "42    [5064, 190, 6907, 10379, 10380, 10381, 10382, ...   \n",
       "43    [2461, 2462, 1957, 2463, 2464, 2039, 2465, 246...   \n",
       "44    [380, 1036, 1037, 1038, 1039, 1040, 13, 1041, ...   \n",
       "...                                                 ...   \n",
       "5320  [12835, 976, 18918, 17647, 8169, 8171, 6885, 6...   \n",
       "5322  [887, 1374727, 2955, 53807, 5149, 15897, 51797...   \n",
       "5357  [36422, 18999, 1926, 59258, 16431, 2876, 52404...   \n",
       "5380  [13240, 19536, 209578, 4173, 2283, 1428070, 12...   \n",
       "5385  [17605, 10297, 1696753, 1401531, 51533, 103628...   \n",
       "\n",
       "                                          famous_actors  num_famous_actors  \\\n",
       "40                                        [Owen Wilson]                  1   \n",
       "41                                        [Ben Stiller]                  1   \n",
       "42                       [Meryl Streep, Clint Eastwood]                  2   \n",
       "43                         [Brendan Gleeson, Brian Cox]                  2   \n",
       "44                                     [Robert De Niro]                  1   \n",
       "...                                                 ...                ...   \n",
       "5320                    [Jason Statham, Dwayne Johnson]                  2   \n",
       "5322                                      [Owen Wilson]                  1   \n",
       "5357                                     [J.K. Simmons]                  1   \n",
       "5380  [Mark Wahlberg, Stanley Tucci, John Turturro, ...                  6   \n",
       "5385                              [Matthew McConaughey]                  1   \n",
       "\n",
       "           profit  \n",
       "40     -6439931.0  \n",
       "41     29205099.0  \n",
       "42    158016617.0  \n",
       "43    138000000.0  \n",
       "44     26962574.0  \n",
       "...           ...  \n",
       "5320  988764765.0  \n",
       "5322  175170057.0  \n",
       "5357  -50579454.0  \n",
       "5380  344942143.0  \n",
       "5385   11000000.0  \n",
       "\n",
       "[1353 rows x 41 columns]"
      ]
     },
     "execution_count": 400,
     "metadata": {},
     "output_type": "execute_result"
    }
   ],
   "source": [
    "df_movie_revenue_budget_cast_Drama = df_movie_revenue_budget_cast[df_movie_revenue_budget_cast[\"Drama\"] == 1]\n",
    "df_movie_revenue_budget_cast_Drama"
   ]
  },
  {
   "cell_type": "code",
   "execution_count": 401,
   "id": "674bd2d6",
   "metadata": {},
   "outputs": [
    {
     "data": {
      "text/plain": [
       "<AxesSubplot:xlabel='num_famous_actors', ylabel='profit'>"
      ]
     },
     "execution_count": 401,
     "metadata": {},
     "output_type": "execute_result"
    },
    {
     "data": {
      "image/png": "[encoded data removed]",
      "text/plain": [
       "<Figure size 360x360 with 1 Axes>"
      ]
     },
     "metadata": {},
     "output_type": "display_data"
    }
   ],
   "source": [
    "df_movie_revenue_budget_cast_Drama.plot(kind=\"scatter\",  # Scatter Plot\n",
    "          x=\"num_famous_actors\",           # 'x' for x-axis\n",
    "          y=\"profit\",           # 'y' for y-axis\n",
    "          figsize=(5,5),   # 5 x 5 size\n",
    "          color=\"blue\")    # blue dot"
   ]
  },
  {
   "cell_type": "code",
   "execution_count": 402,
   "id": "139dfa9b",
   "metadata": {},
   "outputs": [],
   "source": [
    "number_factors_total_profit = {}\n",
    "number_factors_total_number = {}\n",
    "for row in df_movie_revenue_budget_cast.iterrows():\n",
    "    if row[1]['num_famous_actors'] in number_factors_total_profit:\n",
    "        number_factors_total_profit[row[1]['num_famous_actors']] += row[1]['profit']\n",
    "        number_factors_total_number[row[1]['num_famous_actors']] += 1\n",
    "    else:\n",
    "        number_factors_total_profit[row[1]['num_famous_actors']] = row[1]['profit']\n",
    "        number_factors_total_number[row[1]['num_famous_actors']] = 1"
   ]
  },
  {
   "cell_type": "code",
   "execution_count": 403,
   "id": "cbcbdf8b",
   "metadata": {},
   "outputs": [],
   "source": [
    "number_factors_mean_profit = []\n",
    "number_factors = []\n",
    "for key in number_factors_total_profit:\n",
    "    number_factors.append(key)\n",
    "    number_factors_mean_profit.append(number_factors_total_profit[key]/number_factors_total_number[key])"
   ]
  },
  {
   "cell_type": "code",
   "execution_count": 404,
   "id": "e91d8fc9",
   "metadata": {},
   "outputs": [
    {
     "data": {
      "image/png": "[encoded data removed]",
      "text/plain": [
       "<Figure size 432x288 with 1 Axes>"
      ]
     },
     "metadata": {},
     "output_type": "display_data"
    }
   ],
   "source": [
    "plt.scatter(number_factors, number_factors_mean_profit)\n",
    "plt.title('Number of Famous actors VS Profit')\n",
    "plt.xlabel('Number of Famous actors')\n",
    "plt.ylabel('mean Profit')\n",
    "plt.show()"
   ]
  },
  {
   "cell_type": "code",
   "execution_count": 405,
   "id": "7986810f",
   "metadata": {},
   "outputs": [],
   "source": [
    "X = list(df_movie_revenue_budget_cast['num_famous_actors'])\n",
    "y = list(df_movie_revenue_budget_cast['profit'])\n",
    "d = {y[i]:X[i] for i in range(len(X))}\n",
    "sorted_d = sorted(d.items(), key = lambda x: x[1])\n",
    "X = []\n",
    "y = []\n",
    "for p in sorted_d:\n",
    "    X.append(p[1])\n",
    "    y.append(p[0])\n",
    "X = np.array(X).reshape(-1,1)"
   ]
  },
  {
   "cell_type": "code",
   "execution_count": 406,
   "id": "fcde328b",
   "metadata": {},
   "outputs": [
    {
     "data": {
      "text/html": [
       "<style>#sk-container-id-9 {color: black;background-color: white;}#sk-container-id-9 pre{padding: 0;}#sk-container-id-9 div.sk-toggleable {background-color: white;}#sk-container-id-9 label.sk-toggleable__label {cursor: pointer;display: block;width: 100%;margin-bottom: 0;padding: 0.3em;box-sizing: border-box;text-align: center;}#sk-container-id-9 label.sk-toggleable__label-arrow:before {content: \"▸\";float: left;margin-right: 0.25em;color: #696969;}#sk-container-id-9 label.sk-toggleable__label-arrow:hover:before {color: black;}#sk-container-id-9 div.sk-estimator:hover label.sk-toggleable__label-arrow:before {color: black;}#sk-container-id-9 div.sk-toggleable__content {max-height: 0;max-width: 0;overflow: hidden;text-align: left;background-color: #f0f8ff;}#sk-container-id-9 div.sk-toggleable__content pre {margin: 0.2em;color: black;border-radius: 0.25em;background-color: #f0f8ff;}#sk-container-id-9 input.sk-toggleable__control:checked~div.sk-toggleable__content {max-height: 200px;max-width: 100%;overflow: auto;}#sk-container-id-9 input.sk-toggleable__control:checked~label.sk-toggleable__label-arrow:before {content: \"▾\";}#sk-container-id-9 div.sk-estimator input.sk-toggleable__control:checked~label.sk-toggleable__label {background-color: #d4ebff;}#sk-container-id-9 div.sk-label input.sk-toggleable__control:checked~label.sk-toggleable__label {background-color: #d4ebff;}#sk-container-id-9 input.sk-hidden--visually {border: 0;clip: rect(1px 1px 1px 1px);clip: rect(1px, 1px, 1px, 1px);height: 1px;margin: -1px;overflow: hidden;padding: 0;position: absolute;width: 1px;}#sk-container-id-9 div.sk-estimator {font-family: monospace;background-color: #f0f8ff;border: 1px dotted black;border-radius: 0.25em;box-sizing: border-box;margin-bottom: 0.5em;}#sk-container-id-9 div.sk-estimator:hover {background-color: #d4ebff;}#sk-container-id-9 div.sk-parallel-item::after {content: \"\";width: 100%;border-bottom: 1px solid gray;flex-grow: 1;}#sk-container-id-9 div.sk-label:hover label.sk-toggleable__label {background-color: #d4ebff;}#sk-container-id-9 div.sk-serial::before {content: \"\";position: absolute;border-left: 1px solid gray;box-sizing: border-box;top: 0;bottom: 0;left: 50%;z-index: 0;}#sk-container-id-9 div.sk-serial {display: flex;flex-direction: column;align-items: center;background-color: white;padding-right: 0.2em;padding-left: 0.2em;position: relative;}#sk-container-id-9 div.sk-item {position: relative;z-index: 1;}#sk-container-id-9 div.sk-parallel {display: flex;align-items: stretch;justify-content: center;background-color: white;position: relative;}#sk-container-id-9 div.sk-item::before, #sk-container-id-9 div.sk-parallel-item::before {content: \"\";position: absolute;border-left: 1px solid gray;box-sizing: border-box;top: 0;bottom: 0;left: 50%;z-index: -1;}#sk-container-id-9 div.sk-parallel-item {display: flex;flex-direction: column;z-index: 1;position: relative;background-color: white;}#sk-container-id-9 div.sk-parallel-item:first-child::after {align-self: flex-end;width: 50%;}#sk-container-id-9 div.sk-parallel-item:last-child::after {align-self: flex-start;width: 50%;}#sk-container-id-9 div.sk-parallel-item:only-child::after {width: 0;}#sk-container-id-9 div.sk-dashed-wrapped {border: 1px dashed gray;margin: 0 0.4em 0.5em 0.4em;box-sizing: border-box;padding-bottom: 0.4em;background-color: white;}#sk-container-id-9 div.sk-label label {font-family: monospace;font-weight: bold;display: inline-block;line-height: 1.2em;}#sk-container-id-9 div.sk-label-container {text-align: center;}#sk-container-id-9 div.sk-container {/* jupyter's `normalize.less` sets `[hidden] { display: none; }` but bootstrap.min.css set `[hidden] { display: none !important; }` so we also need the `!important` here to be able to override the default hidden behavior on the sphinx rendered scikit-learn.org. See: https://github.com/scikit-learn/scikit-learn/issues/21755 */display: inline-block !important;position: relative;}#sk-container-id-9 div.sk-text-repr-fallback {display: none;}</style><div id=\"sk-container-id-9\" class=\"sk-top-container\"><div class=\"sk-text-repr-fallback\"><pre>LinearRegression()</pre><b>In a Jupyter environment, please rerun this cell to show the HTML representation or trust the notebook. <br />On GitHub, the HTML representation is unable to render, please try loading this page with nbviewer.org.</b></div><div class=\"sk-container\" hidden><div class=\"sk-item\"><div class=\"sk-estimator sk-toggleable\"><input class=\"sk-toggleable__control sk-hidden--visually\" id=\"sk-estimator-id-9\" type=\"checkbox\" checked><label for=\"sk-estimator-id-9\" class=\"sk-toggleable__label sk-toggleable__label-arrow\">LinearRegression</label><div class=\"sk-toggleable__content\"><pre>LinearRegression()</pre></div></div></div></div></div>"
      ],
      "text/plain": [
       "LinearRegression()"
      ]
     },
     "execution_count": 406,
     "metadata": {},
     "output_type": "execute_result"
    }
   ],
   "source": [
    "#fitting the polynomial regression model to the dataset\n",
    "poly_reg=PolynomialFeatures(degree=10)\n",
    "X_poly=poly_reg.fit_transform(X)\n",
    "poly_reg.fit(X_poly,y)\n",
    "lin_reg2=LinearRegression()\n",
    "lin_reg2.fit(X_poly,y)"
   ]
  },
  {
   "cell_type": "code",
   "execution_count": 407,
   "id": "30be3e8b",
   "metadata": {},
   "outputs": [
    {
     "data": {
      "image/png": "[encoded data removed]",
      "text/plain": [
       "<Figure size 432x288 with 1 Axes>"
      ]
     },
     "metadata": {},
     "output_type": "display_data"
    }
   ],
   "source": [
    "#Visualising the pollynomial regression model results\n",
    "X_grid=np.arange(min(X),max(X),0.1)\n",
    "X_grid=X_grid.reshape((len(X_grid),1))\n",
    "plt.scatter(X,y,color='red')\n",
    "plt.plot(X,lin_reg2.predict(poly_reg.fit_transform(X)),color='blue')\n",
    "plt.title('Number of Famous actors VS Profit')\n",
    "plt.xlabel('Number of Famous actors')\n",
    "plt.ylabel('Profit')\n",
    "plt.ylim([-0.25*10**9, 10**9])\n",
    "plt.show()"
   ]
  },
  {
   "cell_type": "markdown",
   "id": "2230ddc6",
   "metadata": {},
   "source": [
    "### 3. Conclusion"
   ]
  },
  {
   "cell_type": "markdown",
   "id": "22016885",
   "metadata": {},
   "source": [
    "From the images after data analysis, we can see that from one famous actor to four famous actors, the movie profits are steadily rising. Films with five famous actors were bottlenecked, but films with six famous actors were the most profitable."
   ]
  }
 ],
 "metadata": {
  "kernelspec": {
   "display_name": "Python 3 (ipykernel)",
   "language": "python",
   "name": "python3"
  },
  "language_info": {
   "codemirror_mode": {
    "name": "ipython",
    "version": 3
   },
   "file_extension": ".py",
   "mimetype": "text/x-python",
   "name": "python",
   "nbconvert_exporter": "python",
   "pygments_lexer": "ipython3",
   "version": "3.10.6"
  }
 },
 "nbformat": 4,
 "nbformat_minor": 5
}
