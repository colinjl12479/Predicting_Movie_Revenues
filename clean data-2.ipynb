{
 "cells": [
  {
   "cell_type": "code",
   "execution_count": 1,
   "id": "e160eb25",
   "metadata": {},
   "outputs": [],
   "source": [
    "import warnings\n",
    "warnings.filterwarnings('ignore')\n",
    "import pandas as pd\n",
    "import numpy as np"
   ]
  },
  {
   "cell_type": "code",
   "execution_count": 2,
   "id": "19a75e72",
   "metadata": {},
   "outputs": [],
   "source": [
    "df_credits = pd.read_csv(\"data/credits.csv\")"
   ]
  },
  {
   "cell_type": "code",
   "execution_count": 3,
   "id": "ff53d553",
   "metadata": {},
   "outputs": [],
   "source": [
    "from ast import literal_eval\n",
    "\n",
    "df_credits['cast'] = df_credits['cast'].apply(literal_eval)"
   ]
  },
  {
   "cell_type": "code",
   "execution_count": 4,
   "id": "276feec0",
   "metadata": {},
   "outputs": [],
   "source": [
    "def get_name_castId(x):\n",
    "    if isinstance(x, list):\n",
    "        names = [i['name'] for i in x]\n",
    "        cast_ids = [i['id'] for i in x]\n",
    "        return [names, cast_ids]\n",
    "    return []"
   ]
  },
  {
   "cell_type": "code",
   "execution_count": 5,
   "id": "d0969d5c",
   "metadata": {},
   "outputs": [
    {
     "data": {
      "text/plain": [
       "[['Tom Hanks',\n",
       "  'Tim Allen',\n",
       "  'Don Rickles',\n",
       "  'Jim Varney',\n",
       "  'Wallace Shawn',\n",
       "  'John Ratzenberger',\n",
       "  'Annie Potts',\n",
       "  'John Morris',\n",
       "  'Erik von Detten',\n",
       "  'Laurie Metcalf',\n",
       "  'R. Lee Ermey',\n",
       "  'Sarah Freeman',\n",
       "  'Penn Jillette'],\n",
       " [31,\n",
       "  12898,\n",
       "  7167,\n",
       "  12899,\n",
       "  12900,\n",
       "  7907,\n",
       "  8873,\n",
       "  1116442,\n",
       "  12901,\n",
       "  12133,\n",
       "  8655,\n",
       "  12903,\n",
       "  37221],\n",
       " 862]"
      ]
     },
     "execution_count": 5,
     "metadata": {},
     "output_type": "execute_result"
    }
   ],
   "source": [
    "cast = df_credits['cast']\n",
    "cast = cast.apply(get_name_castId)\n",
    "ids = list(df_credits['id'])\n",
    "for i in range(len(cast)):\n",
    "    cast[i].append(ids[i])\n",
    "cast[0]"
   ]
  },
  {
   "cell_type": "code",
   "execution_count": 6,
   "id": "691a6de2",
   "metadata": {},
   "outputs": [
    {
     "data": {
      "text/html": [
       "<div>\n",
       "<style scoped>\n",
       "    .dataframe tbody tr th:only-of-type {\n",
       "        vertical-align: middle;\n",
       "    }\n",
       "\n",
       "    .dataframe tbody tr th {\n",
       "        vertical-align: top;\n",
       "    }\n",
       "\n",
       "    .dataframe thead th {\n",
       "        text-align: right;\n",
       "    }\n",
       "</style>\n",
       "<table border=\"1\" class=\"dataframe\">\n",
       "  <thead>\n",
       "    <tr style=\"text-align: right;\">\n",
       "      <th></th>\n",
       "      <th>cast_name</th>\n",
       "      <th>cast_id</th>\n",
       "      <th>movie_id</th>\n",
       "    </tr>\n",
       "  </thead>\n",
       "  <tbody>\n",
       "    <tr>\n",
       "      <th>0</th>\n",
       "      <td>[Tom Hanks, Tim Allen, Don Rickles, Jim Varney...</td>\n",
       "      <td>[31, 12898, 7167, 12899, 12900, 7907, 8873, 11...</td>\n",
       "      <td>862</td>\n",
       "    </tr>\n",
       "    <tr>\n",
       "      <th>1</th>\n",
       "      <td>[Robin Williams, Jonathan Hyde, Kirsten Dunst,...</td>\n",
       "      <td>[2157, 8537, 205, 145151, 5149, 10739, 58563, ...</td>\n",
       "      <td>8844</td>\n",
       "    </tr>\n",
       "    <tr>\n",
       "      <th>2</th>\n",
       "      <td>[Walter Matthau, Jack Lemmon, Ann-Margret, Sop...</td>\n",
       "      <td>[6837, 3151, 13567, 16757, 589, 16523, 7166]</td>\n",
       "      <td>15602</td>\n",
       "    </tr>\n",
       "    <tr>\n",
       "      <th>3</th>\n",
       "      <td>[Whitney Houston, Angela Bassett, Loretta Devi...</td>\n",
       "      <td>[8851, 9780, 18284, 51359, 66804, 352, 87118, ...</td>\n",
       "      <td>31357</td>\n",
       "    </tr>\n",
       "    <tr>\n",
       "      <th>4</th>\n",
       "      <td>[Steve Martin, Diane Keaton, Martin Short, Kim...</td>\n",
       "      <td>[67773, 3092, 519, 70696, 59222, 18793, 14592,...</td>\n",
       "      <td>11862</td>\n",
       "    </tr>\n",
       "  </tbody>\n",
       "</table>\n",
       "</div>"
      ],
      "text/plain": [
       "                                           cast_name  \\\n",
       "0  [Tom Hanks, Tim Allen, Don Rickles, Jim Varney...   \n",
       "1  [Robin Williams, Jonathan Hyde, Kirsten Dunst,...   \n",
       "2  [Walter Matthau, Jack Lemmon, Ann-Margret, Sop...   \n",
       "3  [Whitney Houston, Angela Bassett, Loretta Devi...   \n",
       "4  [Steve Martin, Diane Keaton, Martin Short, Kim...   \n",
       "\n",
       "                                             cast_id  movie_id  \n",
       "0  [31, 12898, 7167, 12899, 12900, 7907, 8873, 11...       862  \n",
       "1  [2157, 8537, 205, 145151, 5149, 10739, 58563, ...      8844  \n",
       "2       [6837, 3151, 13567, 16757, 589, 16523, 7166]     15602  \n",
       "3  [8851, 9780, 18284, 51359, 66804, 352, 87118, ...     31357  \n",
       "4  [67773, 3092, 519, 70696, 59222, 18793, 14592,...     11862  "
      ]
     },
     "execution_count": 6,
     "metadata": {},
     "output_type": "execute_result"
    }
   ],
   "source": [
    "df = pd.DataFrame()\n",
    "for x in cast:\n",
    "    diction = {'cast_name': x[0], 'cast_id': x[1],'movie_id': x[2]}\n",
    "    df = df.append(diction, ignore_index=True)\n",
    "df.head()"
   ]
  },
  {
   "cell_type": "code",
   "execution_count": 96,
   "id": "2fe2859a",
   "metadata": {},
   "outputs": [],
   "source": [
    "df_movie = pd.read_csv(\"data/movies_metadata.csv\")"
   ]
  },
  {
   "cell_type": "code",
   "execution_count": 97,
   "id": "597ab06d",
   "metadata": {},
   "outputs": [
    {
     "data": {
      "text/html": [
       "<div>\n",
       "<style scoped>\n",
       "    .dataframe tbody tr th:only-of-type {\n",
       "        vertical-align: middle;\n",
       "    }\n",
       "\n",
       "    .dataframe tbody tr th {\n",
       "        vertical-align: top;\n",
       "    }\n",
       "\n",
       "    .dataframe thead th {\n",
       "        text-align: right;\n",
       "    }\n",
       "</style>\n",
       "<table border=\"1\" class=\"dataframe\">\n",
       "  <thead>\n",
       "    <tr style=\"text-align: right;\">\n",
       "      <th></th>\n",
       "      <th>budget</th>\n",
       "      <th>genres</th>\n",
       "      <th>title</th>\n",
       "      <th>revenue</th>\n",
       "      <th>id</th>\n",
       "    </tr>\n",
       "  </thead>\n",
       "  <tbody>\n",
       "    <tr>\n",
       "      <th>0</th>\n",
       "      <td>30000000</td>\n",
       "      <td>[{'id': 16, 'name': 'Animation'}, {'id': 35, '...</td>\n",
       "      <td>Toy Story</td>\n",
       "      <td>373554033.0</td>\n",
       "      <td>862</td>\n",
       "    </tr>\n",
       "    <tr>\n",
       "      <th>1</th>\n",
       "      <td>65000000</td>\n",
       "      <td>[{'id': 12, 'name': 'Adventure'}, {'id': 14, '...</td>\n",
       "      <td>Jumanji</td>\n",
       "      <td>262797249.0</td>\n",
       "      <td>8844</td>\n",
       "    </tr>\n",
       "    <tr>\n",
       "      <th>2</th>\n",
       "      <td>0</td>\n",
       "      <td>[{'id': 10749, 'name': 'Romance'}, {'id': 35, ...</td>\n",
       "      <td>Grumpier Old Men</td>\n",
       "      <td>0.0</td>\n",
       "      <td>15602</td>\n",
       "    </tr>\n",
       "    <tr>\n",
       "      <th>3</th>\n",
       "      <td>16000000</td>\n",
       "      <td>[{'id': 35, 'name': 'Comedy'}, {'id': 18, 'nam...</td>\n",
       "      <td>Waiting to Exhale</td>\n",
       "      <td>81452156.0</td>\n",
       "      <td>31357</td>\n",
       "    </tr>\n",
       "    <tr>\n",
       "      <th>4</th>\n",
       "      <td>0</td>\n",
       "      <td>[{'id': 35, 'name': 'Comedy'}]</td>\n",
       "      <td>Father of the Bride Part II</td>\n",
       "      <td>76578911.0</td>\n",
       "      <td>11862</td>\n",
       "    </tr>\n",
       "  </tbody>\n",
       "</table>\n",
       "</div>"
      ],
      "text/plain": [
       "     budget                                             genres  \\\n",
       "0  30000000  [{'id': 16, 'name': 'Animation'}, {'id': 35, '...   \n",
       "1  65000000  [{'id': 12, 'name': 'Adventure'}, {'id': 14, '...   \n",
       "2         0  [{'id': 10749, 'name': 'Romance'}, {'id': 35, ...   \n",
       "3  16000000  [{'id': 35, 'name': 'Comedy'}, {'id': 18, 'nam...   \n",
       "4         0                     [{'id': 35, 'name': 'Comedy'}]   \n",
       "\n",
       "                         title      revenue     id  \n",
       "0                    Toy Story  373554033.0    862  \n",
       "1                      Jumanji  262797249.0   8844  \n",
       "2             Grumpier Old Men          0.0  15602  \n",
       "3            Waiting to Exhale   81452156.0  31357  \n",
       "4  Father of the Bride Part II   76578911.0  11862  "
      ]
     },
     "execution_count": 97,
     "metadata": {},
     "output_type": "execute_result"
    }
   ],
   "source": [
    "df_movie = df_movie[[\"budget\",\"genres\",\"title\",\"revenue\",\"id\"]]\n",
    "df_movie.head()"
   ]
  },
  {
   "cell_type": "code",
   "execution_count": 98,
   "id": "23e25f3e",
   "metadata": {},
   "outputs": [
    {
     "data": {
      "text/plain": [
       "[{'id': 16, 'name': 'Animation'},\n",
       " {'id': 35, 'name': 'Comedy'},\n",
       " {'id': 10751, 'name': 'Family'}]"
      ]
     },
     "execution_count": 98,
     "metadata": {},
     "output_type": "execute_result"
    }
   ],
   "source": [
    "literal_eval(df_movie.genres.values[0])"
   ]
  },
  {
   "cell_type": "code",
   "execution_count": 99,
   "id": "7a36ac68",
   "metadata": {},
   "outputs": [
    {
     "data": {
      "text/plain": [
       "{'Action',\n",
       " 'Adventure',\n",
       " 'Animation',\n",
       " 'Aniplex',\n",
       " 'BROSTA TV',\n",
       " 'Carousel Productions',\n",
       " 'Comedy',\n",
       " 'Crime',\n",
       " 'Documentary',\n",
       " 'Drama',\n",
       " 'Family',\n",
       " 'Fantasy',\n",
       " 'Foreign',\n",
       " 'GoHands',\n",
       " 'History',\n",
       " 'Horror',\n",
       " 'Mardock Scramble Production Committee',\n",
       " 'Music',\n",
       " 'Mystery',\n",
       " 'Odyssey Media',\n",
       " 'Pulser Productions',\n",
       " 'Rogue State',\n",
       " 'Romance',\n",
       " 'Science Fiction',\n",
       " 'Sentai Filmworks',\n",
       " 'TV Movie',\n",
       " 'Telescene Film Group Productions',\n",
       " 'The Cartel',\n",
       " 'Thriller',\n",
       " 'Vision View Entertainment',\n",
       " 'War',\n",
       " 'Western'}"
      ]
     },
     "execution_count": 99,
     "metadata": {},
     "output_type": "execute_result"
    }
   ],
   "source": [
    "uniqueGenres = set([])\n",
    "for i in df_movie.genres.values: # I am looping through all the rows\n",
    "    genList = literal_eval(i) # convert from string to list of dict\n",
    "    for j in genList: # loop through the list of dict\n",
    "        uniqueGenres.add(j[\"name\"]) # add the name of the genre to my uniqueGenres variabe\n",
    "uniqueGenres"
   ]
  },
  {
   "cell_type": "code",
   "execution_count": 100,
   "id": "b661f1f0",
   "metadata": {},
   "outputs": [],
   "source": [
    "rows = [] # for all the movies\n",
    "genres = list(uniqueGenres) # all unique Genres\n",
    "\n",
    "for i in df_movie.genres: #looping through all the rows/movies\n",
    "  genList = literal_eval(i) #converting from string to list of dict for a particular movie\n",
    "  movieGenres = [x['name'] for x in genList] # list of all the genres of the movie\n",
    "  row = [] # store a list of 1s and 0s for one movie\n",
    "  for j in genres: #loop through all unique genres\n",
    "    row.append(int(j in movieGenres)) #checking if the genre is present in that movie - if the genre is present 1 else 0\n",
    "  rows.append(row)"
   ]
  },
  {
   "cell_type": "code",
   "execution_count": 101,
   "id": "1b2ccebc",
   "metadata": {},
   "outputs": [
    {
     "data": {
      "text/html": [
       "<div>\n",
       "<style scoped>\n",
       "    .dataframe tbody tr th:only-of-type {\n",
       "        vertical-align: middle;\n",
       "    }\n",
       "\n",
       "    .dataframe tbody tr th {\n",
       "        vertical-align: top;\n",
       "    }\n",
       "\n",
       "    .dataframe thead th {\n",
       "        text-align: right;\n",
       "    }\n",
       "</style>\n",
       "<table border=\"1\" class=\"dataframe\">\n",
       "  <thead>\n",
       "    <tr style=\"text-align: right;\">\n",
       "      <th></th>\n",
       "      <th>Aniplex</th>\n",
       "      <th>Comedy</th>\n",
       "      <th>Romance</th>\n",
       "      <th>Mardock Scramble Production Committee</th>\n",
       "      <th>History</th>\n",
       "      <th>Drama</th>\n",
       "      <th>Science Fiction</th>\n",
       "      <th>War</th>\n",
       "      <th>Crime</th>\n",
       "      <th>The Cartel</th>\n",
       "      <th>...</th>\n",
       "      <th>Adventure</th>\n",
       "      <th>TV Movie</th>\n",
       "      <th>Pulser Productions</th>\n",
       "      <th>Sentai Filmworks</th>\n",
       "      <th>Vision View Entertainment</th>\n",
       "      <th>GoHands</th>\n",
       "      <th>Telescene Film Group Productions</th>\n",
       "      <th>Odyssey Media</th>\n",
       "      <th>Carousel Productions</th>\n",
       "      <th>Music</th>\n",
       "    </tr>\n",
       "  </thead>\n",
       "  <tbody>\n",
       "    <tr>\n",
       "      <th>0</th>\n",
       "      <td>0</td>\n",
       "      <td>1</td>\n",
       "      <td>0</td>\n",
       "      <td>0</td>\n",
       "      <td>0</td>\n",
       "      <td>0</td>\n",
       "      <td>0</td>\n",
       "      <td>0</td>\n",
       "      <td>0</td>\n",
       "      <td>0</td>\n",
       "      <td>...</td>\n",
       "      <td>0</td>\n",
       "      <td>0</td>\n",
       "      <td>0</td>\n",
       "      <td>0</td>\n",
       "      <td>0</td>\n",
       "      <td>0</td>\n",
       "      <td>0</td>\n",
       "      <td>0</td>\n",
       "      <td>0</td>\n",
       "      <td>0</td>\n",
       "    </tr>\n",
       "    <tr>\n",
       "      <th>1</th>\n",
       "      <td>0</td>\n",
       "      <td>0</td>\n",
       "      <td>0</td>\n",
       "      <td>0</td>\n",
       "      <td>0</td>\n",
       "      <td>0</td>\n",
       "      <td>0</td>\n",
       "      <td>0</td>\n",
       "      <td>0</td>\n",
       "      <td>0</td>\n",
       "      <td>...</td>\n",
       "      <td>1</td>\n",
       "      <td>0</td>\n",
       "      <td>0</td>\n",
       "      <td>0</td>\n",
       "      <td>0</td>\n",
       "      <td>0</td>\n",
       "      <td>0</td>\n",
       "      <td>0</td>\n",
       "      <td>0</td>\n",
       "      <td>0</td>\n",
       "    </tr>\n",
       "    <tr>\n",
       "      <th>2</th>\n",
       "      <td>0</td>\n",
       "      <td>1</td>\n",
       "      <td>1</td>\n",
       "      <td>0</td>\n",
       "      <td>0</td>\n",
       "      <td>0</td>\n",
       "      <td>0</td>\n",
       "      <td>0</td>\n",
       "      <td>0</td>\n",
       "      <td>0</td>\n",
       "      <td>...</td>\n",
       "      <td>0</td>\n",
       "      <td>0</td>\n",
       "      <td>0</td>\n",
       "      <td>0</td>\n",
       "      <td>0</td>\n",
       "      <td>0</td>\n",
       "      <td>0</td>\n",
       "      <td>0</td>\n",
       "      <td>0</td>\n",
       "      <td>0</td>\n",
       "    </tr>\n",
       "    <tr>\n",
       "      <th>3</th>\n",
       "      <td>0</td>\n",
       "      <td>1</td>\n",
       "      <td>1</td>\n",
       "      <td>0</td>\n",
       "      <td>0</td>\n",
       "      <td>1</td>\n",
       "      <td>0</td>\n",
       "      <td>0</td>\n",
       "      <td>0</td>\n",
       "      <td>0</td>\n",
       "      <td>...</td>\n",
       "      <td>0</td>\n",
       "      <td>0</td>\n",
       "      <td>0</td>\n",
       "      <td>0</td>\n",
       "      <td>0</td>\n",
       "      <td>0</td>\n",
       "      <td>0</td>\n",
       "      <td>0</td>\n",
       "      <td>0</td>\n",
       "      <td>0</td>\n",
       "    </tr>\n",
       "    <tr>\n",
       "      <th>4</th>\n",
       "      <td>0</td>\n",
       "      <td>1</td>\n",
       "      <td>0</td>\n",
       "      <td>0</td>\n",
       "      <td>0</td>\n",
       "      <td>0</td>\n",
       "      <td>0</td>\n",
       "      <td>0</td>\n",
       "      <td>0</td>\n",
       "      <td>0</td>\n",
       "      <td>...</td>\n",
       "      <td>0</td>\n",
       "      <td>0</td>\n",
       "      <td>0</td>\n",
       "      <td>0</td>\n",
       "      <td>0</td>\n",
       "      <td>0</td>\n",
       "      <td>0</td>\n",
       "      <td>0</td>\n",
       "      <td>0</td>\n",
       "      <td>0</td>\n",
       "    </tr>\n",
       "    <tr>\n",
       "      <th>...</th>\n",
       "      <td>...</td>\n",
       "      <td>...</td>\n",
       "      <td>...</td>\n",
       "      <td>...</td>\n",
       "      <td>...</td>\n",
       "      <td>...</td>\n",
       "      <td>...</td>\n",
       "      <td>...</td>\n",
       "      <td>...</td>\n",
       "      <td>...</td>\n",
       "      <td>...</td>\n",
       "      <td>...</td>\n",
       "      <td>...</td>\n",
       "      <td>...</td>\n",
       "      <td>...</td>\n",
       "      <td>...</td>\n",
       "      <td>...</td>\n",
       "      <td>...</td>\n",
       "      <td>...</td>\n",
       "      <td>...</td>\n",
       "      <td>...</td>\n",
       "    </tr>\n",
       "    <tr>\n",
       "      <th>45461</th>\n",
       "      <td>0</td>\n",
       "      <td>0</td>\n",
       "      <td>0</td>\n",
       "      <td>0</td>\n",
       "      <td>0</td>\n",
       "      <td>1</td>\n",
       "      <td>0</td>\n",
       "      <td>0</td>\n",
       "      <td>0</td>\n",
       "      <td>0</td>\n",
       "      <td>...</td>\n",
       "      <td>0</td>\n",
       "      <td>0</td>\n",
       "      <td>0</td>\n",
       "      <td>0</td>\n",
       "      <td>0</td>\n",
       "      <td>0</td>\n",
       "      <td>0</td>\n",
       "      <td>0</td>\n",
       "      <td>0</td>\n",
       "      <td>0</td>\n",
       "    </tr>\n",
       "    <tr>\n",
       "      <th>45462</th>\n",
       "      <td>0</td>\n",
       "      <td>0</td>\n",
       "      <td>0</td>\n",
       "      <td>0</td>\n",
       "      <td>0</td>\n",
       "      <td>1</td>\n",
       "      <td>0</td>\n",
       "      <td>0</td>\n",
       "      <td>0</td>\n",
       "      <td>0</td>\n",
       "      <td>...</td>\n",
       "      <td>0</td>\n",
       "      <td>0</td>\n",
       "      <td>0</td>\n",
       "      <td>0</td>\n",
       "      <td>0</td>\n",
       "      <td>0</td>\n",
       "      <td>0</td>\n",
       "      <td>0</td>\n",
       "      <td>0</td>\n",
       "      <td>0</td>\n",
       "    </tr>\n",
       "    <tr>\n",
       "      <th>45463</th>\n",
       "      <td>0</td>\n",
       "      <td>0</td>\n",
       "      <td>0</td>\n",
       "      <td>0</td>\n",
       "      <td>0</td>\n",
       "      <td>1</td>\n",
       "      <td>0</td>\n",
       "      <td>0</td>\n",
       "      <td>0</td>\n",
       "      <td>0</td>\n",
       "      <td>...</td>\n",
       "      <td>0</td>\n",
       "      <td>0</td>\n",
       "      <td>0</td>\n",
       "      <td>0</td>\n",
       "      <td>0</td>\n",
       "      <td>0</td>\n",
       "      <td>0</td>\n",
       "      <td>0</td>\n",
       "      <td>0</td>\n",
       "      <td>0</td>\n",
       "    </tr>\n",
       "    <tr>\n",
       "      <th>45464</th>\n",
       "      <td>0</td>\n",
       "      <td>0</td>\n",
       "      <td>0</td>\n",
       "      <td>0</td>\n",
       "      <td>0</td>\n",
       "      <td>0</td>\n",
       "      <td>0</td>\n",
       "      <td>0</td>\n",
       "      <td>0</td>\n",
       "      <td>0</td>\n",
       "      <td>...</td>\n",
       "      <td>0</td>\n",
       "      <td>0</td>\n",
       "      <td>0</td>\n",
       "      <td>0</td>\n",
       "      <td>0</td>\n",
       "      <td>0</td>\n",
       "      <td>0</td>\n",
       "      <td>0</td>\n",
       "      <td>0</td>\n",
       "      <td>0</td>\n",
       "    </tr>\n",
       "    <tr>\n",
       "      <th>45465</th>\n",
       "      <td>0</td>\n",
       "      <td>0</td>\n",
       "      <td>0</td>\n",
       "      <td>0</td>\n",
       "      <td>0</td>\n",
       "      <td>0</td>\n",
       "      <td>0</td>\n",
       "      <td>0</td>\n",
       "      <td>0</td>\n",
       "      <td>0</td>\n",
       "      <td>...</td>\n",
       "      <td>0</td>\n",
       "      <td>0</td>\n",
       "      <td>0</td>\n",
       "      <td>0</td>\n",
       "      <td>0</td>\n",
       "      <td>0</td>\n",
       "      <td>0</td>\n",
       "      <td>0</td>\n",
       "      <td>0</td>\n",
       "      <td>0</td>\n",
       "    </tr>\n",
       "  </tbody>\n",
       "</table>\n",
       "<p>45466 rows × 32 columns</p>\n",
       "</div>"
      ],
      "text/plain": [
       "       Aniplex  Comedy  Romance  Mardock Scramble Production Committee  \\\n",
       "0            0       1        0                                      0   \n",
       "1            0       0        0                                      0   \n",
       "2            0       1        1                                      0   \n",
       "3            0       1        1                                      0   \n",
       "4            0       1        0                                      0   \n",
       "...        ...     ...      ...                                    ...   \n",
       "45461        0       0        0                                      0   \n",
       "45462        0       0        0                                      0   \n",
       "45463        0       0        0                                      0   \n",
       "45464        0       0        0                                      0   \n",
       "45465        0       0        0                                      0   \n",
       "\n",
       "       History  Drama  Science Fiction  War  Crime  The Cartel  ...  \\\n",
       "0            0      0                0    0      0           0  ...   \n",
       "1            0      0                0    0      0           0  ...   \n",
       "2            0      0                0    0      0           0  ...   \n",
       "3            0      1                0    0      0           0  ...   \n",
       "4            0      0                0    0      0           0  ...   \n",
       "...        ...    ...              ...  ...    ...         ...  ...   \n",
       "45461        0      1                0    0      0           0  ...   \n",
       "45462        0      1                0    0      0           0  ...   \n",
       "45463        0      1                0    0      0           0  ...   \n",
       "45464        0      0                0    0      0           0  ...   \n",
       "45465        0      0                0    0      0           0  ...   \n",
       "\n",
       "       Adventure  TV Movie  Pulser Productions  Sentai Filmworks  \\\n",
       "0              0         0                   0                 0   \n",
       "1              1         0                   0                 0   \n",
       "2              0         0                   0                 0   \n",
       "3              0         0                   0                 0   \n",
       "4              0         0                   0                 0   \n",
       "...          ...       ...                 ...               ...   \n",
       "45461          0         0                   0                 0   \n",
       "45462          0         0                   0                 0   \n",
       "45463          0         0                   0                 0   \n",
       "45464          0         0                   0                 0   \n",
       "45465          0         0                   0                 0   \n",
       "\n",
       "       Vision View Entertainment  GoHands  Telescene Film Group Productions  \\\n",
       "0                              0        0                                 0   \n",
       "1                              0        0                                 0   \n",
       "2                              0        0                                 0   \n",
       "3                              0        0                                 0   \n",
       "4                              0        0                                 0   \n",
       "...                          ...      ...                               ...   \n",
       "45461                          0        0                                 0   \n",
       "45462                          0        0                                 0   \n",
       "45463                          0        0                                 0   \n",
       "45464                          0        0                                 0   \n",
       "45465                          0        0                                 0   \n",
       "\n",
       "       Odyssey Media  Carousel Productions  Music  \n",
       "0                  0                     0      0  \n",
       "1                  0                     0      0  \n",
       "2                  0                     0      0  \n",
       "3                  0                     0      0  \n",
       "4                  0                     0      0  \n",
       "...              ...                   ...    ...  \n",
       "45461              0                     0      0  \n",
       "45462              0                     0      0  \n",
       "45463              0                     0      0  \n",
       "45464              0                     0      0  \n",
       "45465              0                     0      0  \n",
       "\n",
       "[45466 rows x 32 columns]"
      ]
     },
     "execution_count": 101,
     "metadata": {},
     "output_type": "execute_result"
    }
   ],
   "source": [
    "genre = pd.DataFrame(rows,columns = genres)\n",
    "genre"
   ]
  },
  {
   "cell_type": "code",
   "execution_count": 102,
   "id": "b1e20433",
   "metadata": {},
   "outputs": [
    {
     "data": {
      "text/plain": [
       "((45466, 37), (45466, 32))"
      ]
     },
     "execution_count": 102,
     "metadata": {},
     "output_type": "execute_result"
    }
   ],
   "source": [
    "df_movie = pd.concat([df_movie,genre], axis = 1) # joing the two dataframes\n",
    "df_movie.shape, genre.shape"
   ]
  },
  {
   "cell_type": "code",
   "execution_count": 103,
   "id": "8a308471",
   "metadata": {},
   "outputs": [],
   "source": [
    "df_movie = df_movie.drop(columns = ['genres'])"
   ]
  },
  {
   "cell_type": "code",
   "execution_count": 104,
   "id": "09b0e922",
   "metadata": {},
   "outputs": [
    {
     "data": {
      "text/html": [
       "<div>\n",
       "<style scoped>\n",
       "    .dataframe tbody tr th:only-of-type {\n",
       "        vertical-align: middle;\n",
       "    }\n",
       "\n",
       "    .dataframe tbody tr th {\n",
       "        vertical-align: top;\n",
       "    }\n",
       "\n",
       "    .dataframe thead th {\n",
       "        text-align: right;\n",
       "    }\n",
       "</style>\n",
       "<table border=\"1\" class=\"dataframe\">\n",
       "  <thead>\n",
       "    <tr style=\"text-align: right;\">\n",
       "      <th></th>\n",
       "      <th>budget</th>\n",
       "      <th>title</th>\n",
       "      <th>revenue</th>\n",
       "      <th>id</th>\n",
       "      <th>Aniplex</th>\n",
       "      <th>Comedy</th>\n",
       "      <th>Romance</th>\n",
       "      <th>Mardock Scramble Production Committee</th>\n",
       "      <th>History</th>\n",
       "      <th>Drama</th>\n",
       "      <th>...</th>\n",
       "      <th>Adventure</th>\n",
       "      <th>TV Movie</th>\n",
       "      <th>Pulser Productions</th>\n",
       "      <th>Sentai Filmworks</th>\n",
       "      <th>Vision View Entertainment</th>\n",
       "      <th>GoHands</th>\n",
       "      <th>Telescene Film Group Productions</th>\n",
       "      <th>Odyssey Media</th>\n",
       "      <th>Carousel Productions</th>\n",
       "      <th>Music</th>\n",
       "    </tr>\n",
       "  </thead>\n",
       "  <tbody>\n",
       "    <tr>\n",
       "      <th>0</th>\n",
       "      <td>30000000</td>\n",
       "      <td>Toy Story</td>\n",
       "      <td>373554033.0</td>\n",
       "      <td>862</td>\n",
       "      <td>0</td>\n",
       "      <td>1</td>\n",
       "      <td>0</td>\n",
       "      <td>0</td>\n",
       "      <td>0</td>\n",
       "      <td>0</td>\n",
       "      <td>...</td>\n",
       "      <td>0</td>\n",
       "      <td>0</td>\n",
       "      <td>0</td>\n",
       "      <td>0</td>\n",
       "      <td>0</td>\n",
       "      <td>0</td>\n",
       "      <td>0</td>\n",
       "      <td>0</td>\n",
       "      <td>0</td>\n",
       "      <td>0</td>\n",
       "    </tr>\n",
       "    <tr>\n",
       "      <th>1</th>\n",
       "      <td>65000000</td>\n",
       "      <td>Jumanji</td>\n",
       "      <td>262797249.0</td>\n",
       "      <td>8844</td>\n",
       "      <td>0</td>\n",
       "      <td>0</td>\n",
       "      <td>0</td>\n",
       "      <td>0</td>\n",
       "      <td>0</td>\n",
       "      <td>0</td>\n",
       "      <td>...</td>\n",
       "      <td>1</td>\n",
       "      <td>0</td>\n",
       "      <td>0</td>\n",
       "      <td>0</td>\n",
       "      <td>0</td>\n",
       "      <td>0</td>\n",
       "      <td>0</td>\n",
       "      <td>0</td>\n",
       "      <td>0</td>\n",
       "      <td>0</td>\n",
       "    </tr>\n",
       "    <tr>\n",
       "      <th>2</th>\n",
       "      <td>0</td>\n",
       "      <td>Grumpier Old Men</td>\n",
       "      <td>0.0</td>\n",
       "      <td>15602</td>\n",
       "      <td>0</td>\n",
       "      <td>1</td>\n",
       "      <td>1</td>\n",
       "      <td>0</td>\n",
       "      <td>0</td>\n",
       "      <td>0</td>\n",
       "      <td>...</td>\n",
       "      <td>0</td>\n",
       "      <td>0</td>\n",
       "      <td>0</td>\n",
       "      <td>0</td>\n",
       "      <td>0</td>\n",
       "      <td>0</td>\n",
       "      <td>0</td>\n",
       "      <td>0</td>\n",
       "      <td>0</td>\n",
       "      <td>0</td>\n",
       "    </tr>\n",
       "    <tr>\n",
       "      <th>3</th>\n",
       "      <td>16000000</td>\n",
       "      <td>Waiting to Exhale</td>\n",
       "      <td>81452156.0</td>\n",
       "      <td>31357</td>\n",
       "      <td>0</td>\n",
       "      <td>1</td>\n",
       "      <td>1</td>\n",
       "      <td>0</td>\n",
       "      <td>0</td>\n",
       "      <td>1</td>\n",
       "      <td>...</td>\n",
       "      <td>0</td>\n",
       "      <td>0</td>\n",
       "      <td>0</td>\n",
       "      <td>0</td>\n",
       "      <td>0</td>\n",
       "      <td>0</td>\n",
       "      <td>0</td>\n",
       "      <td>0</td>\n",
       "      <td>0</td>\n",
       "      <td>0</td>\n",
       "    </tr>\n",
       "    <tr>\n",
       "      <th>4</th>\n",
       "      <td>0</td>\n",
       "      <td>Father of the Bride Part II</td>\n",
       "      <td>76578911.0</td>\n",
       "      <td>11862</td>\n",
       "      <td>0</td>\n",
       "      <td>1</td>\n",
       "      <td>0</td>\n",
       "      <td>0</td>\n",
       "      <td>0</td>\n",
       "      <td>0</td>\n",
       "      <td>...</td>\n",
       "      <td>0</td>\n",
       "      <td>0</td>\n",
       "      <td>0</td>\n",
       "      <td>0</td>\n",
       "      <td>0</td>\n",
       "      <td>0</td>\n",
       "      <td>0</td>\n",
       "      <td>0</td>\n",
       "      <td>0</td>\n",
       "      <td>0</td>\n",
       "    </tr>\n",
       "  </tbody>\n",
       "</table>\n",
       "<p>5 rows × 36 columns</p>\n",
       "</div>"
      ],
      "text/plain": [
       "     budget                        title      revenue     id  Aniplex  Comedy  \\\n",
       "0  30000000                    Toy Story  373554033.0    862        0       1   \n",
       "1  65000000                      Jumanji  262797249.0   8844        0       0   \n",
       "2         0             Grumpier Old Men          0.0  15602        0       1   \n",
       "3  16000000            Waiting to Exhale   81452156.0  31357        0       1   \n",
       "4         0  Father of the Bride Part II   76578911.0  11862        0       1   \n",
       "\n",
       "   Romance  Mardock Scramble Production Committee  History  Drama  ...  \\\n",
       "0        0                                      0        0      0  ...   \n",
       "1        0                                      0        0      0  ...   \n",
       "2        1                                      0        0      0  ...   \n",
       "3        1                                      0        0      1  ...   \n",
       "4        0                                      0        0      0  ...   \n",
       "\n",
       "   Adventure  TV Movie  Pulser Productions  Sentai Filmworks  \\\n",
       "0          0         0                   0                 0   \n",
       "1          1         0                   0                 0   \n",
       "2          0         0                   0                 0   \n",
       "3          0         0                   0                 0   \n",
       "4          0         0                   0                 0   \n",
       "\n",
       "   Vision View Entertainment  GoHands  Telescene Film Group Productions  \\\n",
       "0                          0        0                                 0   \n",
       "1                          0        0                                 0   \n",
       "2                          0        0                                 0   \n",
       "3                          0        0                                 0   \n",
       "4                          0        0                                 0   \n",
       "\n",
       "   Odyssey Media  Carousel Productions  Music  \n",
       "0              0                     0      0  \n",
       "1              0                     0      0  \n",
       "2              0                     0      0  \n",
       "3              0                     0      0  \n",
       "4              0                     0      0  \n",
       "\n",
       "[5 rows x 36 columns]"
      ]
     },
     "execution_count": 104,
     "metadata": {},
     "output_type": "execute_result"
    }
   ],
   "source": [
    "df_movie.head()"
   ]
  },
  {
   "cell_type": "code",
   "execution_count": 105,
   "id": "7b4c5de3",
   "metadata": {},
   "outputs": [
    {
     "data": {
      "text/plain": [
       "6"
      ]
     },
     "execution_count": 105,
     "metadata": {},
     "output_type": "execute_result"
    }
   ],
   "source": [
    "df_movie[\"revenue\"].isnull().sum()"
   ]
  },
  {
   "cell_type": "code",
   "execution_count": 106,
   "id": "4c9fd18a",
   "metadata": {},
   "outputs": [],
   "source": [
    "df_movie = df_movie[df_movie['revenue'].notna()]"
   ]
  },
  {
   "cell_type": "code",
   "execution_count": 107,
   "id": "f5ec07a6",
   "metadata": {},
   "outputs": [
    {
     "data": {
      "text/plain": [
       "0"
      ]
     },
     "execution_count": 107,
     "metadata": {},
     "output_type": "execute_result"
    }
   ],
   "source": [
    "df_movie[\"revenue\"].isnull().sum()"
   ]
  },
  {
   "cell_type": "code",
   "execution_count": 108,
   "id": "e129cc41",
   "metadata": {},
   "outputs": [
    {
     "data": {
      "text/plain": [
       "373554033.0"
      ]
     },
     "execution_count": 108,
     "metadata": {},
     "output_type": "execute_result"
    }
   ],
   "source": [
    "df_movie[\"revenue\"][0]"
   ]
  },
  {
   "cell_type": "code",
   "execution_count": 109,
   "id": "999cb3b0",
   "metadata": {},
   "outputs": [
    {
     "data": {
      "text/plain": [
       "38052"
      ]
     },
     "execution_count": 109,
     "metadata": {},
     "output_type": "execute_result"
    }
   ],
   "source": [
    "sum(df_movie[\"revenue\"] == 0)"
   ]
  },
  {
   "cell_type": "code",
   "execution_count": 110,
   "id": "9eedebff",
   "metadata": {},
   "outputs": [
    {
     "data": {
      "text/plain": [
       "83.70435547734272"
      ]
     },
     "execution_count": 110,
     "metadata": {},
     "output_type": "execute_result"
    }
   ],
   "source": [
    "(sum(df_movie[\"revenue\"] == 0)/df_movie.shape[0])*100"
   ]
  },
  {
   "cell_type": "code",
   "execution_count": 111,
   "id": "d6b83c75",
   "metadata": {},
   "outputs": [],
   "source": [
    "df_movie_revenue = df_movie\n",
    "df_movie_revenue[\"revenue\"] = df_movie_revenue[\"revenue\"].replace(0, pd.np.nan)"
   ]
  },
  {
   "cell_type": "code",
   "execution_count": 112,
   "id": "17bce614",
   "metadata": {},
   "outputs": [
    {
     "data": {
      "text/plain": [
       "38052"
      ]
     },
     "execution_count": 112,
     "metadata": {},
     "output_type": "execute_result"
    }
   ],
   "source": [
    "df_movie_revenue[\"revenue\"].isnull().sum()"
   ]
  },
  {
   "cell_type": "code",
   "execution_count": 118,
   "id": "0fd5ee01",
   "metadata": {},
   "outputs": [
    {
     "data": {
      "text/plain": [
       "count    7.408000e+03\n",
       "mean     6.878739e+07\n",
       "std      1.464203e+08\n",
       "min      1.000000e+00\n",
       "25%      2.400000e+06\n",
       "50%      1.682272e+07\n",
       "75%      6.722707e+07\n",
       "max      2.787965e+09\n",
       "Name: revenue, dtype: float64"
      ]
     },
     "execution_count": 118,
     "metadata": {},
     "output_type": "execute_result"
    }
   ],
   "source": [
    "df_movie_revenue = df_movie_revenue[df_movie_revenue['revenue'].notna()]\n",
    "df_movie_revenue[\"revenue\"].isnull().sum()\n",
    "df_movie_revenue[\"revenue\"].describe()"
   ]
  },
  {
   "cell_type": "code",
   "execution_count": 119,
   "id": "6992ae0a",
   "metadata": {},
   "outputs": [
    {
     "data": {
      "text/plain": [
       "30000000"
      ]
     },
     "execution_count": 119,
     "metadata": {},
     "output_type": "execute_result"
    }
   ],
   "source": [
    "df_movie_revenue[\"budget\"] = df_movie_revenue[\"budget\"].astype(int)\n",
    "df_movie_revenue[\"budget\"][0]"
   ]
  },
  {
   "cell_type": "code",
   "execution_count": 120,
   "id": "2cc13980",
   "metadata": {},
   "outputs": [
    {
     "data": {
      "text/plain": [
       "2027"
      ]
     },
     "execution_count": 120,
     "metadata": {},
     "output_type": "execute_result"
    }
   ],
   "source": [
    "sum(df_movie_revenue[\"budget\"] == 0)"
   ]
  },
  {
   "cell_type": "code",
   "execution_count": 121,
   "id": "b6147030",
   "metadata": {},
   "outputs": [
    {
     "data": {
      "text/plain": [
       "27.36231101511879"
      ]
     },
     "execution_count": 121,
     "metadata": {},
     "output_type": "execute_result"
    }
   ],
   "source": [
    "(sum(df_movie_revenue[\"budget\"] == 0)/df_movie_revenue.shape[0])*100"
   ]
  },
  {
   "cell_type": "code",
   "execution_count": 125,
   "id": "700d15eb",
   "metadata": {},
   "outputs": [
    {
     "data": {
      "text/plain": [
       "count    5.381000e+03\n",
       "mean     3.109480e+07\n",
       "std      4.016263e+07\n",
       "min      1.000000e+00\n",
       "25%      5.037000e+06\n",
       "50%      1.700000e+07\n",
       "75%      4.000000e+07\n",
       "max      3.800000e+08\n",
       "Name: budget, dtype: float64"
      ]
     },
     "execution_count": 125,
     "metadata": {},
     "output_type": "execute_result"
    }
   ],
   "source": [
    "df_movie_revenue_budget = df_movie_revenue\n",
    "df_movie_revenue_budget[\"budget\"] = df_movie_revenue_budget[\"budget\"].replace(0, pd.np.nan)\n",
    "df_movie_revenue_budget = df_movie_revenue_budget[df_movie_revenue_budget['budget'].notna()]\n",
    "df_movie_revenue_budget[\"budget\"].isnull().sum()\n",
    "df_movie_revenue_budget[\"budget\"].describe()"
   ]
  },
  {
   "cell_type": "code",
   "execution_count": 126,
   "id": "ebe970c1",
   "metadata": {},
   "outputs": [
    {
     "data": {
      "text/html": [
       "<div>\n",
       "<style scoped>\n",
       "    .dataframe tbody tr th:only-of-type {\n",
       "        vertical-align: middle;\n",
       "    }\n",
       "\n",
       "    .dataframe tbody tr th {\n",
       "        vertical-align: top;\n",
       "    }\n",
       "\n",
       "    .dataframe thead th {\n",
       "        text-align: right;\n",
       "    }\n",
       "</style>\n",
       "<table border=\"1\" class=\"dataframe\">\n",
       "  <thead>\n",
       "    <tr style=\"text-align: right;\">\n",
       "      <th></th>\n",
       "      <th>budget</th>\n",
       "      <th>title</th>\n",
       "      <th>revenue</th>\n",
       "      <th>id</th>\n",
       "      <th>Aniplex</th>\n",
       "      <th>Comedy</th>\n",
       "      <th>Romance</th>\n",
       "      <th>Mardock Scramble Production Committee</th>\n",
       "      <th>History</th>\n",
       "      <th>Drama</th>\n",
       "      <th>...</th>\n",
       "      <th>Adventure</th>\n",
       "      <th>TV Movie</th>\n",
       "      <th>Pulser Productions</th>\n",
       "      <th>Sentai Filmworks</th>\n",
       "      <th>Vision View Entertainment</th>\n",
       "      <th>GoHands</th>\n",
       "      <th>Telescene Film Group Productions</th>\n",
       "      <th>Odyssey Media</th>\n",
       "      <th>Carousel Productions</th>\n",
       "      <th>Music</th>\n",
       "    </tr>\n",
       "  </thead>\n",
       "  <tbody>\n",
       "    <tr>\n",
       "      <th>0</th>\n",
       "      <td>30000000.0</td>\n",
       "      <td>Toy Story</td>\n",
       "      <td>373554033.0</td>\n",
       "      <td>862</td>\n",
       "      <td>0</td>\n",
       "      <td>1</td>\n",
       "      <td>0</td>\n",
       "      <td>0</td>\n",
       "      <td>0</td>\n",
       "      <td>0</td>\n",
       "      <td>...</td>\n",
       "      <td>0</td>\n",
       "      <td>0</td>\n",
       "      <td>0</td>\n",
       "      <td>0</td>\n",
       "      <td>0</td>\n",
       "      <td>0</td>\n",
       "      <td>0</td>\n",
       "      <td>0</td>\n",
       "      <td>0</td>\n",
       "      <td>0</td>\n",
       "    </tr>\n",
       "    <tr>\n",
       "      <th>1</th>\n",
       "      <td>65000000.0</td>\n",
       "      <td>Jumanji</td>\n",
       "      <td>262797249.0</td>\n",
       "      <td>8844</td>\n",
       "      <td>0</td>\n",
       "      <td>0</td>\n",
       "      <td>0</td>\n",
       "      <td>0</td>\n",
       "      <td>0</td>\n",
       "      <td>0</td>\n",
       "      <td>...</td>\n",
       "      <td>1</td>\n",
       "      <td>0</td>\n",
       "      <td>0</td>\n",
       "      <td>0</td>\n",
       "      <td>0</td>\n",
       "      <td>0</td>\n",
       "      <td>0</td>\n",
       "      <td>0</td>\n",
       "      <td>0</td>\n",
       "      <td>0</td>\n",
       "    </tr>\n",
       "    <tr>\n",
       "      <th>3</th>\n",
       "      <td>16000000.0</td>\n",
       "      <td>Waiting to Exhale</td>\n",
       "      <td>81452156.0</td>\n",
       "      <td>31357</td>\n",
       "      <td>0</td>\n",
       "      <td>1</td>\n",
       "      <td>1</td>\n",
       "      <td>0</td>\n",
       "      <td>0</td>\n",
       "      <td>1</td>\n",
       "      <td>...</td>\n",
       "      <td>0</td>\n",
       "      <td>0</td>\n",
       "      <td>0</td>\n",
       "      <td>0</td>\n",
       "      <td>0</td>\n",
       "      <td>0</td>\n",
       "      <td>0</td>\n",
       "      <td>0</td>\n",
       "      <td>0</td>\n",
       "      <td>0</td>\n",
       "    </tr>\n",
       "    <tr>\n",
       "      <th>5</th>\n",
       "      <td>60000000.0</td>\n",
       "      <td>Heat</td>\n",
       "      <td>187436818.0</td>\n",
       "      <td>949</td>\n",
       "      <td>0</td>\n",
       "      <td>0</td>\n",
       "      <td>0</td>\n",
       "      <td>0</td>\n",
       "      <td>0</td>\n",
       "      <td>1</td>\n",
       "      <td>...</td>\n",
       "      <td>0</td>\n",
       "      <td>0</td>\n",
       "      <td>0</td>\n",
       "      <td>0</td>\n",
       "      <td>0</td>\n",
       "      <td>0</td>\n",
       "      <td>0</td>\n",
       "      <td>0</td>\n",
       "      <td>0</td>\n",
       "      <td>0</td>\n",
       "    </tr>\n",
       "    <tr>\n",
       "      <th>8</th>\n",
       "      <td>35000000.0</td>\n",
       "      <td>Sudden Death</td>\n",
       "      <td>64350171.0</td>\n",
       "      <td>9091</td>\n",
       "      <td>0</td>\n",
       "      <td>0</td>\n",
       "      <td>0</td>\n",
       "      <td>0</td>\n",
       "      <td>0</td>\n",
       "      <td>0</td>\n",
       "      <td>...</td>\n",
       "      <td>1</td>\n",
       "      <td>0</td>\n",
       "      <td>0</td>\n",
       "      <td>0</td>\n",
       "      <td>0</td>\n",
       "      <td>0</td>\n",
       "      <td>0</td>\n",
       "      <td>0</td>\n",
       "      <td>0</td>\n",
       "      <td>0</td>\n",
       "    </tr>\n",
       "  </tbody>\n",
       "</table>\n",
       "<p>5 rows × 36 columns</p>\n",
       "</div>"
      ],
      "text/plain": [
       "       budget              title      revenue     id  Aniplex  Comedy  \\\n",
       "0  30000000.0          Toy Story  373554033.0    862        0       1   \n",
       "1  65000000.0            Jumanji  262797249.0   8844        0       0   \n",
       "3  16000000.0  Waiting to Exhale   81452156.0  31357        0       1   \n",
       "5  60000000.0               Heat  187436818.0    949        0       0   \n",
       "8  35000000.0       Sudden Death   64350171.0   9091        0       0   \n",
       "\n",
       "   Romance  Mardock Scramble Production Committee  History  Drama  ...  \\\n",
       "0        0                                      0        0      0  ...   \n",
       "1        0                                      0        0      0  ...   \n",
       "3        1                                      0        0      1  ...   \n",
       "5        0                                      0        0      1  ...   \n",
       "8        0                                      0        0      0  ...   \n",
       "\n",
       "   Adventure  TV Movie  Pulser Productions  Sentai Filmworks  \\\n",
       "0          0         0                   0                 0   \n",
       "1          1         0                   0                 0   \n",
       "3          0         0                   0                 0   \n",
       "5          0         0                   0                 0   \n",
       "8          1         0                   0                 0   \n",
       "\n",
       "   Vision View Entertainment  GoHands  Telescene Film Group Productions  \\\n",
       "0                          0        0                                 0   \n",
       "1                          0        0                                 0   \n",
       "3                          0        0                                 0   \n",
       "5                          0        0                                 0   \n",
       "8                          0        0                                 0   \n",
       "\n",
       "   Odyssey Media  Carousel Productions  Music  \n",
       "0              0                     0      0  \n",
       "1              0                     0      0  \n",
       "3              0                     0      0  \n",
       "5              0                     0      0  \n",
       "8              0                     0      0  \n",
       "\n",
       "[5 rows x 36 columns]"
      ]
     },
     "execution_count": 126,
     "metadata": {},
     "output_type": "execute_result"
    }
   ],
   "source": [
    "df_movie_revenue_budget.head()"
   ]
  },
  {
   "cell_type": "code",
   "execution_count": 128,
   "id": "af6b8741",
   "metadata": {},
   "outputs": [
    {
     "data": {
      "text/plain": [
       "(5381, 36)"
      ]
     },
     "execution_count": 128,
     "metadata": {},
     "output_type": "execute_result"
    }
   ],
   "source": [
    "df_movie_revenue_budget.shape"
   ]
  },
  {
   "cell_type": "code",
   "execution_count": 152,
   "id": "2206a1c4",
   "metadata": {},
   "outputs": [
    {
     "data": {
      "text/plain": [
       "dtype('int64')"
      ]
     },
     "execution_count": 152,
     "metadata": {},
     "output_type": "execute_result"
    }
   ],
   "source": [
    "df_movie_revenue_budget.rename(columns = {'id':'movie_id'}, inplace = True)\n",
    "df_movie_revenue_budget[\"movie_id\"].astype(str).astype(int).dtypes"
   ]
  },
  {
   "cell_type": "code",
   "execution_count": 155,
   "id": "587ef576",
   "metadata": {},
   "outputs": [
    {
     "data": {
      "text/plain": [
       "budget                                   float64\n",
       "title                                     object\n",
       "revenue                                  float64\n",
       "movie_id                                   int64\n",
       "Aniplex                                    int64\n",
       "Comedy                                     int64\n",
       "Romance                                    int64\n",
       "Mardock Scramble Production Committee      int64\n",
       "History                                    int64\n",
       "Drama                                      int64\n",
       "Science Fiction                            int64\n",
       "War                                        int64\n",
       "Crime                                      int64\n",
       "The Cartel                                 int64\n",
       "Western                                    int64\n",
       "Foreign                                    int64\n",
       "Action                                     int64\n",
       "Thriller                                   int64\n",
       "BROSTA TV                                  int64\n",
       "Documentary                                int64\n",
       "Horror                                     int64\n",
       "Mystery                                    int64\n",
       "Animation                                  int64\n",
       "Family                                     int64\n",
       "Rogue State                                int64\n",
       "Fantasy                                    int64\n",
       "Adventure                                  int64\n",
       "TV Movie                                   int64\n",
       "Pulser Productions                         int64\n",
       "Sentai Filmworks                           int64\n",
       "Vision View Entertainment                  int64\n",
       "GoHands                                    int64\n",
       "Telescene Film Group Productions           int64\n",
       "Odyssey Media                              int64\n",
       "Carousel Productions                       int64\n",
       "Music                                      int64\n",
       "dtype: object"
      ]
     },
     "execution_count": 155,
     "metadata": {},
     "output_type": "execute_result"
    }
   ],
   "source": [
    "df_movie_revenue_budget[\"movie_id\"] = df_movie_revenue_budget[\"movie_id\"].astype(str).astype(int)\n",
    "df_movie_revenue_budget.dtypes"
   ]
  },
  {
   "cell_type": "code",
   "execution_count": 157,
   "id": "4c267d44",
   "metadata": {},
   "outputs": [],
   "source": [
    "df_movie_revenue_budget_cast = df_movie_revenue_budget.merge(df, on = \"movie_id\", how = 'left')"
   ]
  },
  {
   "cell_type": "code",
   "execution_count": 169,
   "id": "5db84817",
   "metadata": {},
   "outputs": [
    {
     "data": {
      "text/plain": [
       "(5393, 38)"
      ]
     },
     "execution_count": 169,
     "metadata": {},
     "output_type": "execute_result"
    }
   ],
   "source": [
    "df_movie_revenue_budget_cast.shape"
   ]
  },
  {
   "cell_type": "code",
   "execution_count": null,
   "id": "d7a94e05",
   "metadata": {},
   "outputs": [],
   "source": []
  }
 ],
 "metadata": {
  "kernelspec": {
   "display_name": "Python 3 (ipykernel)",
   "language": "python",
   "name": "python3"
  },
  "language_info": {
   "codemirror_mode": {
    "name": "ipython",
    "version": 3
   },
   "file_extension": ".py",
   "mimetype": "text/x-python",
   "name": "python",
   "nbconvert_exporter": "python",
   "pygments_lexer": "ipython3",
   "version": "3.9.12"
  }
 },
 "nbformat": 4,
 "nbformat_minor": 5
}
